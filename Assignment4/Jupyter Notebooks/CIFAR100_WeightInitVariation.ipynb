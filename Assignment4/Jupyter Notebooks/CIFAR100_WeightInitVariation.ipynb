{
  "nbformat": 4,
  "nbformat_minor": 0,
  "metadata": {
    "colab": {
      "name": "CIFAR100-WeightInitVariation.ipynb",
      "provenance": [],
      "collapsed_sections": []
    },
    "kernelspec": {
      "name": "python3",
      "display_name": "Python 3"
    },
    "accelerator": "GPU",
    "widgets": {
      "application/vnd.jupyter.widget-state+json": {
        "2cb3425f0a144adba975ec648e063a73": {
          "model_module": "@jupyter-widgets/controls",
          "model_name": "HBoxModel",
          "state": {
            "_view_name": "HBoxView",
            "_dom_classes": [],
            "_model_name": "HBoxModel",
            "_view_module": "@jupyter-widgets/controls",
            "_model_module_version": "1.5.0",
            "_view_count": null,
            "_view_module_version": "1.5.0",
            "box_style": "",
            "layout": "IPY_MODEL_5a04c0f755a9415294b98f1c0de9c5d0",
            "_model_module": "@jupyter-widgets/controls",
            "children": [
              "IPY_MODEL_844ce3c055db47c4b9d58beb54508fcf",
              "IPY_MODEL_0dd417c3d2ac4a72a8cc44414e0cfc0b"
            ]
          }
        },
        "5a04c0f755a9415294b98f1c0de9c5d0": {
          "model_module": "@jupyter-widgets/base",
          "model_name": "LayoutModel",
          "state": {
            "_view_name": "LayoutView",
            "grid_template_rows": null,
            "right": null,
            "justify_content": null,
            "_view_module": "@jupyter-widgets/base",
            "overflow": null,
            "_model_module_version": "1.2.0",
            "_view_count": null,
            "flex_flow": null,
            "width": null,
            "min_width": null,
            "border": null,
            "align_items": null,
            "bottom": null,
            "_model_module": "@jupyter-widgets/base",
            "top": null,
            "grid_column": null,
            "overflow_y": null,
            "overflow_x": null,
            "grid_auto_flow": null,
            "grid_area": null,
            "grid_template_columns": null,
            "flex": null,
            "_model_name": "LayoutModel",
            "justify_items": null,
            "grid_row": null,
            "max_height": null,
            "align_content": null,
            "visibility": null,
            "align_self": null,
            "height": null,
            "min_height": null,
            "padding": null,
            "grid_auto_rows": null,
            "grid_gap": null,
            "max_width": null,
            "order": null,
            "_view_module_version": "1.2.0",
            "grid_template_areas": null,
            "object_position": null,
            "object_fit": null,
            "grid_auto_columns": null,
            "margin": null,
            "display": null,
            "left": null
          }
        },
        "844ce3c055db47c4b9d58beb54508fcf": {
          "model_module": "@jupyter-widgets/controls",
          "model_name": "IntProgressModel",
          "state": {
            "_view_name": "ProgressView",
            "style": "IPY_MODEL_3649281cc4ff48c096ecb4e29d6ab1f7",
            "_dom_classes": [],
            "description": "",
            "_model_name": "IntProgressModel",
            "bar_style": "info",
            "max": 1,
            "_view_module": "@jupyter-widgets/controls",
            "_model_module_version": "1.5.0",
            "value": 1,
            "_view_count": null,
            "_view_module_version": "1.5.0",
            "orientation": "horizontal",
            "min": 0,
            "description_tooltip": null,
            "_model_module": "@jupyter-widgets/controls",
            "layout": "IPY_MODEL_75da423930d243e685c2447044cea0b1"
          }
        },
        "0dd417c3d2ac4a72a8cc44414e0cfc0b": {
          "model_module": "@jupyter-widgets/controls",
          "model_name": "HTMLModel",
          "state": {
            "_view_name": "HTMLView",
            "style": "IPY_MODEL_9f37bcfe9f8e413882d4fac48c3c909c",
            "_dom_classes": [],
            "description": "",
            "_model_name": "HTMLModel",
            "placeholder": "​",
            "_view_module": "@jupyter-widgets/controls",
            "_model_module_version": "1.5.0",
            "value": " 169009152/? [00:30&lt;00:00, 13592909.46it/s]",
            "_view_count": null,
            "_view_module_version": "1.5.0",
            "description_tooltip": null,
            "_model_module": "@jupyter-widgets/controls",
            "layout": "IPY_MODEL_b35d2e07bd9240afa356a682c87a1444"
          }
        },
        "3649281cc4ff48c096ecb4e29d6ab1f7": {
          "model_module": "@jupyter-widgets/controls",
          "model_name": "ProgressStyleModel",
          "state": {
            "_view_name": "StyleView",
            "_model_name": "ProgressStyleModel",
            "description_width": "initial",
            "_view_module": "@jupyter-widgets/base",
            "_model_module_version": "1.5.0",
            "_view_count": null,
            "_view_module_version": "1.2.0",
            "bar_color": null,
            "_model_module": "@jupyter-widgets/controls"
          }
        },
        "75da423930d243e685c2447044cea0b1": {
          "model_module": "@jupyter-widgets/base",
          "model_name": "LayoutModel",
          "state": {
            "_view_name": "LayoutView",
            "grid_template_rows": null,
            "right": null,
            "justify_content": null,
            "_view_module": "@jupyter-widgets/base",
            "overflow": null,
            "_model_module_version": "1.2.0",
            "_view_count": null,
            "flex_flow": null,
            "width": null,
            "min_width": null,
            "border": null,
            "align_items": null,
            "bottom": null,
            "_model_module": "@jupyter-widgets/base",
            "top": null,
            "grid_column": null,
            "overflow_y": null,
            "overflow_x": null,
            "grid_auto_flow": null,
            "grid_area": null,
            "grid_template_columns": null,
            "flex": null,
            "_model_name": "LayoutModel",
            "justify_items": null,
            "grid_row": null,
            "max_height": null,
            "align_content": null,
            "visibility": null,
            "align_self": null,
            "height": null,
            "min_height": null,
            "padding": null,
            "grid_auto_rows": null,
            "grid_gap": null,
            "max_width": null,
            "order": null,
            "_view_module_version": "1.2.0",
            "grid_template_areas": null,
            "object_position": null,
            "object_fit": null,
            "grid_auto_columns": null,
            "margin": null,
            "display": null,
            "left": null
          }
        },
        "9f37bcfe9f8e413882d4fac48c3c909c": {
          "model_module": "@jupyter-widgets/controls",
          "model_name": "DescriptionStyleModel",
          "state": {
            "_view_name": "StyleView",
            "_model_name": "DescriptionStyleModel",
            "description_width": "",
            "_view_module": "@jupyter-widgets/base",
            "_model_module_version": "1.5.0",
            "_view_count": null,
            "_view_module_version": "1.2.0",
            "_model_module": "@jupyter-widgets/controls"
          }
        },
        "b35d2e07bd9240afa356a682c87a1444": {
          "model_module": "@jupyter-widgets/base",
          "model_name": "LayoutModel",
          "state": {
            "_view_name": "LayoutView",
            "grid_template_rows": null,
            "right": null,
            "justify_content": null,
            "_view_module": "@jupyter-widgets/base",
            "overflow": null,
            "_model_module_version": "1.2.0",
            "_view_count": null,
            "flex_flow": null,
            "width": null,
            "min_width": null,
            "border": null,
            "align_items": null,
            "bottom": null,
            "_model_module": "@jupyter-widgets/base",
            "top": null,
            "grid_column": null,
            "overflow_y": null,
            "overflow_x": null,
            "grid_auto_flow": null,
            "grid_area": null,
            "grid_template_columns": null,
            "flex": null,
            "_model_name": "LayoutModel",
            "justify_items": null,
            "grid_row": null,
            "max_height": null,
            "align_content": null,
            "visibility": null,
            "align_self": null,
            "height": null,
            "min_height": null,
            "padding": null,
            "grid_auto_rows": null,
            "grid_gap": null,
            "max_width": null,
            "order": null,
            "_view_module_version": "1.2.0",
            "grid_template_areas": null,
            "object_position": null,
            "object_fit": null,
            "grid_auto_columns": null,
            "margin": null,
            "display": null,
            "left": null
          }
        }
      }
    }
  },
  "cells": [
    {
      "cell_type": "code",
      "metadata": {
        "id": "vRSitxHW8L-y",
        "colab_type": "code",
        "colab": {}
      },
      "source": [
        "import torch\n",
        "import torch.nn as nn\n",
        "import torchvision.datasets as dsets\n",
        "import torchvision.transforms as transforms\n",
        "from torch.autograd import Variable\n",
        "import torchvision\n",
        "import torch.nn as nn\n",
        "import torch.nn.functional as F\n",
        "import torch.optim as optim\n",
        "import numpy as np\n",
        "import matplotlib.pyplot as plt"
      ],
      "execution_count": 0,
      "outputs": []
    },
    {
      "cell_type": "code",
      "metadata": {
        "id": "oIdoeIK68kEF",
        "colab_type": "code",
        "outputId": "0c82a181-72df-4541-c468-0d553e13a5ef",
        "colab": {
          "base_uri": "https://localhost:8080/",
          "height": 82,
          "referenced_widgets": [
            "2cb3425f0a144adba975ec648e063a73",
            "5a04c0f755a9415294b98f1c0de9c5d0",
            "844ce3c055db47c4b9d58beb54508fcf",
            "0dd417c3d2ac4a72a8cc44414e0cfc0b",
            "3649281cc4ff48c096ecb4e29d6ab1f7",
            "75da423930d243e685c2447044cea0b1",
            "9f37bcfe9f8e413882d4fac48c3c909c",
            "b35d2e07bd9240afa356a682c87a1444"
          ]
        }
      },
      "source": [
        "# Define transformations for the train set\n",
        "train_transformations = transforms.Compose([\n",
        "    transforms.RandomHorizontalFlip(),\n",
        "    transforms.RandomCrop(32,padding=4),\n",
        "    transforms.ToTensor(),\n",
        "    transforms.Normalize((0.5,0.5,0.5), (0.5,0.5,0.5))\n",
        "])\n",
        "trainset = torchvision.datasets.CIFAR100(root='./data', train=True, download=True,transform=train_transformations)\n",
        "trainloader = torch.utils.data.DataLoader(trainset, batch_size=64, shuffle=True, num_workers=2)"
      ],
      "execution_count": 0,
      "outputs": [
        {
          "output_type": "stream",
          "text": [
            "Downloading https://www.cs.toronto.edu/~kriz/cifar-100-python.tar.gz to ./data/cifar-100-python.tar.gz\n"
          ],
          "name": "stdout"
        },
        {
          "output_type": "display_data",
          "data": {
            "application/vnd.jupyter.widget-view+json": {
              "model_id": "2cb3425f0a144adba975ec648e063a73",
              "version_minor": 0,
              "version_major": 2
            },
            "text/plain": [
              "HBox(children=(IntProgress(value=1, bar_style='info', max=1), HTML(value='')))"
            ]
          },
          "metadata": {
            "tags": []
          }
        },
        {
          "output_type": "stream",
          "text": [
            "Extracting ./data/cifar-100-python.tar.gz to ./data\n"
          ],
          "name": "stdout"
        }
      ]
    },
    {
      "cell_type": "code",
      "metadata": {
        "id": "ggrL2gCcg4x3",
        "colab_type": "code",
        "outputId": "8e073c21-d2aa-4c09-cdb4-c9ddaa198774",
        "colab": {
          "base_uri": "https://localhost:8080/",
          "height": 34
        }
      },
      "source": [
        "# Define transformations for the test set\n",
        "test_transformations = transforms.Compose([\n",
        "    transforms.ToTensor(),\n",
        "    transforms.Normalize((0.5, 0.5, 0.5), (0.5, 0.5, 0.5))\n",
        "\n",
        "])\n",
        "\n",
        "testset = torchvision.datasets.CIFAR100(root='./data', train=False, download=True,transform=test_transformations)\n",
        "testloader = torch.utils.data.DataLoader(testset, batch_size=64, shuffle=False, num_workers=2)"
      ],
      "execution_count": 0,
      "outputs": [
        {
          "output_type": "stream",
          "text": [
            "Files already downloaded and verified\n"
          ],
          "name": "stdout"
        }
      ]
    },
    {
      "cell_type": "code",
      "metadata": {
        "id": "plQzWUvHg0TC",
        "colab_type": "code",
        "outputId": "d82d02a9-7cda-4a78-aacc-d9561bf33e96",
        "colab": {
          "base_uri": "https://localhost:8080/",
          "height": 34
        }
      },
      "source": [
        "device = torch.device(\"cuda:0\" if torch.cuda.is_available() else \"cpu\")\n",
        "print(device)"
      ],
      "execution_count": 0,
      "outputs": [
        {
          "output_type": "stream",
          "text": [
            "cuda:0\n"
          ],
          "name": "stdout"
        }
      ]
    },
    {
      "cell_type": "code",
      "metadata": {
        "id": "OKlNs99dDSTp",
        "colab_type": "code",
        "colab": {}
      },
      "source": [
        "#converting into an iterable object\n",
        "trainiter = iter(trainloader)\n",
        "testiter = iter(testloader)"
      ],
      "execution_count": 0,
      "outputs": []
    },
    {
      "cell_type": "code",
      "metadata": {
        "id": "zofpwYnVLFzm",
        "colab_type": "code",
        "outputId": "ce7f3ed9-2a74-44b7-8c41-dfcf29496a34",
        "colab": {
          "base_uri": "https://localhost:8080/",
          "height": 367
        }
      },
      "source": [
        "#Analyzing one sample and display one particular image\n",
        "image, label = trainiter.next()\n",
        "print(type(image))\n",
        "print(image.size())\n",
        "print(label.size())\n",
        "\n",
        "img = image[0,:].numpy();\n",
        "img=np.transpose(img,(1,2,0))\n",
        "l=label[0].numpy()\n",
        "print(l)\n",
        "plt.imshow(img)"
      ],
      "execution_count": 0,
      "outputs": [
        {
          "output_type": "stream",
          "text": [
            "Clipping input data to the valid range for imshow with RGB data ([0..1] for floats or [0..255] for integers).\n"
          ],
          "name": "stderr"
        },
        {
          "output_type": "stream",
          "text": [
            "<class 'torch.Tensor'>\n",
            "torch.Size([64, 3, 32, 32])\n",
            "torch.Size([64])\n",
            "77\n"
          ],
          "name": "stdout"
        },
        {
          "output_type": "execute_result",
          "data": {
            "text/plain": [
              "<matplotlib.image.AxesImage at 0x7fcf65e49048>"
            ]
          },
          "metadata": {
            "tags": []
          },
          "execution_count": 6
        },
        {
          "output_type": "display_data",
          "data": {
            "image/png": "[encoded data removed]",
            "text/plain": [
              "<Figure size 432x288 with 1 Axes>"
            ]
          },
          "metadata": {
            "tags": [],
            "needs_background": "light"
          }
        }
      ]
    },
    {
      "cell_type": "code",
      "metadata": {
        "id": "TAHqE_Dtf8QC",
        "colab_type": "code",
        "colab": {}
      },
      "source": [
        "class Unit(nn.Module):\n",
        "    def __init__(self,in_channels,out_channels,is_bn=True):\n",
        "        super(Unit,self).__init__()\n",
        "        self.is_bn = is_bn\n",
        "        \n",
        "\n",
        "        self.conv = nn.Conv2d(in_channels=in_channels,kernel_size=3,out_channels=out_channels,stride=1,padding=1)\n",
        "        if self.is_bn:\n",
        "            self.bn = nn.BatchNorm2d(num_features=out_channels)\n",
        "        self.relu = nn.ReLU(inplace=True)\n",
        "\n",
        "    def forward(self,input):\n",
        "        output = self.conv(input)\n",
        "        if self.is_bn:\n",
        "            output = self.bn(output)\n",
        "        output = self.relu(output)\n",
        "\n",
        "        return output"
      ],
      "execution_count": 0,
      "outputs": []
    },
    {
      "cell_type": "code",
      "metadata": {
        "id": "H-MjbMq58nKq",
        "colab_type": "code",
        "colab": {}
      },
      "source": [
        "class Model1(nn.Module):\n",
        "    def __init__(self,num_classes=100,is_bn=True):\n",
        "        super(Model1,self).__init__()\n",
        "\n",
        "        self.unit1 = Unit(in_channels=3,out_channels=64,is_bn=is_bn)\n",
        "        self.unit2 = Unit(in_channels=64,out_channels=64,is_bn=is_bn)\n",
        "        \n",
        "        self.pool1 = nn.MaxPool2d(kernel_size=2)\n",
        "\n",
        "        self.unit3 = Unit(in_channels=64,out_channels=128,is_bn=is_bn)\n",
        "        self.unit4 = Unit(in_channels=128,out_channels=128,is_bn=is_bn)\n",
        "        \n",
        "        self.pool2 = nn.MaxPool2d(kernel_size=2)\n",
        "\n",
        "        self.unit5 = Unit(in_channels=128,out_channels=256,is_bn=is_bn)\n",
        "        self.unit6 = Unit(in_channels=256,out_channels=256,is_bn=is_bn)\n",
        "        \n",
        "        self.pool3 = nn.MaxPool2d(kernel_size=2)\n",
        "\n",
        "        self.unit7 = Unit(in_channels=256,out_channels=512,is_bn=is_bn)\n",
        "        self.unit8 = Unit(in_channels=512,out_channels=512,is_bn=is_bn)\n",
        "        \n",
        "        self.pool4 = nn.MaxPool2d(kernel_size=2)\n",
        "\n",
        "        self.unit9 = Unit(in_channels=512,out_channels=512,is_bn=is_bn)\n",
        "        self.unit10 = Unit(in_channels=512,out_channels=512,is_bn=is_bn)\n",
        "        \n",
        "        self.pool5 = nn.MaxPool2d(kernel_size=2)\n",
        "\n",
        "\n",
        "        self.net = nn.Sequential(\n",
        "            self.unit1,\n",
        "            self.unit2,\n",
        "            self.pool1,\n",
        "            self.unit3,\n",
        "            self.unit4,\n",
        "            self.pool2,\n",
        "            self.unit5,\n",
        "            self.unit6,\n",
        "            self.pool3,\n",
        "            self.unit7,\n",
        "            self.unit8,\n",
        "            self.pool4,\n",
        "            self.unit9,\n",
        "            self.unit10,\n",
        "            self.pool5,\n",
        "        )\n",
        "\n",
        "        self.classifier = nn.Sequential(\n",
        "            nn.Linear(512, 4096),\n",
        "            nn.ReLU(inplace=True),\n",
        "            nn.Dropout(),\n",
        "            nn.Linear(4096, 4096),\n",
        "            nn.ReLU(inplace=True),\n",
        "            nn.Dropout(),\n",
        "            nn.Linear(4096, num_classes)\n",
        "        )\n",
        "\n",
        "    def forward(self, input):\n",
        "        output = self.net(input)\n",
        "        output = output.view(output.size()[0], -1)\n",
        "        output = self.classifier(output)\n",
        "        return output"
      ],
      "execution_count": 0,
      "outputs": []
    },
    {
      "cell_type": "code",
      "metadata": {
        "id": "5E2F60OsgAPn",
        "colab_type": "code",
        "colab": {}
      },
      "source": [
        "class Model2(nn.Module):\n",
        "    def __init__(self,num_classes=100):\n",
        "        super(Model2,self).__init__()\n",
        "\n",
        "        self.unit1 = Unit(in_channels=3,out_channels=64)\n",
        "        \n",
        "        self.pool1 = nn.MaxPool2d(kernel_size=2)\n",
        "\n",
        "        self.unit2 = Unit(in_channels=64,out_channels=128)\n",
        "        \n",
        "        self.pool2 = nn.MaxPool2d(kernel_size=2)\n",
        "\n",
        "        self.unit3 = Unit(in_channels=128,out_channels=256)\n",
        "        self.unit4 = Unit(in_channels=256,out_channels=256)\n",
        "        \n",
        "        self.pool3 = nn.MaxPool2d(kernel_size=2)\n",
        "\n",
        "        self.unit5 = Unit(in_channels=256,out_channels=512)\n",
        "        self.unit6 = Unit(in_channels=512,out_channels=512)\n",
        "        \n",
        "        self.pool4 = nn.MaxPool2d(kernel_size=2)\n",
        "\n",
        "        self.unit7 = Unit(in_channels=512,out_channels=512)\n",
        "        self.unit8 = Unit(in_channels=512,out_channels=512)\n",
        "        \n",
        "        self.pool5 = nn.MaxPool2d(kernel_size=2)\n",
        "\n",
        "\n",
        "        self.net = nn.Sequential(\n",
        "            self.unit1,\n",
        "            self.pool1,\n",
        "            self.unit2,\n",
        "            self.pool2,\n",
        "            self.unit3,\n",
        "            self.unit4,\n",
        "            self.pool3,\n",
        "            self.unit5,\n",
        "            self.unit6,\n",
        "            self.pool4,\n",
        "            self.unit7,\n",
        "            self.unit8,\n",
        "            self.pool5,\n",
        "        )\n",
        "\n",
        "        self.classifier = nn.Sequential(\n",
        "            nn.Linear(512, 4096),\n",
        "            nn.ReLU(inplace=True),\n",
        "            nn.Dropout(),\n",
        "            nn.Linear(4096, 4096),\n",
        "            nn.ReLU(inplace=True),\n",
        "            nn.Dropout(),\n",
        "            nn.Linear(4096, num_classes)\n",
        "        )\n",
        "\n",
        "    def forward(self, input):\n",
        "        output = self.net(input)\n",
        "        output = output.view(output.size()[0], -1)\n",
        "        output = self.classifier(output)\n",
        "        return output"
      ],
      "execution_count": 0,
      "outputs": []
    },
    {
      "cell_type": "code",
      "metadata": {
        "id": "I4z9zqfjgAnW",
        "colab_type": "code",
        "colab": {}
      },
      "source": [
        "class Model3(nn.Module):\n",
        "    def __init__(self,num_classes=100):\n",
        "        super(Model3,self).__init__()\n",
        "\n",
        "        self.unit1 = Unit(in_channels=3,out_channels=64)\n",
        "        \n",
        "        self.pool1 = nn.MaxPool2d(kernel_size=2)\n",
        "\n",
        "        self.unit2 = Unit(in_channels=64,out_channels=128)\n",
        "        \n",
        "        self.pool2 = nn.MaxPool2d(kernel_size=2)\n",
        "\n",
        "        self.unit3 = Unit(in_channels=128,out_channels=256)\n",
        "        \n",
        "        self.pool3 = nn.MaxPool2d(kernel_size=2)\n",
        "\n",
        "        self.unit4 = Unit(in_channels=256,out_channels=512)\n",
        "        \n",
        "        self.pool4 = nn.MaxPool2d(kernel_size=2)\n",
        "\n",
        "        self.unit5 = Unit(in_channels=512,out_channels=512)\n",
        "        \n",
        "        self.pool5 = nn.MaxPool2d(kernel_size=2)\n",
        "\n",
        "\n",
        "        self.net = nn.Sequential(\n",
        "            self.unit1,\n",
        "            self.pool1,\n",
        "            self.unit2,\n",
        "            self.pool2,\n",
        "            self.unit3,\n",
        "            self.pool3,\n",
        "            self.unit4,\n",
        "            self.pool4,\n",
        "            self.unit5,\n",
        "            self.pool5,\n",
        "        )\n",
        "\n",
        "        self.classifier = nn.Sequential(\n",
        "            nn.Linear(512, 4096),\n",
        "            nn.ReLU(inplace=True),\n",
        "            nn.Dropout(),\n",
        "            nn.Linear(4096, 4096),\n",
        "            nn.ReLU(inplace=True),\n",
        "            nn.Dropout(),\n",
        "            nn.Linear(4096, num_classes)\n",
        "        )\n",
        "\n",
        "    def forward(self, input):\n",
        "        output = self.net(input)\n",
        "        output = output.view(output.size()[0], -1)\n",
        "        output = self.classifier(output)\n",
        "        return output"
      ],
      "execution_count": 0,
      "outputs": []
    },
    {
      "cell_type": "code",
      "metadata": {
        "id": "KQZk-wBy8pIJ",
        "colab_type": "code",
        "colab": {}
      },
      "source": [
        "def adjust_learning_rate(optimizer, epoch):\n",
        "    lr = 0.001\n",
        "\n",
        "    if epoch > 180:\n",
        "        lr = lr / 1000000\n",
        "    elif epoch > 150:\n",
        "        lr = lr / 100000\n",
        "    elif epoch > 120:\n",
        "        lr = lr / 10000\n",
        "    elif epoch > 90:\n",
        "        lr = lr / 1000\n",
        "    elif epoch > 60:\n",
        "        lr = lr / 100\n",
        "    elif epoch > 30:\n",
        "        lr = lr / 10\n",
        "\n",
        "    for param_group in optimizer.param_groups:\n",
        "        param_group[\"lr\"] = lr\n",
        "\n",
        "def correct(groundTruth,output):\n",
        "  assert groundTruth.size(0) == output.size(0)\n",
        "  _, indices = torch.max(output, 1)\n",
        "  ch=torch.eq(groundTruth,indices)\n",
        "  return torch.sum(ch).item()\n",
        "  \n",
        "def train(net, nepochs, criterion, optimizer, batchSize):   \n",
        "  trainAcc=[];testAcc=[];\n",
        "  trainLoss=[];testLoss=[];\n",
        "\n",
        "  totalTrainSamples=len(trainloader.dataset)\n",
        "  print(\"Total training samples :\", totalTrainSamples)\n",
        "  totalTestSamples=len(testloader.dataset);\n",
        "  print(\"Total testing samples :\", totalTestSamples)\n",
        "\n",
        "  for epoch in range(nepochs):\n",
        "\n",
        "      #TRAINING\n",
        "      running_loss_train = 0.0\n",
        "      numCorr_train=0;\n",
        "      net.train()\n",
        "      \n",
        "      for i, data in enumerate(trainloader, 0):  \n",
        "          inputs, labels = data[0].to(device), data[1].to(device)\n",
        "          optimizer.zero_grad()\n",
        "          outputs = net(inputs)\n",
        "          numCorr_train+=correct(labels,outputs)      \n",
        "          loss = criterion(outputs, labels)\n",
        "          loss.backward()\n",
        "          optimizer.step()\n",
        "          running_loss_train += loss.item()\n",
        "                \n",
        "      trainAcc.append((numCorr_train/totalTrainSamples)*100)\n",
        "      trainLoss.append(running_loss_train/totalTrainSamples)\n",
        "\n",
        "      adjust_learning_rate(optimizer=optimizer, epoch=epoch)\n",
        "      \n",
        "      #TESTING\n",
        "      net.eval()\n",
        "      running_loss_test = 0.0\n",
        "      numCorr_test=0;\n",
        "      for i, data in enumerate(testloader, 0):\n",
        "          inputs, labels = data[0].to(device), data[1].to(device)\n",
        "          outputs = net(inputs)\n",
        "          numCorr_test+=correct(labels,outputs)\n",
        "          loss = criterion(outputs, labels)      \n",
        "          running_loss_test += loss.item()\n",
        "      \n",
        "      testAcc.append((numCorr_test/totalTestSamples)*100)\n",
        "      testLoss.append(running_loss_test/totalTestSamples)\n",
        "\n",
        "      print(\"Epoch: {} | Train Loss: {} | Train Accuracy: {}% | Test Loss: {} | Test Accuracy: {}%\".format(epoch, running_loss_train/totalTrainSamples, round((numCorr_train/totalTrainSamples)*100,2), running_loss_test/totalTestSamples, round((numCorr_test/totalTestSamples)*100,2)))\n",
        "      if epoch % 20 == 0:\n",
        "        torch.save(net.state_dict(), 'checkpoint_{}.pth'.format(epoch))\n",
        "\n",
        "  return net, trainAcc, testAcc, trainLoss, testLoss"
      ],
      "execution_count": 0,
      "outputs": []
    },
    {
      "cell_type": "code",
      "metadata": {
        "id": "lp8NJTXHhqIy",
        "colab_type": "code",
        "outputId": "f426fb2c-cf88-4d3a-c0cf-880ca05da496",
        "colab": {
          "base_uri": "https://localhost:8080/",
          "height": 1000
        }
      },
      "source": [
        "print(\"Model{} with {} initialization {} and {} Loss {} Batch Normalisation\".format(1, 'Uniform Xavier', 'Adaptive Learning Rate', 'Cross Entropy', 'No'))\n",
        "net_kmuni = Model1(100,is_bn=True)\n",
        "net_kmuni.to(device)\n",
        "criterion = nn.CrossEntropyLoss()\n",
        "momentum=0.09\n",
        "nepochs=100\n",
        "optimizer=optim.Adam(net_kmuni.parameters(), lr=0.001, weight_decay=0.0001)\n",
        "batchSize=128\n",
        "\n",
        "net_kmuni, trainAcc_nbn, testAcc_nbn, trainLoss_nbn, testLoss_nbn = train(net=net_kmuni, nepochs=nepochs, criterion=criterion, optimizer=optimizer, batchSize=batchSize)"
      ],
      "execution_count": 0,
      "outputs": [
        {
          "output_type": "stream",
          "text": [
            "Model1 with Uniform Xavier initialization Adaptive Learning Rate and Cross Entropy Loss No Batch Normalisation\n",
            "Total training samples : 50000\n",
            "Total testing samples : 10000\n",
            "Epoch: 0 | Train Loss: 0.06788291872501373 | Train Accuracy: 2.7% | Test Loss: 0.06506695263385773 | Test Accuracy: 4.06%\n",
            "Epoch: 1 | Train Loss: 0.06456511042594909 | Train Accuracy: 4.45% | Test Loss: 0.061963505530357364 | Test Accuracy: 5.79%\n",
            "Epoch: 2 | Train Loss: 0.06183986969947815 | Train Accuracy: 6.3% | Test Loss: 0.061136026334762575 | Test Accuracy: 7.13%\n",
            "Epoch: 3 | Train Loss: 0.05820420229434967 | Train Accuracy: 8.57% | Test Loss: 0.055626006960868835 | Test Accuracy: 11.02%\n",
            "Epoch: 4 | Train Loss: 0.054903833017349246 | Train Accuracy: 11.65% | Test Loss: 0.051794391298294065 | Test Accuracy: 15.23%\n",
            "Epoch: 5 | Train Loss: 0.05172947814941406 | Train Accuracy: 14.76% | Test Loss: 0.04831062443256378 | Test Accuracy: 18.34%\n",
            "Epoch: 6 | Train Loss: 0.04883733610630035 | Train Accuracy: 18.16% | Test Loss: 0.045276349115371706 | Test Accuracy: 22.79%\n",
            "Epoch: 7 | Train Loss: 0.04577995810508728 | Train Accuracy: 21.93% | Test Loss: 0.04428800556659698 | Test Accuracy: 24.35%\n",
            "Epoch: 8 | Train Loss: 0.043041769132614136 | Train Accuracy: 25.84% | Test Loss: 0.04015717458724975 | Test Accuracy: 31.27%\n",
            "Epoch: 9 | Train Loss: 0.04059372000694275 | Train Accuracy: 29.59% | Test Loss: 0.03939810985326767 | Test Accuracy: 31.91%\n",
            "Epoch: 10 | Train Loss: 0.038366123189926146 | Train Accuracy: 32.49% | Test Loss: 0.03526413482427597 | Test Accuracy: 37.27%\n",
            "Epoch: 11 | Train Loss: 0.03641019023895264 | Train Accuracy: 36.12% | Test Loss: 0.034660729122161865 | Test Accuracy: 38.66%\n",
            "Epoch: 12 | Train Loss: 0.03477345281362534 | Train Accuracy: 38.8% | Test Loss: 0.03287146847248077 | Test Accuracy: 42.26%\n",
            "Epoch: 13 | Train Loss: 0.033334606213569644 | Train Accuracy: 41.34% | Test Loss: 0.031201967358589173 | Test Accuracy: 45.29%\n",
            "Epoch: 14 | Train Loss: 0.03198547983646393 | Train Accuracy: 43.75% | Test Loss: 0.030408940184116363 | Test Accuracy: 46.38%\n",
            "Epoch: 15 | Train Loss: 0.03073208949327469 | Train Accuracy: 45.71% | Test Loss: 0.02997648561000824 | Test Accuracy: 47.26%\n",
            "Epoch: 16 | Train Loss: 0.02954806324481964 | Train Accuracy: 47.88% | Test Loss: 0.03104589693546295 | Test Accuracy: 47.21%\n",
            "Epoch: 17 | Train Loss: 0.028640218856334686 | Train Accuracy: 49.41% | Test Loss: 0.02828956367969513 | Test Accuracy: 50.09%\n",
            "Epoch: 18 | Train Loss: 0.02779512353181839 | Train Accuracy: 50.77% | Test Loss: 0.027106040692329407 | Test Accuracy: 52.4%\n",
            "Epoch: 19 | Train Loss: 0.02688561372756958 | Train Accuracy: 52.34% | Test Loss: 0.027897604513168334 | Test Accuracy: 51.45%\n",
            "Epoch: 20 | Train Loss: 0.026093949558734893 | Train Accuracy: 53.45% | Test Loss: 0.0261559393286705 | Test Accuracy: 54.07%\n",
            "Epoch: 21 | Train Loss: 0.02548642480015755 | Train Accuracy: 54.65% | Test Loss: 0.027409276485443116 | Test Accuracy: 53.34%\n",
            "Epoch: 22 | Train Loss: 0.024773616988658907 | Train Accuracy: 55.91% | Test Loss: 0.026229986262321474 | Test Accuracy: 54.82%\n",
            "Epoch: 23 | Train Loss: 0.024221639733314513 | Train Accuracy: 56.88% | Test Loss: 0.02595360770225525 | Test Accuracy: 55.07%\n",
            "Epoch: 24 | Train Loss: 0.023635387737751007 | Train Accuracy: 57.99% | Test Loss: 0.025705346965789796 | Test Accuracy: 55.65%\n",
            "Epoch: 25 | Train Loss: 0.022979429222345353 | Train Accuracy: 59.27% | Test Loss: 0.025380728244781495 | Test Accuracy: 56.5%\n",
            "Epoch: 26 | Train Loss: 0.022615165194272997 | Train Accuracy: 59.88% | Test Loss: 0.02448616024851799 | Test Accuracy: 57.75%\n",
            "Epoch: 27 | Train Loss: 0.021991427474021913 | Train Accuracy: 60.81% | Test Loss: 0.027982046341896057 | Test Accuracy: 53.83%\n",
            "Epoch: 28 | Train Loss: 0.021727027674913406 | Train Accuracy: 61.36% | Test Loss: 0.024548089557886125 | Test Accuracy: 58.35%\n",
            "Epoch: 29 | Train Loss: 0.021448205406665803 | Train Accuracy: 61.8% | Test Loss: 0.024807970350980757 | Test Accuracy: 57.96%\n",
            "Epoch: 30 | Train Loss: 0.02095809810757637 | Train Accuracy: 62.82% | Test Loss: 0.025402647840976716 | Test Accuracy: 56.9%\n",
            "Epoch: 31 | Train Loss: 0.020714870948791504 | Train Accuracy: 63.54% | Test Loss: 0.0238528297662735 | Test Accuracy: 58.76%\n",
            "Epoch: 32 | Train Loss: 0.016655456305742264 | Train Accuracy: 69.79% | Test Loss: 0.02072678904533386 | Test Accuracy: 64.05%\n",
            "Epoch: 33 | Train Loss: 0.015107744530439378 | Train Accuracy: 72.06% | Test Loss: 0.020708862525224685 | Test Accuracy: 64.53%\n",
            "Epoch: 34 | Train Loss: 0.014455143399834633 | Train Accuracy: 73.27% | Test Loss: 0.020712508809566498 | Test Accuracy: 64.67%\n",
            "Epoch: 35 | Train Loss: 0.014029678700566291 | Train Accuracy: 73.8% | Test Loss: 0.020606344574689864 | Test Accuracy: 64.88%\n",
            "Epoch: 36 | Train Loss: 0.013535904326438903 | Train Accuracy: 74.86% | Test Loss: 0.020534940248727797 | Test Accuracy: 64.81%\n",
            "Epoch: 37 | Train Loss: 0.013465935537219047 | Train Accuracy: 74.93% | Test Loss: 0.020625844794511794 | Test Accuracy: 65.22%\n",
            "Epoch: 38 | Train Loss: 0.013113647110462189 | Train Accuracy: 75.58% | Test Loss: 0.020575345075130463 | Test Accuracy: 65.48%\n",
            "Epoch: 39 | Train Loss: 0.012760511997938156 | Train Accuracy: 76.07% | Test Loss: 0.020703828954696656 | Test Accuracy: 65.16%\n",
            "Epoch: 40 | Train Loss: 0.01254488108932972 | Train Accuracy: 76.48% | Test Loss: 0.020812082755565644 | Test Accuracy: 65.15%\n",
            "Epoch: 41 | Train Loss: 0.012338037357926369 | Train Accuracy: 76.77% | Test Loss: 0.020694275891780852 | Test Accuracy: 65.42%\n",
            "Epoch: 42 | Train Loss: 0.012032995637059212 | Train Accuracy: 77.32% | Test Loss: 0.02078798949122429 | Test Accuracy: 65.66%\n",
            "Epoch: 43 | Train Loss: 0.011876673380732537 | Train Accuracy: 77.52% | Test Loss: 0.02069812917113304 | Test Accuracy: 65.7%\n",
            "Epoch: 44 | Train Loss: 0.011663141233325005 | Train Accuracy: 77.98% | Test Loss: 0.020775347876548767 | Test Accuracy: 65.78%\n",
            "Epoch: 45 | Train Loss: 0.01148653653204441 | Train Accuracy: 78.11% | Test Loss: 0.020767813897132874 | Test Accuracy: 66.09%\n",
            "Epoch: 46 | Train Loss: 0.011266665745377541 | Train Accuracy: 78.82% | Test Loss: 0.020926511681079864 | Test Accuracy: 65.43%\n",
            "Epoch: 47 | Train Loss: 0.011070157212018967 | Train Accuracy: 78.94% | Test Loss: 0.021448011708259582 | Test Accuracy: 65.4%\n",
            "Epoch: 48 | Train Loss: 0.010989071083664894 | Train Accuracy: 79.11% | Test Loss: 0.020938542449474334 | Test Accuracy: 65.97%\n",
            "Epoch: 49 | Train Loss: 0.010745652352571487 | Train Accuracy: 79.56% | Test Loss: 0.021185534656047823 | Test Accuracy: 65.83%\n",
            "Epoch: 50 | Train Loss: 0.01064135843217373 | Train Accuracy: 79.63% | Test Loss: 0.021502012234926225 | Test Accuracy: 65.58%\n",
            "Epoch: 51 | Train Loss: 0.01037953506410122 | Train Accuracy: 79.99% | Test Loss: 0.02124162713289261 | Test Accuracy: 65.74%\n",
            "Epoch: 52 | Train Loss: 0.010209537997841835 | Train Accuracy: 80.42% | Test Loss: 0.02115606596469879 | Test Accuracy: 65.91%\n",
            "Epoch: 53 | Train Loss: 0.010161772249639035 | Train Accuracy: 80.44% | Test Loss: 0.021586384850740433 | Test Accuracy: 65.82%\n",
            "Epoch: 54 | Train Loss: 0.009955392040610314 | Train Accuracy: 80.98% | Test Loss: 0.021701200276613236 | Test Accuracy: 65.72%\n",
            "Epoch: 55 | Train Loss: 0.009931957816183567 | Train Accuracy: 80.91% | Test Loss: 0.021664431601762773 | Test Accuracy: 65.81%\n",
            "Epoch: 56 | Train Loss: 0.0096379010617733 | Train Accuracy: 81.49% | Test Loss: 0.021862807089090348 | Test Accuracy: 65.99%\n",
            "Epoch: 57 | Train Loss: 0.009631842713057994 | Train Accuracy: 81.61% | Test Loss: 0.021740076816082 | Test Accuracy: 65.91%\n",
            "Epoch: 58 | Train Loss: 0.009570560082793236 | Train Accuracy: 81.46% | Test Loss: 0.0217587557554245 | Test Accuracy: 66.39%\n",
            "Epoch: 59 | Train Loss: 0.009252362033724785 | Train Accuracy: 81.95% | Test Loss: 0.02158229084610939 | Test Accuracy: 66.28%\n",
            "Epoch: 60 | Train Loss: 0.00912891182512045 | Train Accuracy: 82.26% | Test Loss: 0.02214422861337662 | Test Accuracy: 66.21%\n",
            "Epoch: 61 | Train Loss: 0.0089844176954031 | Train Accuracy: 82.76% | Test Loss: 0.021761009365320206 | Test Accuracy: 65.93%\n",
            "Epoch: 62 | Train Loss: 0.00855075136899948 | Train Accuracy: 83.5% | Test Loss: 0.021822728902101518 | Test Accuracy: 66.41%\n",
            "Epoch: 63 | Train Loss: 0.008248921850621701 | Train Accuracy: 84.03% | Test Loss: 0.021827691519260405 | Test Accuracy: 66.7%\n",
            "Epoch: 64 | Train Loss: 0.008372645369768143 | Train Accuracy: 83.66% | Test Loss: 0.022100224101543428 | Test Accuracy: 66.48%\n",
            "Epoch: 65 | Train Loss: 0.008249508421719074 | Train Accuracy: 83.98% | Test Loss: 0.022140677565336227 | Test Accuracy: 66.57%\n",
            "Epoch: 66 | Train Loss: 0.008230121934115887 | Train Accuracy: 84.0% | Test Loss: 0.02204098406434059 | Test Accuracy: 66.76%\n",
            "Epoch: 67 | Train Loss: 0.008252728450000286 | Train Accuracy: 83.91% | Test Loss: 0.022077784889936447 | Test Accuracy: 66.43%\n",
            "Epoch: 68 | Train Loss: 0.008147722993791103 | Train Accuracy: 84.12% | Test Loss: 0.022049648201465606 | Test Accuracy: 66.61%\n",
            "Epoch: 69 | Train Loss: 0.008054439761340617 | Train Accuracy: 84.23% | Test Loss: 0.022226202696561812 | Test Accuracy: 66.63%\n",
            "Epoch: 70 | Train Loss: 0.008044576681852341 | Train Accuracy: 84.27% | Test Loss: 0.022116665083169937 | Test Accuracy: 66.74%\n",
            "Epoch: 71 | Train Loss: 0.008014515452384949 | Train Accuracy: 84.11% | Test Loss: 0.022316680800914764 | Test Accuracy: 66.31%\n",
            "Epoch: 72 | Train Loss: 0.007925305475890636 | Train Accuracy: 84.53% | Test Loss: 0.022135470533370973 | Test Accuracy: 66.68%\n",
            "Epoch: 73 | Train Loss: 0.008014738658368587 | Train Accuracy: 84.25% | Test Loss: 0.02229196631908417 | Test Accuracy: 66.63%\n",
            "Epoch: 74 | Train Loss: 0.007968391044437886 | Train Accuracy: 84.57% | Test Loss: 0.022050396656990053 | Test Accuracy: 66.78%\n",
            "Epoch: 75 | Train Loss: 0.007938276392519475 | Train Accuracy: 84.69% | Test Loss: 0.022033785325288772 | Test Accuracy: 66.39%\n",
            "Epoch: 76 | Train Loss: 0.007919958729147912 | Train Accuracy: 84.4% | Test Loss: 0.0222939911365509 | Test Accuracy: 66.72%\n",
            "Epoch: 77 | Train Loss: 0.007939279678463937 | Train Accuracy: 84.32% | Test Loss: 0.02223032472729683 | Test Accuracy: 66.57%\n",
            "Epoch: 78 | Train Loss: 0.007913753103911876 | Train Accuracy: 84.41% | Test Loss: 0.0222417199075222 | Test Accuracy: 66.92%\n",
            "Epoch: 79 | Train Loss: 0.007865791596472263 | Train Accuracy: 84.72% | Test Loss: 0.022427101010084154 | Test Accuracy: 66.49%\n",
            "Epoch: 80 | Train Loss: 0.007834277787804603 | Train Accuracy: 84.66% | Test Loss: 0.0222752894282341 | Test Accuracy: 66.8%\n",
            "Epoch: 81 | Train Loss: 0.007750213190913201 | Train Accuracy: 84.97% | Test Loss: 0.022310715240240097 | Test Accuracy: 66.58%\n",
            "Epoch: 82 | Train Loss: 0.007780120813548565 | Train Accuracy: 84.67% | Test Loss: 0.02216930677294731 | Test Accuracy: 66.96%\n",
            "Epoch: 83 | Train Loss: 0.007805235114097595 | Train Accuracy: 84.7% | Test Loss: 0.022375902229547502 | Test Accuracy: 66.7%\n",
            "Epoch: 84 | Train Loss: 0.007730118642151356 | Train Accuracy: 84.74% | Test Loss: 0.022408883732557297 | Test Accuracy: 66.98%\n",
            "Epoch: 85 | Train Loss: 0.0076850503951311116 | Train Accuracy: 84.86% | Test Loss: 0.022520312106609344 | Test Accuracy: 66.79%\n",
            "Epoch: 86 | Train Loss: 0.007617252240777016 | Train Accuracy: 85.16% | Test Loss: 0.022541429537534713 | Test Accuracy: 66.72%\n",
            "Epoch: 87 | Train Loss: 0.0076644565159082415 | Train Accuracy: 84.92% | Test Loss: 0.022461455732584 | Test Accuracy: 66.74%\n",
            "Epoch: 88 | Train Loss: 0.007675493575930595 | Train Accuracy: 84.85% | Test Loss: 0.022770882338285447 | Test Accuracy: 66.56%\n",
            "Epoch: 89 | Train Loss: 0.007562671728730202 | Train Accuracy: 85.17% | Test Loss: 0.022355427169799803 | Test Accuracy: 66.63%\n",
            "Epoch: 90 | Train Loss: 0.007629207299351693 | Train Accuracy: 85.06% | Test Loss: 0.022683215713500977 | Test Accuracy: 66.81%\n",
            "Epoch: 91 | Train Loss: 0.007606925447881222 | Train Accuracy: 85.09% | Test Loss: 0.022921589481830595 | Test Accuracy: 66.72%\n",
            "Epoch: 92 | Train Loss: 0.0076136295366287235 | Train Accuracy: 85.11% | Test Loss: 0.022570466095209123 | Test Accuracy: 66.72%\n",
            "Epoch: 93 | Train Loss: 0.007506323827654124 | Train Accuracy: 85.08% | Test Loss: 0.02260170636177063 | Test Accuracy: 66.88%\n",
            "Epoch: 94 | Train Loss: 0.0075805855995416645 | Train Accuracy: 85.03% | Test Loss: 0.022576415103673936 | Test Accuracy: 66.8%\n",
            "Epoch: 95 | Train Loss: 0.007525267890691757 | Train Accuracy: 85.18% | Test Loss: 0.02243100657463074 | Test Accuracy: 67.0%\n",
            "Epoch: 96 | Train Loss: 0.007539312388896942 | Train Accuracy: 85.11% | Test Loss: 0.022598400837182998 | Test Accuracy: 66.6%\n",
            "Epoch: 97 | Train Loss: 0.007498265277743339 | Train Accuracy: 85.22% | Test Loss: 0.02276535427570343 | Test Accuracy: 66.79%\n",
            "Epoch: 98 | Train Loss: 0.007469537566006184 | Train Accuracy: 85.35% | Test Loss: 0.02239842286109924 | Test Accuracy: 66.82%\n",
            "Epoch: 99 | Train Loss: 0.007489704667031765 | Train Accuracy: 85.36% | Test Loss: 0.022485016709566118 | Test Accuracy: 66.65%\n"
          ],
          "name": "stdout"
        }
      ]
    },
    {
      "cell_type": "code",
      "metadata": {
        "id": "nGwqyNsux_fs",
        "colab_type": "code",
        "outputId": "efc0594b-0708-4e9c-f522-80261a1835ee",
        "colab": {
          "base_uri": "https://localhost:8080/",
          "height": 1000
        }
      },
      "source": [
        "print(\"Model{} with {} initialization {} and {} Loss {} Batch Normalisation\".format(1, 'Uniform Xavier', 'Adaptive Learning Rate', 'Cross Entropy', 'No'))\n",
        "net_model1 = Model1(100,is_bn=True)\n",
        "net_model1.to(device)\n",
        "criterion = nn.CrossEntropyLoss()\n",
        "momentum=0.09\n",
        "nepochs=100\n",
        "optimizer=optim.Adam(net_model1.parameters(), lr=0.001, weight_decay=0.0001)\n",
        "batchSize=128\n",
        "\n",
        "net_model1, trainAcc_model1, testAcc_model1, trainLoss_model1, testLoss_model1 = train(net=net_model1, nepochs=nepochs, criterion=criterion, optimizer=optimizer, batchSize=batchSize)"
      ],
      "execution_count": 0,
      "outputs": [
        {
          "output_type": "stream",
          "text": [
            "Model1 with Uniform Xavier initialization Adaptive Learning Rate and Cross Entropy Loss No Batch Normalisation\n",
            "Total training samples : 50000\n",
            "Total testing samples : 10000\n",
            "Epoch: 0 | Train Loss: 0.06788104880332947 | Train Accuracy: 2.8% | Test Loss: 0.0652550818681717 | Test Accuracy: 4.28%\n",
            "Epoch: 1 | Train Loss: 0.06443301504611969 | Train Accuracy: 4.56% | Test Loss: 0.06286629264354705 | Test Accuracy: 5.47%\n",
            "Epoch: 2 | Train Loss: 0.06162353131294251 | Train Accuracy: 6.41% | Test Loss: 0.059923375964164735 | Test Accuracy: 7.02%\n",
            "Epoch: 3 | Train Loss: 0.05828371870994568 | Train Accuracy: 8.59% | Test Loss: 0.056244555950164796 | Test Accuracy: 10.35%\n",
            "Epoch: 4 | Train Loss: 0.0550622962808609 | Train Accuracy: 11.24% | Test Loss: 0.05369676456451416 | Test Accuracy: 13.09%\n",
            "Epoch: 5 | Train Loss: 0.05198604743480682 | Train Accuracy: 14.11% | Test Loss: 0.048340795397758485 | Test Accuracy: 18.05%\n",
            "Epoch: 6 | Train Loss: 0.04877514111995697 | Train Accuracy: 17.89% | Test Loss: 0.044368914794921874 | Test Accuracy: 22.71%\n",
            "Epoch: 7 | Train Loss: 0.04565428196907043 | Train Accuracy: 22.23% | Test Loss: 0.042598817133903503 | Test Accuracy: 27.28%\n",
            "Epoch: 8 | Train Loss: 0.04309083684444427 | Train Accuracy: 25.51% | Test Loss: 0.04066654961109161 | Test Accuracy: 29.13%\n",
            "Epoch: 9 | Train Loss: 0.04095112396717072 | Train Accuracy: 28.97% | Test Loss: 0.038384295451641084 | Test Accuracy: 32.69%\n",
            "Epoch: 10 | Train Loss: 0.039035105443000796 | Train Accuracy: 31.78% | Test Loss: 0.03726743713617325 | Test Accuracy: 34.4%\n",
            "Epoch: 11 | Train Loss: 0.03708626928806305 | Train Accuracy: 35.04% | Test Loss: 0.035144585168361664 | Test Accuracy: 38.25%\n",
            "Epoch: 12 | Train Loss: 0.035660918757915494 | Train Accuracy: 37.56% | Test Loss: 0.03280307294130325 | Test Accuracy: 42.13%\n",
            "Epoch: 13 | Train Loss: 0.034196154820919034 | Train Accuracy: 39.91% | Test Loss: 0.033549576652050016 | Test Accuracy: 41.11%\n",
            "Epoch: 14 | Train Loss: 0.032848222377300264 | Train Accuracy: 42.0% | Test Loss: 0.03111176018714905 | Test Accuracy: 45.31%\n",
            "Epoch: 15 | Train Loss: 0.03165044155836105 | Train Accuracy: 43.96% | Test Loss: 0.030834025037288666 | Test Accuracy: 45.35%\n",
            "Epoch: 16 | Train Loss: 0.030618077590465545 | Train Accuracy: 46.04% | Test Loss: 0.02910284026861191 | Test Accuracy: 48.56%\n",
            "Epoch: 17 | Train Loss: 0.02941162245988846 | Train Accuracy: 47.96% | Test Loss: 0.02956574937105179 | Test Accuracy: 48.63%\n",
            "Epoch: 18 | Train Loss: 0.028491546964645387 | Train Accuracy: 49.34% | Test Loss: 0.02838577163219452 | Test Accuracy: 49.81%\n",
            "Epoch: 19 | Train Loss: 0.027625486690998076 | Train Accuracy: 51.1% | Test Loss: 0.02797243119478226 | Test Accuracy: 51.92%\n",
            "Epoch: 20 | Train Loss: 0.026833842358589172 | Train Accuracy: 52.36% | Test Loss: 0.026856966805458068 | Test Accuracy: 52.98%\n",
            "Epoch: 21 | Train Loss: 0.026007845182418825 | Train Accuracy: 53.86% | Test Loss: 0.02691546242237091 | Test Accuracy: 54.05%\n",
            "Epoch: 22 | Train Loss: 0.02552166962146759 | Train Accuracy: 54.77% | Test Loss: 0.026043277537822724 | Test Accuracy: 54.37%\n",
            "Epoch: 23 | Train Loss: 0.024835476388931275 | Train Accuracy: 55.52% | Test Loss: 0.027168222665786744 | Test Accuracy: 53.82%\n",
            "Epoch: 24 | Train Loss: 0.024185362313985825 | Train Accuracy: 56.86% | Test Loss: 0.02531259046792984 | Test Accuracy: 55.97%\n",
            "Epoch: 25 | Train Loss: 0.023600809259414674 | Train Accuracy: 57.95% | Test Loss: 0.026388644099235536 | Test Accuracy: 55.2%\n",
            "Epoch: 26 | Train Loss: 0.023288812376260758 | Train Accuracy: 58.74% | Test Loss: 0.024722664952278137 | Test Accuracy: 56.65%\n",
            "Epoch: 27 | Train Loss: 0.022914739493131636 | Train Accuracy: 59.14% | Test Loss: 0.025331379318237306 | Test Accuracy: 56.54%\n",
            "Epoch: 28 | Train Loss: 0.022328252934217453 | Train Accuracy: 60.26% | Test Loss: 0.024611537778377532 | Test Accuracy: 57.95%\n",
            "Epoch: 29 | Train Loss: 0.02190436308503151 | Train Accuracy: 61.0% | Test Loss: 0.026424002492427826 | Test Accuracy: 55.42%\n",
            "Epoch: 30 | Train Loss: 0.021593873338699342 | Train Accuracy: 61.7% | Test Loss: 0.024805853044986725 | Test Accuracy: 57.93%\n",
            "Epoch: 31 | Train Loss: 0.02117485874891281 | Train Accuracy: 62.36% | Test Loss: 0.024608901327848435 | Test Accuracy: 58.25%\n",
            "Epoch: 32 | Train Loss: 0.017132569497823717 | Train Accuracy: 68.71% | Test Loss: 0.021029205918312074 | Test Accuracy: 63.3%\n",
            "Epoch: 33 | Train Loss: 0.015740053139328955 | Train Accuracy: 70.99% | Test Loss: 0.020842864257097245 | Test Accuracy: 64.1%\n",
            "Epoch: 34 | Train Loss: 0.015216678700447083 | Train Accuracy: 71.78% | Test Loss: 0.021068664270639418 | Test Accuracy: 64.1%\n",
            "Epoch: 35 | Train Loss: 0.014767362080812455 | Train Accuracy: 72.5% | Test Loss: 0.02063627281188965 | Test Accuracy: 64.48%\n",
            "Epoch: 36 | Train Loss: 0.014347217556834222 | Train Accuracy: 73.2% | Test Loss: 0.020747440218925477 | Test Accuracy: 64.6%\n",
            "Epoch: 37 | Train Loss: 0.014158675066232682 | Train Accuracy: 73.54% | Test Loss: 0.020751569205522537 | Test Accuracy: 64.53%\n",
            "Epoch: 38 | Train Loss: 0.013762378071546554 | Train Accuracy: 74.29% | Test Loss: 0.02070282139182091 | Test Accuracy: 64.91%\n",
            "Epoch: 39 | Train Loss: 0.013491099436283112 | Train Accuracy: 74.53% | Test Loss: 0.020904988741874696 | Test Accuracy: 64.93%\n",
            "Epoch: 40 | Train Loss: 0.013160025035738945 | Train Accuracy: 75.21% | Test Loss: 0.02082427826523781 | Test Accuracy: 65.06%\n",
            "Epoch: 41 | Train Loss: 0.012941670939922333 | Train Accuracy: 75.68% | Test Loss: 0.02109772882461548 | Test Accuracy: 65.15%\n",
            "Epoch: 42 | Train Loss: 0.012715732352137566 | Train Accuracy: 76.05% | Test Loss: 0.020828816187381746 | Test Accuracy: 65.37%\n",
            "Epoch: 43 | Train Loss: 0.012596320323348046 | Train Accuracy: 76.13% | Test Loss: 0.02053710351586342 | Test Accuracy: 65.51%\n",
            "Epoch: 44 | Train Loss: 0.012496260204911232 | Train Accuracy: 76.51% | Test Loss: 0.02072521960735321 | Test Accuracy: 65.46%\n",
            "Epoch: 45 | Train Loss: 0.01225938824236393 | Train Accuracy: 76.7% | Test Loss: 0.020831255531311037 | Test Accuracy: 65.59%\n",
            "Epoch: 46 | Train Loss: 0.012054301030039787 | Train Accuracy: 76.99% | Test Loss: 0.021234297156333924 | Test Accuracy: 65.49%\n",
            "Epoch: 47 | Train Loss: 0.011803391668796539 | Train Accuracy: 77.59% | Test Loss: 0.021155799746513368 | Test Accuracy: 65.62%\n",
            "Epoch: 48 | Train Loss: 0.011766675122380256 | Train Accuracy: 77.49% | Test Loss: 0.020897644221782686 | Test Accuracy: 65.35%\n",
            "Epoch: 49 | Train Loss: 0.011533002020716667 | Train Accuracy: 78.2% | Test Loss: 0.02112996280193329 | Test Accuracy: 65.73%\n",
            "Epoch: 50 | Train Loss: 0.011417496945261955 | Train Accuracy: 78.01% | Test Loss: 0.021352787858247756 | Test Accuracy: 65.75%\n",
            "Epoch: 51 | Train Loss: 0.011357368422150613 | Train Accuracy: 78.3% | Test Loss: 0.021041582542657852 | Test Accuracy: 65.87%\n",
            "Epoch: 52 | Train Loss: 0.011090948623418808 | Train Accuracy: 78.78% | Test Loss: 0.021308040630817413 | Test Accuracy: 66.1%\n",
            "Epoch: 53 | Train Loss: 0.010910222323536873 | Train Accuracy: 78.88% | Test Loss: 0.021382344722747804 | Test Accuracy: 65.9%\n",
            "Epoch: 54 | Train Loss: 0.010812178748250008 | Train Accuracy: 79.25% | Test Loss: 0.021383536559343337 | Test Accuracy: 65.62%\n",
            "Epoch: 55 | Train Loss: 0.010611244575977325 | Train Accuracy: 79.64% | Test Loss: 0.021281061768531798 | Test Accuracy: 66.19%\n",
            "Epoch: 56 | Train Loss: 0.010495942804813385 | Train Accuracy: 79.63% | Test Loss: 0.021041140425205232 | Test Accuracy: 66.18%\n",
            "Epoch: 57 | Train Loss: 0.010346543672680855 | Train Accuracy: 80.12% | Test Loss: 0.021213361412286757 | Test Accuracy: 66.06%\n",
            "Epoch: 58 | Train Loss: 0.010288234936594963 | Train Accuracy: 80.18% | Test Loss: 0.021329162311553955 | Test Accuracy: 66.0%\n",
            "Epoch: 59 | Train Loss: 0.009992299981713295 | Train Accuracy: 80.88% | Test Loss: 0.02162273770570755 | Test Accuracy: 65.91%\n",
            "Epoch: 60 | Train Loss: 0.010038841938376427 | Train Accuracy: 80.68% | Test Loss: 0.021649443250894546 | Test Accuracy: 65.79%\n",
            "Epoch: 61 | Train Loss: 0.009861881878972054 | Train Accuracy: 81.06% | Test Loss: 0.02169596373438835 | Test Accuracy: 65.48%\n",
            "Epoch: 62 | Train Loss: 0.009427086765170097 | Train Accuracy: 81.81% | Test Loss: 0.02169995351433754 | Test Accuracy: 66.09%\n",
            "Epoch: 63 | Train Loss: 0.009177644889354707 | Train Accuracy: 82.15% | Test Loss: 0.021782418352365492 | Test Accuracy: 66.2%\n",
            "Epoch: 64 | Train Loss: 0.009088872390687466 | Train Accuracy: 82.21% | Test Loss: 0.022082673859596252 | Test Accuracy: 66.07%\n",
            "Epoch: 65 | Train Loss: 0.009169071941375732 | Train Accuracy: 82.19% | Test Loss: 0.021907755237817763 | Test Accuracy: 66.23%\n",
            "Epoch: 66 | Train Loss: 0.009025730218291282 | Train Accuracy: 82.48% | Test Loss: 0.02197458634376526 | Test Accuracy: 66.38%\n",
            "Epoch: 67 | Train Loss: 0.009002036278545856 | Train Accuracy: 82.59% | Test Loss: 0.021874668884277342 | Test Accuracy: 66.07%\n",
            "Epoch: 68 | Train Loss: 0.009029956335723401 | Train Accuracy: 82.37% | Test Loss: 0.02195688151717186 | Test Accuracy: 66.37%\n",
            "Epoch: 69 | Train Loss: 0.009014740533828735 | Train Accuracy: 82.4% | Test Loss: 0.021920633995532988 | Test Accuracy: 66.4%\n",
            "Epoch: 70 | Train Loss: 0.008923089987635613 | Train Accuracy: 82.67% | Test Loss: 0.02218751652240753 | Test Accuracy: 66.18%\n",
            "Epoch: 71 | Train Loss: 0.008817371271550656 | Train Accuracy: 82.67% | Test Loss: 0.022306243366003037 | Test Accuracy: 66.15%\n",
            "Epoch: 72 | Train Loss: 0.008866081422269344 | Train Accuracy: 82.74% | Test Loss: 0.022117733454704285 | Test Accuracy: 66.46%\n",
            "Epoch: 73 | Train Loss: 0.008793969925642013 | Train Accuracy: 82.78% | Test Loss: 0.02214193289875984 | Test Accuracy: 66.25%\n",
            "Epoch: 74 | Train Loss: 0.008731708443760871 | Train Accuracy: 82.91% | Test Loss: 0.022224220782518386 | Test Accuracy: 66.46%\n",
            "Epoch: 75 | Train Loss: 0.008718864807784558 | Train Accuracy: 83.17% | Test Loss: 0.022222673851251602 | Test Accuracy: 66.4%\n",
            "Epoch: 76 | Train Loss: 0.008795530583560467 | Train Accuracy: 82.76% | Test Loss: 0.022037022668123244 | Test Accuracy: 66.34%\n",
            "Epoch: 77 | Train Loss: 0.008660001824498177 | Train Accuracy: 82.94% | Test Loss: 0.022170358020067216 | Test Accuracy: 66.56%\n",
            "Epoch: 78 | Train Loss: 0.008681983998417854 | Train Accuracy: 83.03% | Test Loss: 0.022109065872430802 | Test Accuracy: 66.2%\n",
            "Epoch: 79 | Train Loss: 0.008666542246043681 | Train Accuracy: 83.08% | Test Loss: 0.02222144869565964 | Test Accuracy: 66.38%\n",
            "Epoch: 80 | Train Loss: 0.008623024324774742 | Train Accuracy: 83.17% | Test Loss: 0.022264510917663575 | Test Accuracy: 66.27%\n",
            "Epoch: 81 | Train Loss: 0.008607711533606052 | Train Accuracy: 83.14% | Test Loss: 0.022113583904504776 | Test Accuracy: 66.49%\n",
            "Epoch: 82 | Train Loss: 0.00861172408491373 | Train Accuracy: 83.25% | Test Loss: 0.022221764731407165 | Test Accuracy: 66.12%\n",
            "Epoch: 83 | Train Loss: 0.008573406437039376 | Train Accuracy: 83.36% | Test Loss: 0.02208881448507309 | Test Accuracy: 66.35%\n",
            "Epoch: 84 | Train Loss: 0.008590703646242618 | Train Accuracy: 83.23% | Test Loss: 0.0225522656083107 | Test Accuracy: 66.55%\n",
            "Epoch: 85 | Train Loss: 0.00860052665412426 | Train Accuracy: 83.31% | Test Loss: 0.02215377629995346 | Test Accuracy: 66.35%\n",
            "Epoch: 86 | Train Loss: 0.008592242064774037 | Train Accuracy: 83.25% | Test Loss: 0.022328453689813614 | Test Accuracy: 66.3%\n",
            "Epoch: 87 | Train Loss: 0.008477304148972034 | Train Accuracy: 83.44% | Test Loss: 0.02232651162147522 | Test Accuracy: 66.41%\n",
            "Epoch: 88 | Train Loss: 0.008547559287250041 | Train Accuracy: 83.19% | Test Loss: 0.022389005863666534 | Test Accuracy: 66.37%\n",
            "Epoch: 89 | Train Loss: 0.008528419328629971 | Train Accuracy: 83.25% | Test Loss: 0.022167154479026795 | Test Accuracy: 66.56%\n",
            "Epoch: 90 | Train Loss: 0.00849205364972353 | Train Accuracy: 83.37% | Test Loss: 0.022571857511997223 | Test Accuracy: 66.23%\n",
            "Epoch: 91 | Train Loss: 0.008447878890931607 | Train Accuracy: 83.46% | Test Loss: 0.022181646770238875 | Test Accuracy: 66.45%\n",
            "Epoch: 92 | Train Loss: 0.008398368735909462 | Train Accuracy: 83.6% | Test Loss: 0.022289172953367232 | Test Accuracy: 66.5%\n",
            "Epoch: 93 | Train Loss: 0.008294985076487064 | Train Accuracy: 83.87% | Test Loss: 0.02237935411930084 | Test Accuracy: 66.44%\n",
            "Epoch: 94 | Train Loss: 0.008473024080097676 | Train Accuracy: 83.45% | Test Loss: 0.022313693553209304 | Test Accuracy: 66.42%\n",
            "Epoch: 95 | Train Loss: 0.008395444865226746 | Train Accuracy: 83.51% | Test Loss: 0.022300607419013976 | Test Accuracy: 66.68%\n",
            "Epoch: 96 | Train Loss: 0.008304614362120629 | Train Accuracy: 83.64% | Test Loss: 0.02221815647482872 | Test Accuracy: 66.5%\n",
            "Epoch: 97 | Train Loss: 0.00830074857532978 | Train Accuracy: 83.61% | Test Loss: 0.02240305798649788 | Test Accuracy: 66.29%\n",
            "Epoch: 98 | Train Loss: 0.008355139754712582 | Train Accuracy: 83.77% | Test Loss: 0.02230372399687767 | Test Accuracy: 66.7%\n",
            "Epoch: 99 | Train Loss: 0.00837975849211216 | Train Accuracy: 83.6% | Test Loss: 0.022329484283924103 | Test Accuracy: 66.53%\n"
          ],
          "name": "stdout"
        }
      ]
    },
    {
      "cell_type": "code",
      "metadata": {
        "id": "h3JCbIIpyAgb",
        "colab_type": "code",
        "outputId": "7e3b80a8-7c69-4ac8-c0b4-c5ef4b4911b4",
        "colab": {
          "base_uri": "https://localhost:8080/",
          "height": 1000
        }
      },
      "source": [
        "print(\"Model{} with {} initialization {} and {} Loss {} Batch Normalisation\".format(1, 'Uniform Xavier', 'Adaptive Learning Rate', 'Cross Entropy', 'No'))\n",
        "net_model2 = Model2(100)\n",
        "net_model2.to(device)\n",
        "criterion = nn.CrossEntropyLoss()\n",
        "momentum=0.09\n",
        "nepochs=100\n",
        "optimizer=optim.Adam(net_model2.parameters(), lr=0.001, weight_decay=0.0001)\n",
        "batchSize=128\n",
        "\n",
        "net_model2, trainAcc_model2, testAcc_model2, trainLoss_model2, testLoss_model2 = train(net=net_model2, nepochs=nepochs, criterion=criterion, optimizer=optimizer, batchSize=batchSize)"
      ],
      "execution_count": 15,
      "outputs": [
        {
          "output_type": "stream",
          "text": [
            "Model1 with Uniform Xavier initialization Adaptive Learning Rate and Cross Entropy Loss No Batch Normalisation\n",
            "Total training samples : 50000\n",
            "Total testing samples : 10000\n",
            "Epoch: 0 | Train Loss: 0.0674987056016922 | Train Accuracy: 3.01% | Test Loss: 0.06501763572692872 | Test Accuracy: 3.75%\n",
            "Epoch: 1 | Train Loss: 0.06360828550815582 | Train Accuracy: 4.84% | Test Loss: 0.06187858679294586 | Test Accuracy: 6.11%\n",
            "Epoch: 2 | Train Loss: 0.0607657692861557 | Train Accuracy: 6.84% | Test Loss: 0.05718765850067139 | Test Accuracy: 9.7%\n",
            "Epoch: 3 | Train Loss: 0.05738656653404236 | Train Accuracy: 9.82% | Test Loss: 0.054153404664993285 | Test Accuracy: 12.58%\n",
            "Epoch: 4 | Train Loss: 0.05394992205619812 | Train Accuracy: 13.37% | Test Loss: 0.05120226080417633 | Test Accuracy: 16.89%\n",
            "Epoch: 5 | Train Loss: 0.05029239803791046 | Train Accuracy: 17.54% | Test Loss: 0.04697106387615204 | Test Accuracy: 21.98%\n",
            "Epoch: 6 | Train Loss: 0.0471749265050888 | Train Accuracy: 21.54% | Test Loss: 0.04326802432537079 | Test Accuracy: 26.7%\n",
            "Epoch: 7 | Train Loss: 0.04426514016151428 | Train Accuracy: 25.44% | Test Loss: 0.04288722836971283 | Test Accuracy: 28.06%\n",
            "Epoch: 8 | Train Loss: 0.04234937732696533 | Train Accuracy: 27.79% | Test Loss: 0.03849579339027405 | Test Accuracy: 33.01%\n",
            "Epoch: 9 | Train Loss: 0.03995147332191467 | Train Accuracy: 31.81% | Test Loss: 0.04013716320991516 | Test Accuracy: 31.93%\n",
            "Epoch: 10 | Train Loss: 0.03821166042327881 | Train Accuracy: 34.14% | Test Loss: 0.03561207069158554 | Test Accuracy: 38.41%\n",
            "Epoch: 11 | Train Loss: 0.03673491846323013 | Train Accuracy: 36.56% | Test Loss: 0.03374495364427567 | Test Accuracy: 41.27%\n",
            "Epoch: 12 | Train Loss: 0.03532970371246338 | Train Accuracy: 39.0% | Test Loss: 0.03327761389017105 | Test Accuracy: 42.45%\n",
            "Epoch: 13 | Train Loss: 0.03400455005645752 | Train Accuracy: 41.06% | Test Loss: 0.031909919226169585 | Test Accuracy: 44.07%\n",
            "Epoch: 14 | Train Loss: 0.03277744029045105 | Train Accuracy: 43.31% | Test Loss: 0.030603400361537934 | Test Accuracy: 46.42%\n",
            "Epoch: 15 | Train Loss: 0.031617115383148195 | Train Accuracy: 44.93% | Test Loss: 0.029780448067188263 | Test Accuracy: 48.13%\n",
            "Epoch: 16 | Train Loss: 0.030616254417896272 | Train Accuracy: 46.5% | Test Loss: 0.028977084982395172 | Test Accuracy: 50.15%\n",
            "Epoch: 17 | Train Loss: 0.029679562504291535 | Train Accuracy: 48.27% | Test Loss: 0.02882863062620163 | Test Accuracy: 50.39%\n",
            "Epoch: 18 | Train Loss: 0.028884839782714843 | Train Accuracy: 49.69% | Test Loss: 0.029723408436775206 | Test Accuracy: 49.75%\n",
            "Epoch: 19 | Train Loss: 0.02820817481994629 | Train Accuracy: 50.82% | Test Loss: 0.028223462450504302 | Test Accuracy: 51.73%\n",
            "Epoch: 20 | Train Loss: 0.027567060339450836 | Train Accuracy: 51.87% | Test Loss: 0.027577950084209442 | Test Accuracy: 52.73%\n",
            "Epoch: 21 | Train Loss: 0.027056123871803284 | Train Accuracy: 52.71% | Test Loss: 0.028421816980838777 | Test Accuracy: 51.5%\n",
            "Epoch: 22 | Train Loss: 0.026237003042697906 | Train Accuracy: 53.92% | Test Loss: 0.027530890846252442 | Test Accuracy: 53.16%\n",
            "Epoch: 23 | Train Loss: 0.025765422053337098 | Train Accuracy: 54.95% | Test Loss: 0.02660846368074417 | Test Accuracy: 53.96%\n",
            "Epoch: 24 | Train Loss: 0.02518875530362129 | Train Accuracy: 55.76% | Test Loss: 0.027350054675340654 | Test Accuracy: 53.27%\n",
            "Epoch: 25 | Train Loss: 0.024639223318099975 | Train Accuracy: 56.8% | Test Loss: 0.02674776554107666 | Test Accuracy: 54.62%\n",
            "Epoch: 26 | Train Loss: 0.0241290686750412 | Train Accuracy: 57.55% | Test Loss: 0.02644699085354805 | Test Accuracy: 54.79%\n",
            "Epoch: 27 | Train Loss: 0.023844836361408234 | Train Accuracy: 57.99% | Test Loss: 0.026247179710865022 | Test Accuracy: 55.65%\n",
            "Epoch: 28 | Train Loss: 0.023495069111585616 | Train Accuracy: 58.77% | Test Loss: 0.026245746564865113 | Test Accuracy: 56.03%\n",
            "Epoch: 29 | Train Loss: 0.023042059462070465 | Train Accuracy: 59.51% | Test Loss: 0.025841365480422974 | Test Accuracy: 56.57%\n",
            "Epoch: 30 | Train Loss: 0.02261990397810936 | Train Accuracy: 60.44% | Test Loss: 0.025880998665094374 | Test Accuracy: 56.86%\n",
            "Epoch: 31 | Train Loss: 0.022317717574834823 | Train Accuracy: 60.95% | Test Loss: 0.0251799858212471 | Test Accuracy: 57.55%\n",
            "Epoch: 32 | Train Loss: 0.01818221270918846 | Train Accuracy: 67.29% | Test Loss: 0.022513807928562165 | Test Accuracy: 61.89%\n",
            "Epoch: 33 | Train Loss: 0.01677312671661377 | Train Accuracy: 69.48% | Test Loss: 0.022153377002477645 | Test Accuracy: 62.67%\n",
            "Epoch: 34 | Train Loss: 0.015998304938077926 | Train Accuracy: 70.73% | Test Loss: 0.021995854115486144 | Test Accuracy: 63.06%\n",
            "Epoch: 35 | Train Loss: 0.01565783120751381 | Train Accuracy: 71.2% | Test Loss: 0.022270366251468658 | Test Accuracy: 63.27%\n",
            "Epoch: 36 | Train Loss: 0.01518373485803604 | Train Accuracy: 72.03% | Test Loss: 0.021853488063812255 | Test Accuracy: 63.55%\n",
            "Epoch: 37 | Train Loss: 0.014899546647071838 | Train Accuracy: 72.35% | Test Loss: 0.022019404047727585 | Test Accuracy: 63.18%\n",
            "Epoch: 38 | Train Loss: 0.01445557099699974 | Train Accuracy: 73.1% | Test Loss: 0.022125825899839403 | Test Accuracy: 63.55%\n",
            "Epoch: 39 | Train Loss: 0.014251647402644157 | Train Accuracy: 73.92% | Test Loss: 0.021945490676164626 | Test Accuracy: 63.53%\n",
            "Epoch: 40 | Train Loss: 0.0140223197722435 | Train Accuracy: 74.01% | Test Loss: 0.022140017187595368 | Test Accuracy: 63.45%\n",
            "Epoch: 41 | Train Loss: 0.013860250290632248 | Train Accuracy: 74.32% | Test Loss: 0.02205460199713707 | Test Accuracy: 63.54%\n",
            "Epoch: 42 | Train Loss: 0.01338314317047596 | Train Accuracy: 75.2% | Test Loss: 0.02224809059500694 | Test Accuracy: 63.53%\n",
            "Epoch: 43 | Train Loss: 0.013348832314610481 | Train Accuracy: 75.21% | Test Loss: 0.022244816929101945 | Test Accuracy: 64.32%\n",
            "Epoch: 44 | Train Loss: 0.013060352914333344 | Train Accuracy: 75.56% | Test Loss: 0.021972212183475493 | Test Accuracy: 63.95%\n",
            "Epoch: 45 | Train Loss: 0.012876741221547127 | Train Accuracy: 75.91% | Test Loss: 0.02239236022233963 | Test Accuracy: 63.92%\n",
            "Epoch: 46 | Train Loss: 0.012668885617852212 | Train Accuracy: 76.28% | Test Loss: 0.022510865688323976 | Test Accuracy: 63.54%\n",
            "Epoch: 47 | Train Loss: 0.012585289304852487 | Train Accuracy: 76.31% | Test Loss: 0.0224093490421772 | Test Accuracy: 64.13%\n",
            "Epoch: 48 | Train Loss: 0.012340934680104255 | Train Accuracy: 76.77% | Test Loss: 0.022653993767499922 | Test Accuracy: 63.91%\n",
            "Epoch: 49 | Train Loss: 0.012099520136117935 | Train Accuracy: 77.26% | Test Loss: 0.022494405645132064 | Test Accuracy: 63.88%\n",
            "Epoch: 50 | Train Loss: 0.011889491226673127 | Train Accuracy: 77.35% | Test Loss: 0.02261182171702385 | Test Accuracy: 64.33%\n",
            "Epoch: 51 | Train Loss: 0.011779818727374077 | Train Accuracy: 77.69% | Test Loss: 0.022669394332170488 | Test Accuracy: 64.01%\n",
            "Epoch: 52 | Train Loss: 0.01165883888721466 | Train Accuracy: 77.96% | Test Loss: 0.022646412694454193 | Test Accuracy: 64.14%\n",
            "Epoch: 53 | Train Loss: 0.011421657292246819 | Train Accuracy: 78.27% | Test Loss: 0.023081432175636293 | Test Accuracy: 64.44%\n",
            "Epoch: 54 | Train Loss: 0.011309497685432435 | Train Accuracy: 78.66% | Test Loss: 0.022977744859457017 | Test Accuracy: 64.37%\n",
            "Epoch: 55 | Train Loss: 0.01123547648191452 | Train Accuracy: 78.84% | Test Loss: 0.022781429076194765 | Test Accuracy: 64.36%\n",
            "Epoch: 56 | Train Loss: 0.010975298143029213 | Train Accuracy: 79.15% | Test Loss: 0.022823200726509094 | Test Accuracy: 64.42%\n",
            "Epoch: 57 | Train Loss: 0.010867221155762672 | Train Accuracy: 79.33% | Test Loss: 0.023303074568510055 | Test Accuracy: 64.4%\n",
            "Epoch: 58 | Train Loss: 0.010768289994001388 | Train Accuracy: 79.48% | Test Loss: 0.022852012050151825 | Test Accuracy: 64.41%\n",
            "Epoch: 59 | Train Loss: 0.010669398940205573 | Train Accuracy: 79.65% | Test Loss: 0.023258987891674042 | Test Accuracy: 64.53%\n",
            "Epoch: 60 | Train Loss: 0.010362755958437919 | Train Accuracy: 80.2% | Test Loss: 0.023094727766513824 | Test Accuracy: 64.48%\n",
            "Epoch: 61 | Train Loss: 0.010310079433321953 | Train Accuracy: 80.15% | Test Loss: 0.023243567472696305 | Test Accuracy: 64.54%\n",
            "Epoch: 62 | Train Loss: 0.009854041085243225 | Train Accuracy: 80.97% | Test Loss: 0.02313460871577263 | Test Accuracy: 64.89%\n",
            "Epoch: 63 | Train Loss: 0.00956370575606823 | Train Accuracy: 81.6% | Test Loss: 0.023674163407087327 | Test Accuracy: 64.75%\n",
            "Epoch: 64 | Train Loss: 0.009545505365133286 | Train Accuracy: 81.63% | Test Loss: 0.023329358625411988 | Test Accuracy: 65.06%\n",
            "Epoch: 65 | Train Loss: 0.00947892208814621 | Train Accuracy: 81.7% | Test Loss: 0.023369465243816376 | Test Accuracy: 65.02%\n",
            "Epoch: 66 | Train Loss: 0.009441793296635151 | Train Accuracy: 81.74% | Test Loss: 0.023341836702823637 | Test Accuracy: 64.91%\n",
            "Epoch: 67 | Train Loss: 0.009386531752347946 | Train Accuracy: 81.95% | Test Loss: 0.023713124257326128 | Test Accuracy: 64.97%\n",
            "Epoch: 68 | Train Loss: 0.00938980433344841 | Train Accuracy: 81.82% | Test Loss: 0.023764293503761292 | Test Accuracy: 65.0%\n",
            "Epoch: 69 | Train Loss: 0.00927392710238695 | Train Accuracy: 82.06% | Test Loss: 0.02334013134241104 | Test Accuracy: 65.04%\n",
            "Epoch: 70 | Train Loss: 0.009327750444114208 | Train Accuracy: 82.14% | Test Loss: 0.02362038333415985 | Test Accuracy: 64.97%\n",
            "Epoch: 71 | Train Loss: 0.009322128584086894 | Train Accuracy: 82.09% | Test Loss: 0.023453975558280944 | Test Accuracy: 65.0%\n",
            "Epoch: 72 | Train Loss: 0.009236671916842461 | Train Accuracy: 82.13% | Test Loss: 0.02378604218363762 | Test Accuracy: 64.85%\n",
            "Epoch: 73 | Train Loss: 0.009233359002172948 | Train Accuracy: 82.44% | Test Loss: 0.023419083124399186 | Test Accuracy: 65.21%\n",
            "Epoch: 74 | Train Loss: 0.009100666998624801 | Train Accuracy: 82.5% | Test Loss: 0.02340511345267296 | Test Accuracy: 65.19%\n",
            "Epoch: 75 | Train Loss: 0.00912926493883133 | Train Accuracy: 82.44% | Test Loss: 0.023634393763542174 | Test Accuracy: 65.05%\n",
            "Epoch: 76 | Train Loss: 0.009104034579992294 | Train Accuracy: 82.45% | Test Loss: 0.02375092805027962 | Test Accuracy: 64.99%\n",
            "Epoch: 77 | Train Loss: 0.009178100283443928 | Train Accuracy: 82.33% | Test Loss: 0.023513938987255095 | Test Accuracy: 65.0%\n",
            "Epoch: 78 | Train Loss: 0.009102210356593131 | Train Accuracy: 82.47% | Test Loss: 0.02376585537195206 | Test Accuracy: 64.81%\n",
            "Epoch: 79 | Train Loss: 0.008994636691212653 | Train Accuracy: 82.67% | Test Loss: 0.023414533585309982 | Test Accuracy: 65.2%\n",
            "Epoch: 80 | Train Loss: 0.008956320577859878 | Train Accuracy: 82.64% | Test Loss: 0.023863155090808868 | Test Accuracy: 65.2%\n",
            "Epoch: 81 | Train Loss: 0.008953303586542607 | Train Accuracy: 82.66% | Test Loss: 0.02361130653619766 | Test Accuracy: 64.91%\n",
            "Epoch: 82 | Train Loss: 0.009000699059963226 | Train Accuracy: 82.63% | Test Loss: 0.023951117062568663 | Test Accuracy: 64.85%\n",
            "Epoch: 83 | Train Loss: 0.008798395409584046 | Train Accuracy: 82.98% | Test Loss: 0.023953012317419052 | Test Accuracy: 65.01%\n",
            "Epoch: 84 | Train Loss: 0.008855444300472736 | Train Accuracy: 82.78% | Test Loss: 0.023794235545396804 | Test Accuracy: 65.35%\n",
            "Epoch: 85 | Train Loss: 0.008945844275653363 | Train Accuracy: 82.79% | Test Loss: 0.023908592307567596 | Test Accuracy: 65.2%\n",
            "Epoch: 86 | Train Loss: 0.008754004966020584 | Train Accuracy: 83.1% | Test Loss: 0.023836616963148118 | Test Accuracy: 65.09%\n",
            "Epoch: 87 | Train Loss: 0.008919448921382427 | Train Accuracy: 82.58% | Test Loss: 0.023499051040410994 | Test Accuracy: 65.01%\n",
            "Epoch: 88 | Train Loss: 0.008790799493789673 | Train Accuracy: 83.03% | Test Loss: 0.023552459824085235 | Test Accuracy: 64.87%\n",
            "Epoch: 89 | Train Loss: 0.008811878392398357 | Train Accuracy: 82.77% | Test Loss: 0.023908364218473435 | Test Accuracy: 64.94%\n",
            "Epoch: 90 | Train Loss: 0.008774001222848892 | Train Accuracy: 83.16% | Test Loss: 0.02413980285525322 | Test Accuracy: 64.98%\n",
            "Epoch: 91 | Train Loss: 0.008724037499129773 | Train Accuracy: 83.05% | Test Loss: 0.023990690386295317 | Test Accuracy: 65.24%\n",
            "Epoch: 92 | Train Loss: 0.00875757995635271 | Train Accuracy: 83.05% | Test Loss: 0.02391793709397316 | Test Accuracy: 64.78%\n",
            "Epoch: 93 | Train Loss: 0.008684669631421567 | Train Accuracy: 83.17% | Test Loss: 0.02402338688969612 | Test Accuracy: 64.89%\n",
            "Epoch: 94 | Train Loss: 0.008595271209180355 | Train Accuracy: 83.38% | Test Loss: 0.02382127304673195 | Test Accuracy: 65.17%\n",
            "Epoch: 95 | Train Loss: 0.008689696189761162 | Train Accuracy: 83.21% | Test Loss: 0.023826604789495467 | Test Accuracy: 65.02%\n",
            "Epoch: 96 | Train Loss: 0.00866023484557867 | Train Accuracy: 83.16% | Test Loss: 0.024026738810539246 | Test Accuracy: 65.06%\n",
            "Epoch: 97 | Train Loss: 0.008636849465966224 | Train Accuracy: 83.24% | Test Loss: 0.024074643874168397 | Test Accuracy: 64.91%\n",
            "Epoch: 98 | Train Loss: 0.00863273950278759 | Train Accuracy: 83.06% | Test Loss: 0.02396242981553078 | Test Accuracy: 65.19%\n",
            "Epoch: 99 | Train Loss: 0.00864174315303564 | Train Accuracy: 83.07% | Test Loss: 0.023770497208833695 | Test Accuracy: 64.91%\n"
          ],
          "name": "stdout"
        }
      ]
    },
    {
      "cell_type": "code",
      "metadata": {
        "id": "sYpOcfROyBmT",
        "colab_type": "code",
        "colab": {
          "base_uri": "https://localhost:8080/",
          "height": 400
        },
        "outputId": "445ab38f-1dac-4041-dba2-3f22acc9ad68"
      },
      "source": [
        "print(\"Model{} with {} initialization {} and {} Loss {} Batch Normalisation\".format(1, 'Uniform Xavier', 'Adaptive Learning Rate', 'Cross Entropy', 'No'))\n",
        "net_model3 = Model3(100)\n",
        "net_model3.to(device)\n",
        "criterion = nn.CrossEntropyLoss()\n",
        "momentum=0.09\n",
        "nepochs=100\n",
        "optimizer=optim.Adam(net_model3.parameters(), lr=0.001, weight_decay=0.0001)\n",
        "batchSize=128\n",
        "\n",
        "net_model3, trainAcc_model3, testAcc_model3, trainLoss_model3, testLoss_model3 = train(net=net_model3, nepochs=nepochs, criterion=criterion, optimizer=optimizer, batchSize=batchSize)"
      ],
      "execution_count": 16,
      "outputs": [
        {
          "output_type": "stream",
          "text": [
            "Model1 with Uniform Xavier initialization Adaptive Learning Rate and Cross Entropy Loss No Batch Normalisation\n",
            "Total training samples : 50000\n",
            "Total testing samples : 10000\n",
            "Epoch: 0 | Train Loss: 0.06533707343578339 | Train Accuracy: 4.42% | Test Loss: 0.061642180562019346 | Test Accuracy: 8.0%\n"
          ],
          "name": "stdout"
        },
        {
          "output_type": "error",
          "ename": "KeyboardInterrupt",
          "evalue": "ignored",
          "traceback": [
            "\u001b[0;31m---------------------------------------------------------------------------\u001b[0m",
            "\u001b[0;31mKeyboardInterrupt\u001b[0m                         Traceback (most recent call last)",
            "\u001b[0;32m<ipython-input-16-0056329f0bde>\u001b[0m in \u001b[0;36m<module>\u001b[0;34m()\u001b[0m\n\u001b[1;32m      8\u001b[0m \u001b[0mbatchSize\u001b[0m\u001b[0;34m=\u001b[0m\u001b[0;36m128\u001b[0m\u001b[0;34m\u001b[0m\u001b[0;34m\u001b[0m\u001b[0m\n\u001b[1;32m      9\u001b[0m \u001b[0;34m\u001b[0m\u001b[0m\n\u001b[0;32m---> 10\u001b[0;31m \u001b[0mnet_model3\u001b[0m\u001b[0;34m,\u001b[0m \u001b[0mtrainAcc_model3\u001b[0m\u001b[0;34m,\u001b[0m \u001b[0mtestAcc_model3\u001b[0m\u001b[0;34m,\u001b[0m \u001b[0mtrainLoss_model3\u001b[0m\u001b[0;34m,\u001b[0m \u001b[0mtestLoss_model3\u001b[0m \u001b[0;34m=\u001b[0m \u001b[0mtrain\u001b[0m\u001b[0;34m(\u001b[0m\u001b[0mnet\u001b[0m\u001b[0;34m=\u001b[0m\u001b[0mnet_model3\u001b[0m\u001b[0;34m,\u001b[0m \u001b[0mnepochs\u001b[0m\u001b[0;34m=\u001b[0m\u001b[0mnepochs\u001b[0m\u001b[0;34m,\u001b[0m \u001b[0mcriterion\u001b[0m\u001b[0;34m=\u001b[0m\u001b[0mcriterion\u001b[0m\u001b[0;34m,\u001b[0m \u001b[0moptimizer\u001b[0m\u001b[0;34m=\u001b[0m\u001b[0moptimizer\u001b[0m\u001b[0;34m,\u001b[0m \u001b[0mbatchSize\u001b[0m\u001b[0;34m=\u001b[0m\u001b[0mbatchSize\u001b[0m\u001b[0;34m)\u001b[0m\u001b[0;34m\u001b[0m\u001b[0;34m\u001b[0m\u001b[0m\n\u001b[0m",
            "\u001b[0;32m<ipython-input-11-1e94cea56800>\u001b[0m in \u001b[0;36mtrain\u001b[0;34m(net, nepochs, criterion, optimizer, batchSize)\u001b[0m\n\u001b[1;32m     48\u001b[0m           \u001b[0mloss\u001b[0m\u001b[0;34m.\u001b[0m\u001b[0mbackward\u001b[0m\u001b[0;34m(\u001b[0m\u001b[0;34m)\u001b[0m\u001b[0;34m\u001b[0m\u001b[0;34m\u001b[0m\u001b[0m\n\u001b[1;32m     49\u001b[0m           \u001b[0moptimizer\u001b[0m\u001b[0;34m.\u001b[0m\u001b[0mstep\u001b[0m\u001b[0;34m(\u001b[0m\u001b[0;34m)\u001b[0m\u001b[0;34m\u001b[0m\u001b[0;34m\u001b[0m\u001b[0m\n\u001b[0;32m---> 50\u001b[0;31m           \u001b[0mrunning_loss_train\u001b[0m \u001b[0;34m+=\u001b[0m \u001b[0mloss\u001b[0m\u001b[0;34m.\u001b[0m\u001b[0mitem\u001b[0m\u001b[0;34m(\u001b[0m\u001b[0;34m)\u001b[0m\u001b[0;34m\u001b[0m\u001b[0;34m\u001b[0m\u001b[0m\n\u001b[0m\u001b[1;32m     51\u001b[0m \u001b[0;34m\u001b[0m\u001b[0m\n\u001b[1;32m     52\u001b[0m       \u001b[0mtrainAcc\u001b[0m\u001b[0;34m.\u001b[0m\u001b[0mappend\u001b[0m\u001b[0;34m(\u001b[0m\u001b[0;34m(\u001b[0m\u001b[0mnumCorr_train\u001b[0m\u001b[0;34m/\u001b[0m\u001b[0mtotalTrainSamples\u001b[0m\u001b[0;34m)\u001b[0m\u001b[0;34m*\u001b[0m\u001b[0;36m100\u001b[0m\u001b[0;34m)\u001b[0m\u001b[0;34m\u001b[0m\u001b[0;34m\u001b[0m\u001b[0m\n",
            "\u001b[0;31mKeyboardInterrupt\u001b[0m: "
          ]
        }
      ]
    },
    {
      "cell_type": "code",
      "metadata": {
        "id": "DrweSPxh4uSO",
        "colab_type": "code",
        "colab": {
          "base_uri": "https://localhost:8080/",
          "height": 1000
        },
        "outputId": "1f28c936-0f12-453d-de86-d39e8af84d5b"
      },
      "source": [
        "import matplotlib.pyplot as plt\n",
        "\n",
        "fig1, ax1=  plt.subplots()\n",
        "plt.grid()\n",
        "ax1.plot(trainAcc_model1,marker='o', markerfacecolor='red', markersize=5, color='orange', linewidth=4)\n",
        "ax1.plot(testAcc_model1,marker='o', markerfacecolor='red', markersize=5, color='blue', linewidth=4)\n",
        "plt.gca().legend(('Train','Test'))\n",
        "ax1.set_title(\"Train V/S Test Accuracy\")\n",
        "ax1.set_xlabel(\"#Epochs\")\n",
        "\n",
        "fig2, ax2=  plt.subplots()\n",
        "plt.grid()\n",
        "ax2.plot(trainLoss_model1,marker='o', markerfacecolor='red', markersize=5, color='orange', linewidth=4,label=\"Train Loss\")\n",
        "ax2.plot(testLoss_model1,marker='o', markerfacecolor='red', markersize=5, color='blue', linewidth=4,label=\"Test Loss\")\n",
        "plt.gca().legend(('Train','Test'))\n",
        "ax2.set_title(\"Train V/S Test Loss\")\n",
        "ax2.set_xlabel(\"#Epochs\")\n",
        "\n",
        "fig3, ax3=  plt.subplots()\n",
        "plt.grid()\n",
        "ax3.plot(trainLoss_model1,marker='o', markerfacecolor='green', markersize=5, color='yellow', linewidth=4,label=\"Train Loss\")\n",
        "ax3.set_title(\"Train Loss\")\n",
        "ax3.set_xlabel(\"#Epochs\")\n",
        "\n",
        "from sklearn.metrics import precision_recall_fscore_support, f1_score, precision_score, recall_score\n",
        "\n",
        "correct = 0\n",
        "total = 0\n",
        "with torch.no_grad():\n",
        "    for data in testloader:\n",
        "        images, labels = data[0].to(device), data[1].to(device)\n",
        "        outputs = net_model1(images)\n",
        "        _, predicted = torch.max(outputs.data, 1)\n",
        "        total += labels.size(0)\n",
        "        correct += (predicted == labels).sum().item()\n",
        "        images = images.cpu()\n",
        "        labels = labels.cpu()\n",
        "        predicted = predicted.cpu()\n",
        "        print('F1: {}'.format(f1_score(labels, predicted, average=None)))\n",
        "        print('Precision: {}'.format(precision_score(labels, predicted,average=None)))\n",
        "        print('Recall: {}'.format(recall_score(labels, predicted,average=None)))\n",
        "        break\n",
        "\n",
        "print('Accuracy of the network on the 10000 test images: %d %%' % (\n",
        "    100 * correct / total))"
      ],
      "execution_count": 17,
      "outputs": [
        {
          "output_type": "stream",
          "text": [
            "F1: [1.         1.         1.         0.66666667 0.         1.\n",
            " 1.         0.         0.         0.         0.         0.66666667\n",
            " 1.         0.         1.         1.         1.         0.\n",
            " 1.         1.         0.         0.         0.         1.\n",
            " 0.         0.         1.         0.         1.         0.66666667\n",
            " 1.         1.         1.         0.         0.         1.\n",
            " 1.         1.         0.         0.8        1.         1.\n",
            " 0.         1.         0.         1.         0.5        0.8\n",
            " 0.57142857 0.         0.         0.8        0.         0.\n",
            " 1.         0.66666667 0.         0.         1.         0.        ]\n",
            "Precision: [1.         1.         1.         0.5        0.         1.\n",
            " 1.         0.         0.         0.         0.         1.\n",
            " 1.         0.         1.         1.         1.         0.\n",
            " 1.         1.         0.         0.         0.         1.\n",
            " 0.         0.         1.         0.         1.         0.5\n",
            " 1.         1.         1.         0.         0.         1.\n",
            " 1.         1.         0.         0.66666667 1.         1.\n",
            " 0.         1.         0.         1.         0.5        1.\n",
            " 0.5        0.         0.         1.         0.         0.\n",
            " 1.         1.         0.         0.         1.         0.        ]\n",
            "Recall: [1.         1.         1.         1.         0.         1.\n",
            " 1.         0.         0.         0.         0.         0.5\n",
            " 1.         0.         1.         1.         1.         0.\n",
            " 1.         1.         0.         0.         0.         1.\n",
            " 0.         0.         1.         0.         1.         1.\n",
            " 1.         1.         1.         0.         0.         1.\n",
            " 1.         1.         0.         1.         1.         1.\n",
            " 0.         1.         0.         1.         0.5        0.66666667\n",
            " 0.66666667 0.         0.         0.66666667 0.         0.\n",
            " 1.         0.5        0.         0.         1.         0.        ]\n",
            "Accuracy of the network on the 10000 test images: 65 %\n"
          ],
          "name": "stdout"
        },
        {
          "output_type": "stream",
          "text": [
            "/usr/local/lib/python3.6/dist-packages/sklearn/metrics/_classification.py:1272: UndefinedMetricWarning: Precision is ill-defined and being set to 0.0 in labels with no predicted samples. Use `zero_division` parameter to control this behavior.\n",
            "  _warn_prf(average, modifier, msg_start, len(result))\n",
            "/usr/local/lib/python3.6/dist-packages/sklearn/metrics/_classification.py:1272: UndefinedMetricWarning: Recall is ill-defined and being set to 0.0 in labels with no true samples. Use `zero_division` parameter to control this behavior.\n",
            "  _warn_prf(average, modifier, msg_start, len(result))\n"
          ],
          "name": "stderr"
        },
        {
          "output_type": "display_data",
          "data": {
            "image/png": "[encoded data removed]",
            "text/plain": [
              "<Figure size 432x288 with 1 Axes>"
            ]
          },
          "metadata": {
            "tags": [],
            "needs_background": "light"
          }
        },
        {
          "output_type": "display_data",
          "data": {
            "image/png": "[encoded data removed]",
            "text/plain": [
              "<Figure size 432x288 with 1 Axes>"
            ]
          },
          "metadata": {
            "tags": [],
            "needs_background": "light"
          }
        },
        {
          "output_type": "display_data",
          "data": {
            "image/png": "[encoded data removed]",
            "text/plain": [
              "<Figure size 432x288 with 1 Axes>"
            ]
          },
          "metadata": {
            "tags": [],
            "needs_background": "light"
          }
        }
      ]
    },
    {
      "cell_type": "code",
      "metadata": {
        "id": "aRFAsbzzola3",
        "colab_type": "code",
        "colab": {
          "base_uri": "https://localhost:8080/",
          "height": 1000
        },
        "outputId": "9e6222ae-f1a2-4408-fbf7-f75072454806"
      },
      "source": [
        "import matplotlib.pyplot as plt\n",
        "\n",
        "fig1, ax1=  plt.subplots()\n",
        "plt.grid()\n",
        "ax1.plot(trainAcc_model2,marker='o', markerfacecolor='red', markersize=5, color='orange', linewidth=4)\n",
        "ax1.plot(testAcc_model2,marker='o', markerfacecolor='red', markersize=5, color='blue', linewidth=4)\n",
        "plt.gca().legend(('Train','Test'))\n",
        "ax1.set_title(\"Train V/S Test Accuracy\")\n",
        "ax1.set_xlabel(\"#Epochs\")\n",
        "\n",
        "fig2, ax2=  plt.subplots()\n",
        "plt.grid()\n",
        "ax2.plot(trainLoss_model2,marker='o', markerfacecolor='red', markersize=5, color='orange', linewidth=4,label=\"Train Loss\")\n",
        "ax2.plot(testLoss_model2,marker='o', markerfacecolor='red', markersize=5, color='blue', linewidth=4,label=\"Test Loss\")\n",
        "plt.gca().legend(('Train','Test'))\n",
        "ax2.set_title(\"Train V/S Test Loss\")\n",
        "ax2.set_xlabel(\"#Epochs\")\n",
        "\n",
        "fig3, ax3=  plt.subplots()\n",
        "plt.grid()\n",
        "ax3.plot(trainLoss_model2,marker='o', markerfacecolor='green', markersize=5, color='yellow', linewidth=4,label=\"Train Loss\")\n",
        "ax3.set_title(\"Train Loss\")\n",
        "ax3.set_xlabel(\"#Epochs\")\n",
        "\n",
        "from sklearn.metrics import precision_recall_fscore_support, f1_score, precision_score, recall_score\n",
        "\n",
        "correct = 0\n",
        "total = 0\n",
        "with torch.no_grad():\n",
        "    for data in testloader:\n",
        "        images, labels = data[0].to(device), data[1].to(device)\n",
        "        outputs = net_model2(images)\n",
        "        _, predicted = torch.max(outputs.data, 1)\n",
        "        total += labels.size(0)\n",
        "        correct += (predicted == labels).sum().item()\n",
        "        images = images.cpu()\n",
        "        labels = labels.cpu()\n",
        "        predicted = predicted.cpu()\n",
        "        print('F1: {}'.format(f1_score(labels, predicted, average=None)))\n",
        "        print('Precision: {}'.format(precision_score(labels, predicted,average=None)))\n",
        "        print('Recall: {}'.format(recall_score(labels, predicted,average=None)))\n",
        "        break\n",
        "\n",
        "print('Accuracy of the network on the 10000 test images: %d %%' % (\n",
        "    100 * correct / total))"
      ],
      "execution_count": 18,
      "outputs": [
        {
          "output_type": "stream",
          "text": [
            "F1: [0.         1.         0.         0.66666667 0.66666667 1.\n",
            " 0.         1.         0.         0.         0.66666667 1.\n",
            " 1.         1.         1.         1.         0.         1.\n",
            " 1.         1.         0.         0.         0.         1.\n",
            " 1.         1.         1.         1.         1.         1.\n",
            " 1.         0.         0.         0.8        1.         1.\n",
            " 1.         1.         0.66666667 1.         0.         0.\n",
            " 1.         1.         1.         0.8        0.66666667 0.\n",
            " 0.         0.85714286 1.         0.         1.         0.\n",
            " 0.         0.66666667 0.         1.        ]\n",
            "Precision: [0.         1.         0.         0.5        1.         1.\n",
            " 0.         1.         0.         0.         1.         1.\n",
            " 1.         1.         1.         1.         0.         1.\n",
            " 1.         1.         0.         0.         0.         1.\n",
            " 1.         1.         1.         1.         1.         1.\n",
            " 1.         0.         0.         1.         1.         1.\n",
            " 1.         1.         0.5        1.         0.         0.\n",
            " 1.         1.         1.         1.         0.66666667 0.\n",
            " 0.         0.75       1.         0.         1.         0.\n",
            " 0.         1.         0.         1.        ]\n",
            "Recall: [0.         1.         0.         1.         0.5        1.\n",
            " 0.         1.         0.         0.         0.5        1.\n",
            " 1.         1.         1.         1.         0.         1.\n",
            " 1.         1.         0.         0.         0.         1.\n",
            " 1.         1.         1.         1.         1.         1.\n",
            " 1.         0.         0.         0.66666667 1.         1.\n",
            " 1.         1.         1.         1.         0.         0.\n",
            " 1.         1.         1.         0.66666667 0.66666667 0.\n",
            " 0.         1.         1.         0.         1.         0.\n",
            " 0.         0.5        0.         1.        ]\n",
            "Accuracy of the network on the 10000 test images: 75 %\n"
          ],
          "name": "stdout"
        },
        {
          "output_type": "stream",
          "text": [
            "/usr/local/lib/python3.6/dist-packages/sklearn/metrics/_classification.py:1272: UndefinedMetricWarning: Precision is ill-defined and being set to 0.0 in labels with no predicted samples. Use `zero_division` parameter to control this behavior.\n",
            "  _warn_prf(average, modifier, msg_start, len(result))\n",
            "/usr/local/lib/python3.6/dist-packages/sklearn/metrics/_classification.py:1272: UndefinedMetricWarning: Recall is ill-defined and being set to 0.0 in labels with no true samples. Use `zero_division` parameter to control this behavior.\n",
            "  _warn_prf(average, modifier, msg_start, len(result))\n"
          ],
          "name": "stderr"
        },
        {
          "output_type": "display_data",
          "data": {
            "image/png": "[encoded data removed]",
            "text/plain": [
              "<Figure size 432x288 with 1 Axes>"
            ]
          },
          "metadata": {
            "tags": [],
            "needs_background": "light"
          }
        },
        {
          "output_type": "display_data",
          "data": {
            "image/png": "[encoded data removed]",
            "text/plain": [
              "<Figure size 432x288 with 1 Axes>"
            ]
          },
          "metadata": {
            "tags": [],
            "needs_background": "light"
          }
        },
        {
          "output_type": "display_data",
          "data": {
            "image/png": "[encoded data removed]",
            "text/plain": [
              "<Figure size 432x288 with 1 Axes>"
            ]
          },
          "metadata": {
            "tags": [],
            "needs_background": "light"
          }
        }
      ]
    },
    {
      "cell_type": "code",
      "metadata": {
        "id": "SLDSX4m_EmG_",
        "colab_type": "code",
        "colab": {}
      },
      "source": [
        "# upload external file before import\n",
        "from google.colab import files\n",
        "\n",
        "torch.save(net.state_dict(), 'checkpoint.pth')\n",
        "\n",
        "# download checkpoint file\n",
        "files.download('checkpoint.pth')\n"
      ],
      "execution_count": 0,
      "outputs": []
    },
    {
      "cell_type": "code",
      "metadata": {
        "id": "ekP-7_mJMfmN",
        "colab_type": "code",
        "colab": {}
      },
      "source": [
        ""
      ],
      "execution_count": 0,
      "outputs": []
    }
  ]
}