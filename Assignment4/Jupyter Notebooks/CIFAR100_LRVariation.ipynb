{
  "nbformat": 4,
  "nbformat_minor": 0,
  "metadata": {
    "colab": {
      "name": "CIFAR100-LRVariation.ipynb",
      "provenance": [],
      "collapsed_sections": []
    },
    "kernelspec": {
      "name": "python3",
      "display_name": "Python 3"
    },
    "accelerator": "GPU"
  },
  "cells": [
    {
      "cell_type": "code",
      "metadata": {
        "id": "vRSitxHW8L-y",
        "colab_type": "code",
        "colab": {}
      },
      "source": [
        "import torch\n",
        "import torch.nn as nn\n",
        "import torchvision.datasets as dsets\n",
        "import torchvision.transforms as transforms\n",
        "from torch.autograd import Variable\n",
        "import torchvision\n",
        "import torch.nn as nn\n",
        "import torch.nn.functional as F\n",
        "import torch.optim as optim\n",
        "import numpy as np\n",
        "import matplotlib.pyplot as plt"
      ],
      "execution_count": 0,
      "outputs": []
    },
    {
      "cell_type": "code",
      "metadata": {
        "id": "oIdoeIK68kEF",
        "colab_type": "code",
        "outputId": "01c153cc-294b-4db6-9d5e-6e587bf1f916",
        "colab": {
          "base_uri": "https://localhost:8080/",
          "height": 34
        }
      },
      "source": [
        "# Define transformations for the train set\n",
        "train_transformations = transforms.Compose([\n",
        "    transforms.RandomHorizontalFlip(),\n",
        "    transforms.RandomCrop(32,padding=4),\n",
        "    transforms.ToTensor(),\n",
        "    transforms.Normalize((0.5,0.5,0.5), (0.5,0.5,0.5))\n",
        "])\n",
        "trainset = torchvision.datasets.CIFAR100(root='./data', train=True, download=True,transform=train_transformations)\n",
        "trainloader = torch.utils.data.DataLoader(trainset, batch_size=64, shuffle=True, num_workers=2)"
      ],
      "execution_count": 0,
      "outputs": [
        {
          "output_type": "stream",
          "text": [
            "Files already downloaded and verified\n"
          ],
          "name": "stdout"
        }
      ]
    },
    {
      "cell_type": "code",
      "metadata": {
        "id": "ggrL2gCcg4x3",
        "colab_type": "code",
        "outputId": "ac47ddf5-f922-4813-dc73-5ce3b50afda0",
        "colab": {
          "base_uri": "https://localhost:8080/",
          "height": 34
        }
      },
      "source": [
        "# Define transformations for the test set\n",
        "test_transformations = transforms.Compose([\n",
        "    transforms.ToTensor(),\n",
        "    transforms.Normalize((0.5, 0.5, 0.5), (0.5, 0.5, 0.5))\n",
        "\n",
        "])\n",
        "\n",
        "testset = torchvision.datasets.CIFAR100(root='./data', train=False, download=True,transform=test_transformations)\n",
        "testloader = torch.utils.data.DataLoader(testset, batch_size=64, shuffle=False, num_workers=2)"
      ],
      "execution_count": 0,
      "outputs": [
        {
          "output_type": "stream",
          "text": [
            "Files already downloaded and verified\n"
          ],
          "name": "stdout"
        }
      ]
    },
    {
      "cell_type": "code",
      "metadata": {
        "id": "plQzWUvHg0TC",
        "colab_type": "code",
        "outputId": "ed689442-cacf-4032-e8ce-53bc36b25a25",
        "colab": {
          "base_uri": "https://localhost:8080/",
          "height": 34
        }
      },
      "source": [
        "device = torch.device(\"cuda:0\" if torch.cuda.is_available() else \"cpu\")\n",
        "print(device)"
      ],
      "execution_count": 0,
      "outputs": [
        {
          "output_type": "stream",
          "text": [
            "cuda:0\n"
          ],
          "name": "stdout"
        }
      ]
    },
    {
      "cell_type": "code",
      "metadata": {
        "id": "OKlNs99dDSTp",
        "colab_type": "code",
        "colab": {}
      },
      "source": [
        "#converting into an iterable object\n",
        "trainiter = iter(trainloader)\n",
        "testiter = iter(testloader)"
      ],
      "execution_count": 0,
      "outputs": []
    },
    {
      "cell_type": "code",
      "metadata": {
        "id": "zofpwYnVLFzm",
        "colab_type": "code",
        "outputId": "c83357c2-75d9-4121-9bfe-e543f59e6174",
        "colab": {
          "base_uri": "https://localhost:8080/",
          "height": 367
        }
      },
      "source": [
        "#Analyzing one sample and display one particular image\n",
        "image, label = trainiter.next()\n",
        "print(type(image))\n",
        "print(image.size())\n",
        "print(label.size())\n",
        "\n",
        "img = image[0,:].numpy();\n",
        "img=np.transpose(img,(1,2,0))\n",
        "l=label[0].numpy()\n",
        "print(l)\n",
        "plt.imshow(img)"
      ],
      "execution_count": 0,
      "outputs": [
        {
          "output_type": "stream",
          "text": [
            "<class 'torch.Tensor'>\n",
            "torch.Size([64, 3, 32, 32])\n",
            "torch.Size([64])\n",
            "4\n"
          ],
          "name": "stdout"
        },
        {
          "output_type": "stream",
          "text": [
            "Clipping input data to the valid range for imshow with RGB data ([0..1] for floats or [0..255] for integers).\n"
          ],
          "name": "stderr"
        },
        {
          "output_type": "execute_result",
          "data": {
            "text/plain": [
              "<matplotlib.image.AxesImage at 0x7f491c1d2358>"
            ]
          },
          "metadata": {
            "tags": []
          },
          "execution_count": 6
        },
        {
          "output_type": "display_data",
          "data": {
            "image/png": "[encoded data removed]",
            "text/plain": [
              "<Figure size 432x288 with 1 Axes>"
            ]
          },
          "metadata": {
            "tags": [],
            "needs_background": "light"
          }
        }
      ]
    },
    {
      "cell_type": "code",
      "metadata": {
        "id": "TAHqE_Dtf8QC",
        "colab_type": "code",
        "colab": {}
      },
      "source": [
        "class Unit(nn.Module):\n",
        "    def __init__(self,in_channels,out_channels):\n",
        "        super(Unit,self).__init__()\n",
        "        \n",
        "\n",
        "        self.conv = nn.Conv2d(in_channels=in_channels,kernel_size=3,out_channels=out_channels,stride=1,padding=1)\n",
        "        nn.init.xavier_uniform(self.conv.weight)\n",
        "        self.bn = nn.BatchNorm2d(num_features=out_channels)\n",
        "        self.relu = nn.ReLU(inplace=True)\n",
        "\n",
        "    def forward(self,input):\n",
        "        output = self.conv(input)\n",
        "        output = self.bn(output)\n",
        "        output = self.relu(output)\n",
        "\n",
        "        return output"
      ],
      "execution_count": 0,
      "outputs": []
    },
    {
      "cell_type": "code",
      "metadata": {
        "id": "H-MjbMq58nKq",
        "colab_type": "code",
        "colab": {}
      },
      "source": [
        "class Model1(nn.Module):\n",
        "    def __init__(self,num_classes=100):\n",
        "        super(Model1,self).__init__()\n",
        "\n",
        "        self.unit1 = Unit(in_channels=3,out_channels=64)\n",
        "        self.unit2 = Unit(in_channels=64,out_channels=64)\n",
        "        \n",
        "        self.pool1 = nn.MaxPool2d(kernel_size=2)\n",
        "\n",
        "        self.unit3 = Unit(in_channels=64,out_channels=128)\n",
        "        self.unit4 = Unit(in_channels=128,out_channels=128)\n",
        "        \n",
        "        self.pool2 = nn.MaxPool2d(kernel_size=2)\n",
        "\n",
        "        self.unit5 = Unit(in_channels=128,out_channels=256)\n",
        "        self.unit6 = Unit(in_channels=256,out_channels=256)\n",
        "        \n",
        "        self.pool3 = nn.MaxPool2d(kernel_size=2)\n",
        "\n",
        "        self.unit7 = Unit(in_channels=256,out_channels=512)\n",
        "        self.unit8 = Unit(in_channels=512,out_channels=512)\n",
        "        \n",
        "        self.pool4 = nn.MaxPool2d(kernel_size=2)\n",
        "\n",
        "        self.unit9 = Unit(in_channels=512,out_channels=512)\n",
        "        self.unit10 = Unit(in_channels=512,out_channels=512)\n",
        "        \n",
        "        self.pool5 = nn.MaxPool2d(kernel_size=2)\n",
        "\n",
        "\n",
        "        self.net = nn.Sequential(\n",
        "            self.unit1,\n",
        "            self.unit2,\n",
        "            self.pool1,\n",
        "            self.unit3,\n",
        "            self.unit4,\n",
        "            self.pool2,\n",
        "            self.unit5,\n",
        "            self.unit6,\n",
        "            self.pool3,\n",
        "            self.unit7,\n",
        "            self.unit8,\n",
        "            self.pool4,\n",
        "            self.unit9,\n",
        "            self.unit10,\n",
        "            self.pool5,\n",
        "        )\n",
        "\n",
        "        self.classifier = nn.Sequential(\n",
        "            nn.Linear(512, 4096),\n",
        "            nn.ReLU(inplace=True),\n",
        "            nn.Dropout(),\n",
        "            nn.Linear(4096, 4096),\n",
        "            nn.ReLU(inplace=True),\n",
        "            nn.Dropout(),\n",
        "            nn.Linear(4096, num_classes)\n",
        "        )\n",
        "\n",
        "    def forward(self, input):\n",
        "        output = self.net(input)\n",
        "        output = output.view(output.size()[0], -1)\n",
        "        output = self.classifier(output)\n",
        "        return output"
      ],
      "execution_count": 0,
      "outputs": []
    },
    {
      "cell_type": "code",
      "metadata": {
        "id": "5E2F60OsgAPn",
        "colab_type": "code",
        "colab": {}
      },
      "source": [
        "class Model2(nn.Module):\n",
        "    def __init__(self,num_classes=100):\n",
        "        super(Model2,self).__init__()\n",
        "\n",
        "        self.unit1 = Unit(in_channels=3,out_channels=64)\n",
        "        \n",
        "        self.pool1 = nn.MaxPool2d(kernel_size=2)\n",
        "\n",
        "        self.unit2 = Unit(in_channels=64,out_channels=128)\n",
        "        \n",
        "        self.pool2 = nn.MaxPool2d(kernel_size=2)\n",
        "\n",
        "        self.unit3 = Unit(in_channels=128,out_channels=256)\n",
        "        self.unit4 = Unit(in_channels=256,out_channels=256)\n",
        "        \n",
        "        self.pool3 = nn.MaxPool2d(kernel_size=2)\n",
        "\n",
        "        self.unit5 = Unit(in_channels=256,out_channels=512)\n",
        "        self.unit6 = Unit(in_channels=512,out_channels=512)\n",
        "        \n",
        "        self.pool4 = nn.MaxPool2d(kernel_size=2)\n",
        "\n",
        "        self.unit7 = Unit(in_channels=512,out_channels=512)\n",
        "        self.unit8 = Unit(in_channels=512,out_channels=512)\n",
        "        \n",
        "        self.pool5 = nn.MaxPool2d(kernel_size=2)\n",
        "\n",
        "\n",
        "        self.net = nn.Sequential(\n",
        "            self.unit1,\n",
        "            self.pool1,\n",
        "            self.unit2,\n",
        "            self.pool2,\n",
        "            self.unit3,\n",
        "            self.unit4,\n",
        "            self.pool3,\n",
        "            self.unit5,\n",
        "            self.unit6,\n",
        "            self.pool4,\n",
        "            self.unit7,\n",
        "            self.unit8,\n",
        "            self.pool5,\n",
        "        )\n",
        "\n",
        "        self.classifier = nn.Sequential(\n",
        "            nn.Linear(512, 4096),\n",
        "            nn.ReLU(inplace=True),\n",
        "            nn.Dropout(),\n",
        "            nn.Linear(4096, 4096),\n",
        "            nn.ReLU(inplace=True),\n",
        "            nn.Dropout(),\n",
        "            nn.Linear(4096, num_classes)\n",
        "        )\n",
        "\n",
        "    def forward(self, input):\n",
        "        output = self.net(input)\n",
        "        output = output.view(output.size()[0], -1)\n",
        "        output = self.classifier(output)\n",
        "        return output"
      ],
      "execution_count": 0,
      "outputs": []
    },
    {
      "cell_type": "code",
      "metadata": {
        "id": "I4z9zqfjgAnW",
        "colab_type": "code",
        "colab": {}
      },
      "source": [
        "class Model3(nn.Module):\n",
        "    def __init__(self,num_classes=100):\n",
        "        super(Model3,self).__init__()\n",
        "\n",
        "        self.unit1 = Unit(in_channels=3,out_channels=64)\n",
        "        \n",
        "        self.pool1 = nn.MaxPool2d(kernel_size=2)\n",
        "\n",
        "        self.unit2 = Unit(in_channels=64,out_channels=128)\n",
        "        \n",
        "        self.pool2 = nn.MaxPool2d(kernel_size=2)\n",
        "\n",
        "        self.unit3 = Unit(in_channels=128,out_channels=256)\n",
        "        \n",
        "        self.pool3 = nn.MaxPool2d(kernel_size=2)\n",
        "\n",
        "        self.unit4 = Unit(in_channels=256,out_channels=512)\n",
        "        \n",
        "        self.pool4 = nn.MaxPool2d(kernel_size=2)\n",
        "\n",
        "        self.unit5 = Unit(in_channels=512,out_channels=512)\n",
        "        \n",
        "        self.pool5 = nn.MaxPool2d(kernel_size=2)\n",
        "\n",
        "\n",
        "        self.net = nn.Sequential(\n",
        "            self.unit1,\n",
        "            self.pool1,\n",
        "            self.unit2,\n",
        "            self.pool2,\n",
        "            self.unit3,\n",
        "            self.pool3,\n",
        "            self.unit4,\n",
        "            self.pool4,\n",
        "            self.unit5,\n",
        "            self.pool5,\n",
        "        )\n",
        "\n",
        "        self.classifier = nn.Sequential(\n",
        "            nn.Linear(512, 4096),\n",
        "            nn.ReLU(inplace=True),\n",
        "            nn.Dropout(),\n",
        "            nn.Linear(4096, 4096),\n",
        "            nn.ReLU(inplace=True),\n",
        "            nn.Dropout(),\n",
        "            nn.Linear(4096, num_classes)\n",
        "        )\n",
        "\n",
        "    def forward(self, input):\n",
        "        output = self.net(input)\n",
        "        output = output.view(output.size()[0], -1)\n",
        "        output = self.classifier(output)\n",
        "        return output"
      ],
      "execution_count": 0,
      "outputs": []
    },
    {
      "cell_type": "code",
      "metadata": {
        "id": "KQZk-wBy8pIJ",
        "colab_type": "code",
        "colab": {}
      },
      "source": [
        "def adjust_learning_rate(optimizer, epoch):\n",
        "    lr = 0.001\n",
        "\n",
        "    if epoch > 180:\n",
        "        lr = lr / 1000000\n",
        "    elif epoch > 150:\n",
        "        lr = lr / 100000\n",
        "    elif epoch > 120:\n",
        "        lr = lr / 10000\n",
        "    elif epoch > 90:\n",
        "        lr = lr / 1000\n",
        "    elif epoch > 60:\n",
        "        lr = lr / 100\n",
        "    elif epoch > 30:\n",
        "        lr = lr / 10\n",
        "\n",
        "    for param_group in optimizer.param_groups:\n",
        "        param_group[\"lr\"] = lr\n",
        "\n",
        "def correct(groundTruth,output):\n",
        "  assert groundTruth.size(0) == output.size(0)\n",
        "  _, indices = torch.max(output, 1)\n",
        "  ch=torch.eq(groundTruth,indices)\n",
        "  return torch.sum(ch).item()\n",
        "  \n",
        "def train(net, nepochs, criterion, optimizer, batchSize, adjust_lr=True):   \n",
        "  trainAcc=[];testAcc=[];\n",
        "  trainLoss=[];testLoss=[];\n",
        "\n",
        "  totalTrainSamples=len(trainloader.dataset)\n",
        "  print(\"Total training samples :\", totalTrainSamples)\n",
        "  totalTestSamples=len(testloader.dataset);\n",
        "  print(\"Total testing samples :\", totalTestSamples)\n",
        "\n",
        "  for epoch in range(nepochs):\n",
        "\n",
        "      #TRAINING\n",
        "      running_loss_train = 0.0\n",
        "      numCorr_train=0;\n",
        "      net.train()\n",
        "      \n",
        "      for i, data in enumerate(trainloader, 0):  \n",
        "          inputs, labels = data[0].to(device), data[1].to(device)\n",
        "          optimizer.zero_grad()\n",
        "          outputs = net(inputs)\n",
        "          numCorr_train+=correct(labels,outputs)      \n",
        "          loss = criterion(outputs, labels)\n",
        "          loss.backward()\n",
        "          optimizer.step()\n",
        "          running_loss_train += loss.item()\n",
        "                \n",
        "      trainAcc.append((numCorr_train/totalTrainSamples)*100)\n",
        "      trainLoss.append(running_loss_train/totalTrainSamples)\n",
        "\n",
        "      if adjust_lr:\n",
        "        adjust_learning_rate(optimizer=optimizer, epoch=epoch)\n",
        "      \n",
        "      #TESTING\n",
        "      net.eval()\n",
        "      running_loss_test = 0.0\n",
        "      numCorr_test=0;\n",
        "      for i, data in enumerate(testloader, 0):\n",
        "          inputs, labels = data[0].to(device), data[1].to(device)\n",
        "          outputs = net(inputs)\n",
        "          numCorr_test+=correct(labels,outputs)\n",
        "          loss = criterion(outputs, labels)      \n",
        "          running_loss_test += loss.item()\n",
        "      \n",
        "      testAcc.append((numCorr_test/totalTestSamples)*100)\n",
        "      testLoss.append(running_loss_test/totalTestSamples)\n",
        "\n",
        "      print(\"Epoch: {} | Train Loss: {} | Train Accuracy: {}% | Test Loss: {} | Test Accuracy: {}%\".format(epoch, running_loss_train/totalTrainSamples, round((numCorr_train/totalTrainSamples)*100,2), running_loss_test/totalTestSamples, round((numCorr_test/totalTestSamples)*100,2)))\n",
        "      if epoch % 20 == 0:\n",
        "        torch.save(net.state_dict(), 'checkpoint_{}.pth'.format(epoch))\n",
        "\n",
        "  return net, trainAcc, testAcc, trainLoss, testLoss"
      ],
      "execution_count": 0,
      "outputs": []
    },
    {
      "cell_type": "code",
      "metadata": {
        "id": "lp8NJTXHhqIy",
        "colab_type": "code",
        "colab": {}
      },
      "source": [
        "# print(\"Model{} with {} initialization {} and {} Loss\".format(1, 'Uniform Xavier', 'Adaptive Learning Rate', 'Cross Entropy'))\n",
        "# net_adapt_lr = Model1(100)\n",
        "# net_adapt_lr.to(device)\n",
        "# criterion = nn.CrossEntropyLoss()\n",
        "# momentum=0.09\n",
        "# nepochs=100\n",
        "# optimizer=optim.Adam(net_adapt_lr.parameters(), lr=0.001, weight_decay=0.0001)\n",
        "# batchSize=128\n",
        "\n",
        "# net_adapt_lr, trainAcc_adapt_lr, testAcc_adapt_lr, trainLoss_adapt_lr, testLoss_adapt_lr = train(net=net_adapt_lr, nepochs=nepochs, criterion=criterion, optimizer=optimizer, batchSize=batchSize)"
      ],
      "execution_count": 0,
      "outputs": []
    },
    {
      "cell_type": "code",
      "metadata": {
        "id": "A9NrFEGBq1sd",
        "colab_type": "code",
        "outputId": "bb40d4c3-e6c8-477f-9c25-b118aff4aad6",
        "colab": {
          "base_uri": "https://localhost:8080/",
          "height": 1000
        }
      },
      "source": [
        "print(\"Model{} with {} initialization {} and {} Loss\".format(1, 'Uniform Xavier', 'Fixed Learning Rate', 'Multi Margin'))\n",
        "net_fixed_lr = Model1(100)\n",
        "net_fixed_lr.to(device)\n",
        "criterion = nn.MultiMarginLoss()\n",
        "momentum=0.09\n",
        "nepochs=100\n",
        "optimizer=optim.Adam(net_fixed_lr.parameters(), lr=0.001, weight_decay=0.0001)\n",
        "batchSize=128\n",
        "\n",
        "net_fixed_lr, trainAcc_fixed_lr, testAcc_fixed_lr, trainLoss_fixed_lr, testLoss_fixed_lr = train(net=net_fixed_lr, nepochs=nepochs, criterion=criterion, optimizer=optimizer, batchSize=batchSize, adjust_lr=False)"
      ],
      "execution_count": 0,
      "outputs": [
        {
          "output_type": "stream",
          "text": [
            "Model1 with Uniform Xavier initialization Fixed Learning Rate and Multi Margin Loss\n"
          ],
          "name": "stdout"
        },
        {
          "output_type": "stream",
          "text": [
            "/usr/local/lib/python3.6/dist-packages/ipykernel_launcher.py:7: UserWarning: nn.init.xavier_uniform is now deprecated in favor of nn.init.xavier_uniform_.\n",
            "  import sys\n"
          ],
          "name": "stderr"
        },
        {
          "output_type": "stream",
          "text": [
            "Total training samples : 50000\n",
            "Total testing samples : 10000\n",
            "Epoch: 0 | Train Loss: 0.012000900542140007 | Train Accuracy: 2.36% | Test Loss: 0.009423403713107108 | Test Accuracy: 3.83%\n",
            "Epoch: 1 | Train Loss: 0.009169542056918145 | Train Accuracy: 4.21% | Test Loss: 0.008241811931133271 | Test Accuracy: 5.0%\n",
            "Epoch: 2 | Train Loss: 0.007876887092590332 | Train Accuracy: 5.57% | Test Loss: 0.006743191710114479 | Test Accuracy: 7.98%\n",
            "Epoch: 3 | Train Loss: 0.00705838042974472 | Train Accuracy: 6.64% | Test Loss: 0.007644688284397125 | Test Accuracy: 6.0%\n",
            "Epoch: 4 | Train Loss: 0.006310077899694443 | Train Accuracy: 7.98% | Test Loss: 0.007730018502473832 | Test Accuracy: 6.63%\n",
            "Epoch: 5 | Train Loss: 0.005714187316596508 | Train Accuracy: 9.56% | Test Loss: 0.005530760341882705 | Test Accuracy: 10.15%\n",
            "Epoch: 6 | Train Loss: 0.005147456566095352 | Train Accuracy: 11.13% | Test Loss: 0.005484460327029228 | Test Accuracy: 12.1%\n",
            "Epoch: 7 | Train Loss: 0.004624591946005821 | Train Accuracy: 12.82% | Test Loss: 0.004176190277934075 | Test Accuracy: 15.43%\n",
            "Epoch: 8 | Train Loss: 0.004216806488335133 | Train Accuracy: 14.51% | Test Loss: 0.003781115534901619 | Test Accuracy: 17.01%\n",
            "Epoch: 9 | Train Loss: 0.0038545144870877268 | Train Accuracy: 16.04% | Test Loss: 0.0034408312156796457 | Test Accuracy: 19.44%\n",
            "Epoch: 10 | Train Loss: 0.003545372039973736 | Train Accuracy: 17.56% | Test Loss: 0.0033944812066853047 | Test Accuracy: 20.16%\n",
            "Epoch: 11 | Train Loss: 0.003262324934452772 | Train Accuracy: 19.6% | Test Loss: 0.0029806448444724084 | Test Accuracy: 22.39%\n",
            "Epoch: 12 | Train Loss: 0.0030125842760503293 | Train Accuracy: 20.93% | Test Loss: 0.002940911553800106 | Test Accuracy: 22.54%\n",
            "Epoch: 13 | Train Loss: 0.002852307965159416 | Train Accuracy: 22.39% | Test Loss: 0.0029701239936053754 | Test Accuracy: 22.9%\n",
            "Epoch: 14 | Train Loss: 0.0027451643359661104 | Train Accuracy: 23.75% | Test Loss: 0.0026397637732326986 | Test Accuracy: 25.86%\n",
            "Epoch: 15 | Train Loss: 0.002620374586135149 | Train Accuracy: 24.56% | Test Loss: 0.002445108713954687 | Test Accuracy: 26.84%\n",
            "Epoch: 16 | Train Loss: 0.002499593090713024 | Train Accuracy: 25.33% | Test Loss: 0.00229210908934474 | Test Accuracy: 29.56%\n",
            "Epoch: 17 | Train Loss: 0.002416423879861832 | Train Accuracy: 26.49% | Test Loss: 0.0021796067103743554 | Test Accuracy: 30.05%\n",
            "Epoch: 18 | Train Loss: 0.002358708885461092 | Train Accuracy: 26.65% | Test Loss: 0.0022346024572849274 | Test Accuracy: 29.54%\n",
            "Epoch: 19 | Train Loss: 0.002318040719926357 | Train Accuracy: 27.0% | Test Loss: 0.0022337190248072148 | Test Accuracy: 30.86%\n",
            "Epoch: 20 | Train Loss: 0.002262806530892849 | Train Accuracy: 27.58% | Test Loss: 0.002162721339985728 | Test Accuracy: 30.79%\n",
            "Epoch: 21 | Train Loss: 0.002194078857302666 | Train Accuracy: 28.12% | Test Loss: 0.0021092570662498474 | Test Accuracy: 31.86%\n",
            "Epoch: 22 | Train Loss: 0.002167819688171148 | Train Accuracy: 28.36% | Test Loss: 0.0022411375239491465 | Test Accuracy: 30.71%\n",
            "Epoch: 23 | Train Loss: 0.002123135204911232 | Train Accuracy: 28.92% | Test Loss: 0.0020244826048612594 | Test Accuracy: 32.99%\n",
            "Epoch: 24 | Train Loss: 0.002094724237769842 | Train Accuracy: 29.64% | Test Loss: 0.002046825198829174 | Test Accuracy: 31.81%\n",
            "Epoch: 25 | Train Loss: 0.002049424985200167 | Train Accuracy: 29.6% | Test Loss: 0.0019496110316365957 | Test Accuracy: 34.52%\n",
            "Epoch: 26 | Train Loss: 0.0020133613985031844 | Train Accuracy: 30.27% | Test Loss: 0.0019738434329628946 | Test Accuracy: 32.75%\n",
            "Epoch: 27 | Train Loss: 0.002036307633072138 | Train Accuracy: 30.42% | Test Loss: 0.0019302560865879059 | Test Accuracy: 34.47%\n",
            "Epoch: 28 | Train Loss: 0.001958290961831808 | Train Accuracy: 30.87% | Test Loss: 0.0019430015206336976 | Test Accuracy: 33.89%\n",
            "Epoch: 29 | Train Loss: 0.0019591322426497936 | Train Accuracy: 31.27% | Test Loss: 0.002011360238492489 | Test Accuracy: 35.13%\n",
            "Epoch: 30 | Train Loss: 0.001912200564146042 | Train Accuracy: 31.62% | Test Loss: 0.0020393017284572124 | Test Accuracy: 33.25%\n",
            "Epoch: 31 | Train Loss: 0.0019165677512437106 | Train Accuracy: 31.68% | Test Loss: 0.0019687202017754316 | Test Accuracy: 34.81%\n",
            "Epoch: 32 | Train Loss: 0.0018717962547391653 | Train Accuracy: 31.76% | Test Loss: 0.001880966767296195 | Test Accuracy: 35.85%\n",
            "Epoch: 33 | Train Loss: 0.0018322728714346885 | Train Accuracy: 32.61% | Test Loss: 0.0018293588705360889 | Test Accuracy: 35.7%\n",
            "Epoch: 34 | Train Loss: 0.0018423975154012442 | Train Accuracy: 32.6% | Test Loss: 0.0018957548256963491 | Test Accuracy: 36.25%\n",
            "Epoch: 35 | Train Loss: 0.0018310009092837572 | Train Accuracy: 32.89% | Test Loss: 0.00184379412420094 | Test Accuracy: 35.6%\n",
            "Epoch: 36 | Train Loss: 0.0018029545091837644 | Train Accuracy: 33.22% | Test Loss: 0.0021377751268446443 | Test Accuracy: 33.96%\n",
            "Epoch: 37 | Train Loss: 0.0017818775081634521 | Train Accuracy: 33.59% | Test Loss: 0.0019684872824698688 | Test Accuracy: 34.59%\n",
            "Epoch: 38 | Train Loss: 0.0017781807636469602 | Train Accuracy: 33.39% | Test Loss: 0.0018405642386525869 | Test Accuracy: 36.77%\n",
            "Epoch: 39 | Train Loss: 0.0017742436977475882 | Train Accuracy: 34.02% | Test Loss: 0.0018421320468187331 | Test Accuracy: 36.74%\n",
            "Epoch: 40 | Train Loss: 0.0017598199935257436 | Train Accuracy: 34.25% | Test Loss: 0.0019362674284726382 | Test Accuracy: 35.0%\n",
            "Epoch: 41 | Train Loss: 0.0017352779275923967 | Train Accuracy: 34.22% | Test Loss: 0.002153824084997177 | Test Accuracy: 33.86%\n",
            "Epoch: 42 | Train Loss: 0.001759263097792864 | Train Accuracy: 34.13% | Test Loss: 0.0018399176456034183 | Test Accuracy: 35.5%\n",
            "Epoch: 43 | Train Loss: 0.0017187861365824937 | Train Accuracy: 34.38% | Test Loss: 0.001855304939672351 | Test Accuracy: 37.44%\n",
            "Epoch: 44 | Train Loss: 0.0017068959403038024 | Train Accuracy: 34.84% | Test Loss: 0.0017201241750270128 | Test Accuracy: 38.43%\n",
            "Epoch: 45 | Train Loss: 0.001715883096307516 | Train Accuracy: 34.74% | Test Loss: 0.001839003485441208 | Test Accuracy: 37.67%\n",
            "Epoch: 46 | Train Loss: 0.001710559665635228 | Train Accuracy: 35.05% | Test Loss: 0.0019222960725426674 | Test Accuracy: 36.44%\n",
            "Epoch: 47 | Train Loss: 0.0016880872140079737 | Train Accuracy: 35.29% | Test Loss: 0.0017678479798138142 | Test Accuracy: 38.04%\n",
            "Epoch: 48 | Train Loss: 0.001681535837650299 | Train Accuracy: 35.31% | Test Loss: 0.0019378539063036441 | Test Accuracy: 36.75%\n",
            "Epoch: 49 | Train Loss: 0.0016990046129375697 | Train Accuracy: 35.47% | Test Loss: 0.0017897905141115189 | Test Accuracy: 37.79%\n",
            "Epoch: 50 | Train Loss: 0.0016685009574145078 | Train Accuracy: 35.6% | Test Loss: 0.0017282865412533283 | Test Accuracy: 38.99%\n",
            "Epoch: 51 | Train Loss: 0.0016789871174842119 | Train Accuracy: 35.43% | Test Loss: 0.0017032216604799032 | Test Accuracy: 39.59%\n",
            "Epoch: 52 | Train Loss: 0.001647139354199171 | Train Accuracy: 36.02% | Test Loss: 0.0018609793189913034 | Test Accuracy: 37.14%\n",
            "Epoch: 53 | Train Loss: 0.0016557312519103289 | Train Accuracy: 35.71% | Test Loss: 0.0018282736729830504 | Test Accuracy: 37.47%\n",
            "Epoch: 54 | Train Loss: 0.0016597265024483204 | Train Accuracy: 35.87% | Test Loss: 0.0018023946955800056 | Test Accuracy: 37.25%\n",
            "Epoch: 55 | Train Loss: 0.0016458208248764277 | Train Accuracy: 36.12% | Test Loss: 0.0017575552020221948 | Test Accuracy: 37.19%\n",
            "Epoch: 56 | Train Loss: 0.0016458365610986948 | Train Accuracy: 36.17% | Test Loss: 0.001846165968477726 | Test Accuracy: 38.19%\n",
            "Epoch: 57 | Train Loss: 0.0016498191653192044 | Train Accuracy: 35.91% | Test Loss: 0.0016120582729578017 | Test Accuracy: 39.49%\n",
            "Epoch: 58 | Train Loss: 0.001620099493637681 | Train Accuracy: 36.19% | Test Loss: 0.002062564142793417 | Test Accuracy: 37.05%\n",
            "Epoch: 59 | Train Loss: 0.0016304194257408381 | Train Accuracy: 35.91% | Test Loss: 0.0017959612105041742 | Test Accuracy: 38.8%\n",
            "Epoch: 60 | Train Loss: 0.0016136961063742637 | Train Accuracy: 36.4% | Test Loss: 0.001728704907372594 | Test Accuracy: 39.02%\n",
            "Epoch: 61 | Train Loss: 0.001604528840109706 | Train Accuracy: 36.66% | Test Loss: 0.0018039864171296358 | Test Accuracy: 38.23%\n",
            "Epoch: 62 | Train Loss: 0.001605726606696844 | Train Accuracy: 36.46% | Test Loss: 0.002247044748440385 | Test Accuracy: 35.44%\n",
            "Epoch: 63 | Train Loss: 0.0016156435319781303 | Train Accuracy: 36.27% | Test Loss: 0.0017476033076643943 | Test Accuracy: 38.85%\n",
            "Epoch: 64 | Train Loss: 0.0016004271229356527 | Train Accuracy: 36.9% | Test Loss: 0.0018955781538039446 | Test Accuracy: 37.39%\n",
            "Epoch: 65 | Train Loss: 0.0015910982313007116 | Train Accuracy: 36.64% | Test Loss: 0.0017195771023631097 | Test Accuracy: 39.1%\n",
            "Epoch: 66 | Train Loss: 0.0016114475504308938 | Train Accuracy: 36.61% | Test Loss: 0.0016545672431588173 | Test Accuracy: 39.95%\n",
            "Epoch: 67 | Train Loss: 0.001606351125240326 | Train Accuracy: 36.96% | Test Loss: 0.0017531339205801486 | Test Accuracy: 39.44%\n",
            "Epoch: 68 | Train Loss: 0.0015859149239957333 | Train Accuracy: 36.97% | Test Loss: 0.0016463681727647782 | Test Accuracy: 41.23%\n",
            "Epoch: 69 | Train Loss: 0.001605770737975836 | Train Accuracy: 36.58% | Test Loss: 0.0017442619740962982 | Test Accuracy: 39.68%\n",
            "Epoch: 70 | Train Loss: 0.0015660930855572223 | Train Accuracy: 37.23% | Test Loss: 0.0016326636169105768 | Test Accuracy: 40.99%\n",
            "Epoch: 71 | Train Loss: 0.001572273817807436 | Train Accuracy: 36.78% | Test Loss: 0.0015689688261598348 | Test Accuracy: 40.87%\n",
            "Epoch: 72 | Train Loss: 0.0015715958476811647 | Train Accuracy: 37.05% | Test Loss: 0.0018505576476454736 | Test Accuracy: 37.55%\n",
            "Epoch: 73 | Train Loss: 0.001580272751301527 | Train Accuracy: 36.96% | Test Loss: 0.0017505412857979537 | Test Accuracy: 40.25%\n",
            "Epoch: 74 | Train Loss: 0.0015550361278653146 | Train Accuracy: 37.46% | Test Loss: 0.0017185012020170688 | Test Accuracy: 39.32%\n",
            "Epoch: 75 | Train Loss: 0.0015414804584532977 | Train Accuracy: 37.4% | Test Loss: 0.0016752625681459904 | Test Accuracy: 39.64%\n",
            "Epoch: 76 | Train Loss: 0.001567182017415762 | Train Accuracy: 37.31% | Test Loss: 0.0015640373792499304 | Test Accuracy: 41.56%\n",
            "Epoch: 77 | Train Loss: 0.0015690415744483471 | Train Accuracy: 37.42% | Test Loss: 0.0016604599595069886 | Test Accuracy: 39.89%\n",
            "Epoch: 78 | Train Loss: 0.001558583394959569 | Train Accuracy: 37.52% | Test Loss: 0.0016866415452212096 | Test Accuracy: 39.08%\n",
            "Epoch: 79 | Train Loss: 0.0015606508225947619 | Train Accuracy: 37.56% | Test Loss: 0.001686201037093997 | Test Accuracy: 40.15%\n",
            "Epoch: 80 | Train Loss: 0.0015387332820147276 | Train Accuracy: 37.97% | Test Loss: 0.0016871378347277641 | Test Accuracy: 39.43%\n",
            "Epoch: 81 | Train Loss: 0.0015290905234217644 | Train Accuracy: 37.47% | Test Loss: 0.00215363501124084 | Test Accuracy: 37.07%\n",
            "Epoch: 82 | Train Loss: 0.0015588897404074668 | Train Accuracy: 37.57% | Test Loss: 0.0017459230538457633 | Test Accuracy: 39.77%\n",
            "Epoch: 83 | Train Loss: 0.0015481378603726626 | Train Accuracy: 37.52% | Test Loss: 0.0016481767907738686 | Test Accuracy: 40.57%\n",
            "Epoch: 84 | Train Loss: 0.001523941773697734 | Train Accuracy: 37.92% | Test Loss: 0.0016048740610480308 | Test Accuracy: 41.62%\n",
            "Epoch: 85 | Train Loss: 0.0015276461882889271 | Train Accuracy: 37.61% | Test Loss: 0.001688948567584157 | Test Accuracy: 39.26%\n",
            "Epoch: 86 | Train Loss: 0.0015588714216649533 | Train Accuracy: 37.58% | Test Loss: 0.0016233222760260106 | Test Accuracy: 40.75%\n",
            "Epoch: 87 | Train Loss: 0.0015000755823403598 | Train Accuracy: 38.06% | Test Loss: 0.0016356431081891059 | Test Accuracy: 41.6%\n",
            "Epoch: 88 | Train Loss: 0.0015354627984017135 | Train Accuracy: 37.86% | Test Loss: 0.0018516649447381497 | Test Accuracy: 38.2%\n",
            "Epoch: 89 | Train Loss: 0.0015327844684571027 | Train Accuracy: 37.88% | Test Loss: 0.0017193272311240434 | Test Accuracy: 39.52%\n",
            "Epoch: 90 | Train Loss: 0.0015238156583160163 | Train Accuracy: 37.86% | Test Loss: 0.001606133420392871 | Test Accuracy: 40.48%\n",
            "Epoch: 91 | Train Loss: 0.0015361630231142045 | Train Accuracy: 37.85% | Test Loss: 0.0015559200868010522 | Test Accuracy: 42.81%\n",
            "Epoch: 92 | Train Loss: 0.0015087875699996947 | Train Accuracy: 38.06% | Test Loss: 0.001683307559788227 | Test Accuracy: 40.25%\n",
            "Epoch: 93 | Train Loss: 0.0015095316010713578 | Train Accuracy: 38.07% | Test Loss: 0.001690572315827012 | Test Accuracy: 40.68%\n",
            "Epoch: 94 | Train Loss: 0.001520169080272317 | Train Accuracy: 38.24% | Test Loss: 0.0017916850727051497 | Test Accuracy: 40.08%\n",
            "Epoch: 95 | Train Loss: 0.001485036939457059 | Train Accuracy: 38.55% | Test Loss: 0.0017309273697435855 | Test Accuracy: 40.53%\n",
            "Epoch: 96 | Train Loss: 0.0014947444462031125 | Train Accuracy: 38.16% | Test Loss: 0.0018686802815645934 | Test Accuracy: 39.12%\n",
            "Epoch: 97 | Train Loss: 0.0014874373087286948 | Train Accuracy: 38.64% | Test Loss: 0.001664508578926325 | Test Accuracy: 41.12%\n",
            "Epoch: 98 | Train Loss: 0.0015133906961232425 | Train Accuracy: 38.09% | Test Loss: 0.00168679982945323 | Test Accuracy: 41.07%\n",
            "Epoch: 99 | Train Loss: 0.0015325730850547553 | Train Accuracy: 37.94% | Test Loss: 0.0015838181048631668 | Test Accuracy: 41.71%\n"
          ],
          "name": "stdout"
        }
      ]
    },
    {
      "cell_type": "code",
      "metadata": {
        "id": "sYpOcfROyBmT",
        "colab_type": "code",
        "outputId": "00764f55-b510-4fec-870a-c90a1716f1f8",
        "colab": {
          "base_uri": "https://localhost:8080/",
          "height": 1000
        }
      },
      "source": [
        "print(\"Model{} with {} initialization {} and {} Loss {} Batch Normalisation\".format(1, 'Uniform Xavier', 'Adaptive Learning Rate', 'Cross Entropy', 'No'))\n",
        "net_model3 = Model3(100)\n",
        "net_model3.to(device)\n",
        "criterion = nn.CrossEntropyLoss()\n",
        "momentum=0.09\n",
        "nepochs=100\n",
        "optimizer=optim.Adam(net_model3.parameters(), lr=0.001, weight_decay=0.0001)\n",
        "batchSize=128\n",
        "\n",
        "net_model3, trainAcc_model3, testAcc_model3, trainLoss_model3, testLoss_model3 = train(net=net_model3, nepochs=nepochs, criterion=criterion, optimizer=optimizer, batchSize=batchSize)"
      ],
      "execution_count": 0,
      "outputs": [
        {
          "output_type": "stream",
          "text": [
            "Model1 with Uniform Xavier initialization Adaptive Learning Rate and Cross Entropy Loss No Batch Normalisation\n",
            "Total training samples : 50000\n",
            "Total testing samples : 10000\n"
          ],
          "name": "stdout"
        },
        {
          "output_type": "stream",
          "text": [
            "/usr/local/lib/python3.6/dist-packages/ipykernel_launcher.py:7: UserWarning: nn.init.xavier_uniform is now deprecated in favor of nn.init.xavier_uniform_.\n",
            "  import sys\n"
          ],
          "name": "stderr"
        },
        {
          "output_type": "stream",
          "text": [
            "Epoch: 0 | Train Loss: 0.06520427247524262 | Train Accuracy: 4.58% | Test Loss: 0.060508887672424315 | Test Accuracy: 7.86%\n",
            "Epoch: 1 | Train Loss: 0.059093622756004334 | Train Accuracy: 9.58% | Test Loss: 0.055263741612434386 | Test Accuracy: 14.1%\n",
            "Epoch: 2 | Train Loss: 0.05405925314426422 | Train Accuracy: 14.42% | Test Loss: 0.05027979452610016 | Test Accuracy: 19.07%\n",
            "Epoch: 3 | Train Loss: 0.04979704577445984 | Train Accuracy: 19.62% | Test Loss: 0.04419946818351746 | Test Accuracy: 26.62%\n",
            "Epoch: 4 | Train Loss: 0.04581677182197571 | Train Accuracy: 24.7% | Test Loss: 0.04088574624061585 | Test Accuracy: 31.25%\n",
            "Epoch: 5 | Train Loss: 0.04273128755569458 | Train Accuracy: 28.84% | Test Loss: 0.03948381696939468 | Test Accuracy: 33.37%\n",
            "Epoch: 6 | Train Loss: 0.039980257074832916 | Train Accuracy: 32.46% | Test Loss: 0.03586384280920029 | Test Accuracy: 38.84%\n",
            "Epoch: 7 | Train Loss: 0.03773464636802673 | Train Accuracy: 35.64% | Test Loss: 0.03330183697938919 | Test Accuracy: 42.4%\n",
            "Epoch: 8 | Train Loss: 0.03577579058408737 | Train Accuracy: 38.65% | Test Loss: 0.03289346421957016 | Test Accuracy: 43.48%\n",
            "Epoch: 9 | Train Loss: 0.03408304790496826 | Train Accuracy: 41.47% | Test Loss: 0.031359115540981294 | Test Accuracy: 46.35%\n",
            "Epoch: 10 | Train Loss: 0.0325359117269516 | Train Accuracy: 43.95% | Test Loss: 0.03085101983547211 | Test Accuracy: 46.82%\n",
            "Epoch: 11 | Train Loss: 0.03123545866727829 | Train Accuracy: 45.68% | Test Loss: 0.029724014139175414 | Test Accuracy: 49.03%\n",
            "Epoch: 12 | Train Loss: 0.029931031386852266 | Train Accuracy: 47.86% | Test Loss: 0.030216289842128752 | Test Accuracy: 48.35%\n",
            "Epoch: 13 | Train Loss: 0.02896435840845108 | Train Accuracy: 49.31% | Test Loss: 0.028360507941246033 | Test Accuracy: 50.89%\n",
            "Epoch: 14 | Train Loss: 0.02794259334683418 | Train Accuracy: 51.2% | Test Loss: 0.02691254872083664 | Test Accuracy: 52.68%\n",
            "Epoch: 15 | Train Loss: 0.027374335436820985 | Train Accuracy: 52.01% | Test Loss: 0.027271488058567047 | Test Accuracy: 52.46%\n",
            "Epoch: 16 | Train Loss: 0.026694767308235168 | Train Accuracy: 53.04% | Test Loss: 0.0259995550096035 | Test Accuracy: 54.6%\n",
            "Epoch: 17 | Train Loss: 0.025722261350154877 | Train Accuracy: 54.59% | Test Loss: 0.026897639888525008 | Test Accuracy: 53.45%\n",
            "Epoch: 18 | Train Loss: 0.02521725112199783 | Train Accuracy: 55.42% | Test Loss: 0.026333170741796495 | Test Accuracy: 54.74%\n",
            "Epoch: 19 | Train Loss: 0.02449634001970291 | Train Accuracy: 56.63% | Test Loss: 0.02503495808839798 | Test Accuracy: 56.81%\n",
            "Epoch: 20 | Train Loss: 0.023887378183603286 | Train Accuracy: 57.42% | Test Loss: 0.0252938370347023 | Test Accuracy: 56.97%\n",
            "Epoch: 21 | Train Loss: 0.023408950188159944 | Train Accuracy: 58.65% | Test Loss: 0.025508194291591645 | Test Accuracy: 56.55%\n",
            "Epoch: 22 | Train Loss: 0.0230488052880764 | Train Accuracy: 58.82% | Test Loss: 0.025478813844919204 | Test Accuracy: 56.99%\n",
            "Epoch: 23 | Train Loss: 0.022495320599079133 | Train Accuracy: 59.94% | Test Loss: 0.02459071380496025 | Test Accuracy: 57.72%\n",
            "Epoch: 24 | Train Loss: 0.022169209471940995 | Train Accuracy: 60.54% | Test Loss: 0.02501511437892914 | Test Accuracy: 57.39%\n",
            "Epoch: 25 | Train Loss: 0.02163667639374733 | Train Accuracy: 61.57% | Test Loss: 0.025564149260520936 | Test Accuracy: 57.4%\n",
            "Epoch: 26 | Train Loss: 0.02132289859056473 | Train Accuracy: 62.05% | Test Loss: 0.02432044270038605 | Test Accuracy: 58.52%\n",
            "Epoch: 27 | Train Loss: 0.02115560016512871 | Train Accuracy: 62.26% | Test Loss: 0.02474376527070999 | Test Accuracy: 58.19%\n",
            "Epoch: 28 | Train Loss: 0.020750917613506316 | Train Accuracy: 63.16% | Test Loss: 0.02395506000518799 | Test Accuracy: 59.52%\n",
            "Epoch: 29 | Train Loss: 0.02039032377123833 | Train Accuracy: 63.52% | Test Loss: 0.024416377687454225 | Test Accuracy: 58.44%\n",
            "Epoch: 30 | Train Loss: 0.020178911685943605 | Train Accuracy: 63.97% | Test Loss: 0.02468187037706375 | Test Accuracy: 59.16%\n",
            "Epoch: 31 | Train Loss: 0.019935746788978578 | Train Accuracy: 64.61% | Test Loss: 0.02379188393354416 | Test Accuracy: 60.31%\n",
            "Epoch: 32 | Train Loss: 0.016169630913734436 | Train Accuracy: 70.3% | Test Loss: 0.02166248968243599 | Test Accuracy: 63.89%\n",
            "Epoch: 33 | Train Loss: 0.01456359677195549 | Train Accuracy: 73.01% | Test Loss: 0.021519104248285292 | Test Accuracy: 64.29%\n",
            "Epoch: 34 | Train Loss: 0.013872473897337914 | Train Accuracy: 73.99% | Test Loss: 0.021444105410575866 | Test Accuracy: 64.69%\n",
            "Epoch: 35 | Train Loss: 0.013464121202230454 | Train Accuracy: 74.9% | Test Loss: 0.021607067382335664 | Test Accuracy: 64.61%\n",
            "Epoch: 36 | Train Loss: 0.013012100806832313 | Train Accuracy: 75.63% | Test Loss: 0.021272846990823744 | Test Accuracy: 64.88%\n",
            "Epoch: 37 | Train Loss: 0.012590459439754486 | Train Accuracy: 76.37% | Test Loss: 0.02135464217662811 | Test Accuracy: 64.85%\n",
            "Epoch: 38 | Train Loss: 0.012362572931051254 | Train Accuracy: 76.53% | Test Loss: 0.021495732671022415 | Test Accuracy: 65.04%\n",
            "Epoch: 39 | Train Loss: 0.012091681559085845 | Train Accuracy: 77.1% | Test Loss: 0.021359766227006912 | Test Accuracy: 65.14%\n",
            "Epoch: 40 | Train Loss: 0.011690215030312538 | Train Accuracy: 77.63% | Test Loss: 0.0216916356921196 | Test Accuracy: 65.23%\n",
            "Epoch: 41 | Train Loss: 0.01149581776022911 | Train Accuracy: 78.01% | Test Loss: 0.021761025112867354 | Test Accuracy: 65.22%\n",
            "Epoch: 42 | Train Loss: 0.01129473894715309 | Train Accuracy: 78.43% | Test Loss: 0.021660436552762986 | Test Accuracy: 65.26%\n",
            "Epoch: 43 | Train Loss: 0.011090087092518807 | Train Accuracy: 78.66% | Test Loss: 0.02167534271478653 | Test Accuracy: 65.25%\n",
            "Epoch: 44 | Train Loss: 0.010784610469937325 | Train Accuracy: 79.29% | Test Loss: 0.021839344149827956 | Test Accuracy: 65.41%\n",
            "Epoch: 45 | Train Loss: 0.010708697148561477 | Train Accuracy: 79.39% | Test Loss: 0.02185343752503395 | Test Accuracy: 65.42%\n",
            "Epoch: 46 | Train Loss: 0.010406026500463485 | Train Accuracy: 80.2% | Test Loss: 0.02202023875117302 | Test Accuracy: 65.46%\n",
            "Epoch: 47 | Train Loss: 0.010283709104061126 | Train Accuracy: 80.18% | Test Loss: 0.02204935257434845 | Test Accuracy: 65.41%\n",
            "Epoch: 48 | Train Loss: 0.010087051770091057 | Train Accuracy: 80.4% | Test Loss: 0.022145754915475845 | Test Accuracy: 65.77%\n",
            "Epoch: 49 | Train Loss: 0.009921213025450706 | Train Accuracy: 80.84% | Test Loss: 0.021987239271402358 | Test Accuracy: 65.81%\n",
            "Epoch: 50 | Train Loss: 0.009736058735847474 | Train Accuracy: 81.11% | Test Loss: 0.022207364273071288 | Test Accuracy: 65.86%\n",
            "Epoch: 51 | Train Loss: 0.00950738198041916 | Train Accuracy: 81.49% | Test Loss: 0.022189559590816497 | Test Accuracy: 65.94%\n",
            "Epoch: 52 | Train Loss: 0.00935849058330059 | Train Accuracy: 81.67% | Test Loss: 0.02235365677475929 | Test Accuracy: 65.76%\n",
            "Epoch: 53 | Train Loss: 0.009210579360127449 | Train Accuracy: 82.19% | Test Loss: 0.022451543927192688 | Test Accuracy: 65.73%\n",
            "Epoch: 54 | Train Loss: 0.009002379397451878 | Train Accuracy: 82.47% | Test Loss: 0.022153832644224165 | Test Accuracy: 65.97%\n",
            "Epoch: 55 | Train Loss: 0.008895674883723259 | Train Accuracy: 82.65% | Test Loss: 0.02278217008113861 | Test Accuracy: 65.58%\n",
            "Epoch: 56 | Train Loss: 0.00873011228352785 | Train Accuracy: 82.9% | Test Loss: 0.02265296139717102 | Test Accuracy: 65.79%\n",
            "Epoch: 57 | Train Loss: 0.008604184184372424 | Train Accuracy: 83.0% | Test Loss: 0.022979332983493805 | Test Accuracy: 65.55%\n",
            "Epoch: 58 | Train Loss: 0.008473401376605034 | Train Accuracy: 83.07% | Test Loss: 0.022812150317430495 | Test Accuracy: 65.78%\n",
            "Epoch: 59 | Train Loss: 0.008349885086417198 | Train Accuracy: 83.61% | Test Loss: 0.023242296063899996 | Test Accuracy: 65.5%\n",
            "Epoch: 60 | Train Loss: 0.008175820000469685 | Train Accuracy: 83.92% | Test Loss: 0.02308025039434433 | Test Accuracy: 65.88%\n",
            "Epoch: 61 | Train Loss: 0.00798500389546156 | Train Accuracy: 84.23% | Test Loss: 0.02296093757748604 | Test Accuracy: 65.89%\n",
            "Epoch: 62 | Train Loss: 0.007497252298295498 | Train Accuracy: 85.15% | Test Loss: 0.022967469519376754 | Test Accuracy: 66.23%\n",
            "Epoch: 63 | Train Loss: 0.007366555055081844 | Train Accuracy: 85.37% | Test Loss: 0.02308679621219635 | Test Accuracy: 66.29%\n",
            "Epoch: 64 | Train Loss: 0.007350608183443547 | Train Accuracy: 85.3% | Test Loss: 0.023185879343748092 | Test Accuracy: 66.25%\n",
            "Epoch: 65 | Train Loss: 0.00738698344886303 | Train Accuracy: 85.37% | Test Loss: 0.02317705227136612 | Test Accuracy: 66.32%\n",
            "Epoch: 66 | Train Loss: 0.007269365082085133 | Train Accuracy: 85.54% | Test Loss: 0.02334338617324829 | Test Accuracy: 66.14%\n",
            "Epoch: 67 | Train Loss: 0.007206100499033928 | Train Accuracy: 85.68% | Test Loss: 0.023273967027664183 | Test Accuracy: 66.2%\n",
            "Epoch: 68 | Train Loss: 0.007234083511531353 | Train Accuracy: 85.54% | Test Loss: 0.02337365493774414 | Test Accuracy: 66.02%\n",
            "Epoch: 69 | Train Loss: 0.007161522965729236 | Train Accuracy: 85.79% | Test Loss: 0.023352822804450987 | Test Accuracy: 66.18%\n",
            "Epoch: 70 | Train Loss: 0.0071937371283769605 | Train Accuracy: 85.52% | Test Loss: 0.023249158465862275 | Test Accuracy: 66.06%\n",
            "Epoch: 71 | Train Loss: 0.007012794148921967 | Train Accuracy: 85.96% | Test Loss: 0.023413058763742448 | Test Accuracy: 66.07%\n",
            "Epoch: 72 | Train Loss: 0.007010210483372211 | Train Accuracy: 86.0% | Test Loss: 0.023610055077075958 | Test Accuracy: 66.29%\n",
            "Epoch: 73 | Train Loss: 0.007053424089252949 | Train Accuracy: 85.92% | Test Loss: 0.02348153890967369 | Test Accuracy: 65.8%\n",
            "Epoch: 74 | Train Loss: 0.006894206426441669 | Train Accuracy: 86.25% | Test Loss: 0.02353738322854042 | Test Accuracy: 66.04%\n",
            "Epoch: 75 | Train Loss: 0.006887053121328354 | Train Accuracy: 86.23% | Test Loss: 0.023674747109413148 | Test Accuracy: 65.88%\n",
            "Epoch: 76 | Train Loss: 0.006874008897840977 | Train Accuracy: 86.27% | Test Loss: 0.023796809607744218 | Test Accuracy: 65.86%\n",
            "Epoch: 77 | Train Loss: 0.006868970272839069 | Train Accuracy: 86.17% | Test Loss: 0.023487693983316422 | Test Accuracy: 66.0%\n",
            "Epoch: 78 | Train Loss: 0.006872304069548845 | Train Accuracy: 86.38% | Test Loss: 0.023579966598749162 | Test Accuracy: 65.84%\n",
            "Epoch: 79 | Train Loss: 0.0069440277248620985 | Train Accuracy: 86.09% | Test Loss: 0.023626349300146104 | Test Accuracy: 65.85%\n",
            "Epoch: 80 | Train Loss: 0.006880364702939987 | Train Accuracy: 86.31% | Test Loss: 0.023560367220640182 | Test Accuracy: 66.08%\n",
            "Epoch: 81 | Train Loss: 0.0067756759425997735 | Train Accuracy: 86.41% | Test Loss: 0.023807052344083784 | Test Accuracy: 66.05%\n",
            "Epoch: 82 | Train Loss: 0.0066983338484168055 | Train Accuracy: 86.51% | Test Loss: 0.02362686820626259 | Test Accuracy: 65.96%\n",
            "Epoch: 83 | Train Loss: 0.006767367930114269 | Train Accuracy: 86.44% | Test Loss: 0.02379728267788887 | Test Accuracy: 66.25%\n",
            "Epoch: 84 | Train Loss: 0.006746440350711346 | Train Accuracy: 86.59% | Test Loss: 0.02364379885196686 | Test Accuracy: 65.99%\n",
            "Epoch: 85 | Train Loss: 0.006694710901379585 | Train Accuracy: 86.65% | Test Loss: 0.023790479969978334 | Test Accuracy: 66.33%\n",
            "Epoch: 86 | Train Loss: 0.006717091407477856 | Train Accuracy: 86.6% | Test Loss: 0.023693329453468324 | Test Accuracy: 66.32%\n",
            "Epoch: 87 | Train Loss: 0.006639750342071056 | Train Accuracy: 86.57% | Test Loss: 0.023880919033288955 | Test Accuracy: 66.2%\n",
            "Epoch: 88 | Train Loss: 0.006673274863809347 | Train Accuracy: 86.62% | Test Loss: 0.02380302610993385 | Test Accuracy: 66.08%\n",
            "Epoch: 89 | Train Loss: 0.006627847795188427 | Train Accuracy: 86.66% | Test Loss: 0.024000320678949357 | Test Accuracy: 66.29%\n",
            "Epoch: 90 | Train Loss: 0.006608104910254479 | Train Accuracy: 86.64% | Test Loss: 0.02403307157754898 | Test Accuracy: 66.1%\n",
            "Epoch: 91 | Train Loss: 0.006564175085425377 | Train Accuracy: 86.73% | Test Loss: 0.023919952070713044 | Test Accuracy: 65.83%\n",
            "Epoch: 92 | Train Loss: 0.0065254726225137715 | Train Accuracy: 86.85% | Test Loss: 0.02396160147190094 | Test Accuracy: 66.4%\n",
            "Epoch: 93 | Train Loss: 0.006484802966415882 | Train Accuracy: 86.97% | Test Loss: 0.023976779609918595 | Test Accuracy: 66.11%\n",
            "Epoch: 94 | Train Loss: 0.006510563200563192 | Train Accuracy: 86.92% | Test Loss: 0.023873841035366057 | Test Accuracy: 65.93%\n",
            "Epoch: 95 | Train Loss: 0.006507094298899173 | Train Accuracy: 86.84% | Test Loss: 0.023883149474859238 | Test Accuracy: 66.2%\n",
            "Epoch: 96 | Train Loss: 0.006467203978598118 | Train Accuracy: 87.11% | Test Loss: 0.0239967011988163 | Test Accuracy: 66.12%\n",
            "Epoch: 97 | Train Loss: 0.006513138229548931 | Train Accuracy: 86.87% | Test Loss: 0.023788420283794402 | Test Accuracy: 66.12%\n",
            "Epoch: 98 | Train Loss: 0.006504463247358799 | Train Accuracy: 86.94% | Test Loss: 0.024054521363973617 | Test Accuracy: 66.26%\n",
            "Epoch: 99 | Train Loss: 0.006540269417613744 | Train Accuracy: 86.86% | Test Loss: 0.023937063533067703 | Test Accuracy: 66.22%\n"
          ],
          "name": "stdout"
        }
      ]
    },
    {
      "cell_type": "code",
      "metadata": {
        "id": "Jo08L-pyTZiN",
        "colab_type": "code",
        "outputId": "a187f9d5-4722-4c8b-eb85-852b19f6edb7",
        "colab": {
          "base_uri": "https://localhost:8080/",
          "height": 54
        }
      },
      "source": [
        "print(trainAcc_model3)"
      ],
      "execution_count": 0,
      "outputs": [
        {
          "output_type": "stream",
          "text": [
            "[4.58, 9.576, 14.418000000000001, 19.624, 24.698, 28.843999999999998, 32.458, 35.642, 38.653999999999996, 41.471999999999994, 43.952000000000005, 45.684000000000005, 47.86, 49.309999999999995, 51.202000000000005, 52.01, 53.038, 54.594, 55.418, 56.63399999999999, 57.42, 58.652, 58.824, 59.94199999999999, 60.540000000000006, 61.565999999999995, 62.053999999999995, 62.256, 63.156, 63.517999999999994, 63.974, 64.61200000000001, 70.304, 73.014, 73.98599999999999, 74.9, 75.63, 76.36800000000001, 76.52600000000001, 77.10000000000001, 77.62599999999999, 78.014, 78.432, 78.664, 79.292, 79.392, 80.202, 80.17999999999999, 80.404, 80.84400000000001, 81.112, 81.49, 81.672, 82.188, 82.468, 82.648, 82.89800000000001, 83.0, 83.07, 83.61, 83.916, 84.234, 85.152, 85.366, 85.304, 85.368, 85.54, 85.68, 85.54, 85.792, 85.52, 85.956, 85.996, 85.924, 86.252, 86.232, 86.274, 86.166, 86.37599999999999, 86.09400000000001, 86.312, 86.414, 86.512, 86.438, 86.592, 86.646, 86.6, 86.572, 86.61999999999999, 86.664, 86.636, 86.72800000000001, 86.85199999999999, 86.968, 86.92, 86.83800000000001, 87.112, 86.866, 86.938, 86.856]\n"
          ],
          "name": "stdout"
        }
      ]
    },
    {
      "cell_type": "code",
      "metadata": {
        "id": "DrweSPxh4uSO",
        "colab_type": "code",
        "outputId": "7cd76081-fe99-4254-cee5-02d7da04dc63",
        "colab": {
          "base_uri": "https://localhost:8080/",
          "height": 1000
        }
      },
      "source": [
        "import matplotlib.pyplot as plt\n",
        "\n",
        "fig1, ax1=  plt.subplots()\n",
        "plt.grid()\n",
        "ax1.plot(trainAcc_model3,marker='o', markerfacecolor='red', markersize=5, color='orange', linewidth=4)\n",
        "ax1.plot(testAcc_model3,marker='o', markerfacecolor='red', markersize=5, color='blue', linewidth=4)\n",
        "plt.gca().legend(('Train','Test'))\n",
        "ax1.set_title(\"Train V/S Test Accuracy\")\n",
        "ax1.set_xlabel(\"#Epochs\")\n",
        "\n",
        "fig2, ax2=  plt.subplots()\n",
        "plt.grid()\n",
        "ax2.plot(trainLoss_model3,marker='o', markerfacecolor='red', markersize=5, color='orange', linewidth=4,label=\"Train Loss\")\n",
        "ax2.plot(testLoss_model3,marker='o', markerfacecolor='red', markersize=5, color='blue', linewidth=4,label=\"Test Loss\")\n",
        "plt.gca().legend(('Train','Test'))\n",
        "ax2.set_title(\"Train V/S Test Loss\")\n",
        "ax2.set_xlabel(\"#Epochs\")\n",
        "\n",
        "fig3, ax3=  plt.subplots()\n",
        "plt.grid()\n",
        "ax3.plot(trainLoss_model3,marker='o', markerfacecolor='green', markersize=5, color='yellow', linewidth=4,label=\"Train Loss\")\n",
        "ax3.set_title(\"Train Loss\")\n",
        "ax3.set_xlabel(\"#Epochs\")\n",
        "\n",
        "from sklearn.metrics import precision_recall_fscore_support, f1_score, precision_score, recall_score\n",
        "\n",
        "correct = 0\n",
        "total = 0\n",
        "with torch.no_grad():\n",
        "    for data in testloader:\n",
        "        images, labels = data[0].to(device), data[1].to(device)\n",
        "        outputs = net_model3(images)\n",
        "        _, predicted = torch.max(outputs.data, 1)\n",
        "        total += labels.size(0)\n",
        "        correct += (predicted == labels).sum().item()\n",
        "        images = images.cpu()\n",
        "        labels = labels.cpu()\n",
        "        predicted = predicted.cpu()\n",
        "        print('F1: {}'.format(f1_score(labels, predicted, average=None)))\n",
        "        print('Precision: {}'.format(precision_score(labels, predicted,average=None)))\n",
        "        print('Recall: {}'.format(recall_score(labels, predicted,average=None)))\n",
        "        break\n",
        "\n",
        "print('Accuracy of the network on the 10000 test images: %d %%' % (\n",
        "    100 * correct / total))"
      ],
      "execution_count": 34,
      "outputs": [
        {
          "output_type": "stream",
          "text": [
            "F1: [1.         1.         1.         0.         1.         0.66666667\n",
            " 0.         0.         0.         1.         0.         0.\n",
            " 1.         1.         1.         1.         1.         1.\n",
            " 1.         0.         1.         0.66666667 0.         1.\n",
            " 0.         1.         0.66666667 0.8        1.         1.\n",
            " 0.         0.8        1.         1.         1.         0.\n",
            " 1.         1.         0.66666667 0.         1.         1.\n",
            " 0.         1.         0.8        0.8        0.         0.\n",
            " 0.         1.         0.         1.         0.         1.\n",
            " 0.66666667 0.         0.         1.        ]\n",
            "Precision: [1.         1.         1.         0.         1.         0.5\n",
            " 0.         0.         0.         1.         0.         0.\n",
            " 1.         1.         1.         1.         1.         1.\n",
            " 1.         0.         1.         0.5        0.         1.\n",
            " 0.         1.         0.5        0.66666667 1.         1.\n",
            " 0.         1.         1.         1.         1.         0.\n",
            " 1.         1.         1.         0.         1.         1.\n",
            " 0.         1.         1.         1.         0.         0.\n",
            " 0.         1.         0.         1.         0.         1.\n",
            " 1.         0.         0.         1.        ]\n",
            "Recall: [1.         1.         1.         0.         1.         1.\n",
            " 0.         0.         0.         1.         0.         0.\n",
            " 1.         1.         1.         1.         1.         1.\n",
            " 1.         0.         1.         1.         0.         1.\n",
            " 0.         1.         1.         1.         1.         1.\n",
            " 0.         0.66666667 1.         1.         1.         0.\n",
            " 1.         1.         0.5        0.         1.         1.\n",
            " 0.         1.         0.66666667 0.66666667 0.         0.\n",
            " 0.         1.         0.         1.         0.         1.\n",
            " 0.5        0.         0.         1.        ]\n",
            "Accuracy of the network on the 10000 test images: 73 %\n"
          ],
          "name": "stdout"
        },
        {
          "output_type": "stream",
          "text": [
            "/usr/local/lib/python3.6/dist-packages/sklearn/metrics/_classification.py:1272: UndefinedMetricWarning: Precision is ill-defined and being set to 0.0 in labels with no predicted samples. Use `zero_division` parameter to control this behavior.\n",
            "  _warn_prf(average, modifier, msg_start, len(result))\n",
            "/usr/local/lib/python3.6/dist-packages/sklearn/metrics/_classification.py:1272: UndefinedMetricWarning: Recall is ill-defined and being set to 0.0 in labels with no true samples. Use `zero_division` parameter to control this behavior.\n",
            "  _warn_prf(average, modifier, msg_start, len(result))\n"
          ],
          "name": "stderr"
        },
        {
          "output_type": "display_data",
          "data": {
            "image/png": "[encoded data removed]",
            "text/plain": [
              "<Figure size 432x288 with 1 Axes>"
            ]
          },
          "metadata": {
            "tags": [],
            "needs_background": "light"
          }
        },
        {
          "output_type": "display_data",
          "data": {
            "image/png": "[encoded data removed]",
            "text/plain": [
              "<Figure size 432x288 with 1 Axes>"
            ]
          },
          "metadata": {
            "tags": [],
            "needs_background": "light"
          }
        },
        {
          "output_type": "display_data",
          "data": {
            "image/png": "[encoded data removed]",
            "text/plain": [
              "<Figure size 432x288 with 1 Axes>"
            ]
          },
          "metadata": {
            "tags": [],
            "needs_background": "light"
          }
        }
      ]
    },
    {
      "cell_type": "code",
      "metadata": {
        "id": "VPNESgsyUJgJ",
        "colab_type": "code",
        "colab": {
          "base_uri": "https://localhost:8080/",
          "height": 1000
        },
        "outputId": "5f83f5b9-e9d0-45f8-ac59-e6351c9a5d3f"
      },
      "source": [
        "import matplotlib.pyplot as plt\n",
        "\n",
        "fig1, ax1=  plt.subplots()\n",
        "plt.grid()\n",
        "ax1.plot(trainAcc_fixed_lr,marker='o', markerfacecolor='red', markersize=5, color='orange', linewidth=4)\n",
        "ax1.plot(testAcc_fixed_lr,marker='o', markerfacecolor='red', markersize=5, color='blue', linewidth=4)\n",
        "plt.gca().legend(('Train','Test'))\n",
        "ax1.set_title(\"Train V/S Test Accuracy\")\n",
        "ax1.set_xlabel(\"#Epochs\")\n",
        "\n",
        "fig2, ax2=  plt.subplots()\n",
        "plt.grid()\n",
        "ax2.plot(trainLoss_fixed_lr,marker='o', markerfacecolor='red', markersize=5, color='orange', linewidth=4,label=\"Train Loss\")\n",
        "ax2.plot(testLoss_fixed_lr,marker='o', markerfacecolor='red', markersize=5, color='blue', linewidth=4,label=\"Test Loss\")\n",
        "plt.gca().legend(('Train','Test'))\n",
        "ax2.set_title(\"Train V/S Test Loss\")\n",
        "ax2.set_xlabel(\"#Epochs\")\n",
        "\n",
        "fig3, ax3=  plt.subplots()\n",
        "plt.grid()\n",
        "ax3.plot(trainLoss_fixed_lr,marker='o', markerfacecolor='green', markersize=5, color='yellow', linewidth=4,label=\"Train Loss\")\n",
        "ax3.set_title(\"Train Loss\")\n",
        "ax3.set_xlabel(\"#Epochs\")\n",
        "\n",
        "correct = 0\n",
        "total = 0\n",
        "with torch.no_grad():\n",
        "    for data in testloader:\n",
        "        images, labels = data[0].to(device), data[1].to(device)\n",
        "        outputs = net_model3(images)\n",
        "        _, predicted = torch.max(outputs.data, 1)\n",
        "        total += labels.size(0)\n",
        "        correct += (predicted == labels).sum().item()\n",
        "        images = images.cpu()\n",
        "        labels = labels.cpu()\n",
        "        predicted = predicted.cpu()\n",
        "        print('F1: {}'.format(f1_score(labels, predicted, average=None)))\n",
        "        print('Precision: {}'.format(precision_score(labels, predicted,average=None)))\n",
        "        print('Recall: {}'.format(recall_score(labels, predicted,average=None)))\n",
        "        break\n",
        "\n",
        "print('Accuracy of the network on the 10000 test images: %d %%' % (\n",
        "    100 * correct / total))"
      ],
      "execution_count": 35,
      "outputs": [
        {
          "output_type": "stream",
          "text": [
            "F1: [1.         1.         1.         0.         1.         0.66666667\n",
            " 0.         0.         0.         1.         0.         0.\n",
            " 1.         1.         1.         1.         1.         1.\n",
            " 1.         0.         1.         0.66666667 0.         1.\n",
            " 0.         1.         0.66666667 0.8        1.         1.\n",
            " 0.         0.8        1.         1.         1.         0.\n",
            " 1.         1.         0.66666667 0.         1.         1.\n",
            " 0.         1.         0.8        0.8        0.         0.\n",
            " 0.         1.         0.         1.         0.         1.\n",
            " 0.66666667 0.         0.         1.        ]\n",
            "Precision: [1.         1.         1.         0.         1.         0.5\n",
            " 0.         0.         0.         1.         0.         0.\n",
            " 1.         1.         1.         1.         1.         1.\n",
            " 1.         0.         1.         0.5        0.         1.\n",
            " 0.         1.         0.5        0.66666667 1.         1.\n",
            " 0.         1.         1.         1.         1.         0.\n",
            " 1.         1.         1.         0.         1.         1.\n",
            " 0.         1.         1.         1.         0.         0.\n",
            " 0.         1.         0.         1.         0.         1.\n",
            " 1.         0.         0.         1.        ]\n",
            "Recall: [1.         1.         1.         0.         1.         1.\n",
            " 0.         0.         0.         1.         0.         0.\n",
            " 1.         1.         1.         1.         1.         1.\n",
            " 1.         0.         1.         1.         0.         1.\n",
            " 0.         1.         1.         1.         1.         1.\n",
            " 0.         0.66666667 1.         1.         1.         0.\n",
            " 1.         1.         0.5        0.         1.         1.\n",
            " 0.         1.         0.66666667 0.66666667 0.         0.\n",
            " 0.         1.         0.         1.         0.         1.\n",
            " 0.5        0.         0.         1.        ]\n",
            "Accuracy of the network on the 10000 test images: 73 %\n"
          ],
          "name": "stdout"
        },
        {
          "output_type": "stream",
          "text": [
            "/usr/local/lib/python3.6/dist-packages/sklearn/metrics/_classification.py:1272: UndefinedMetricWarning: Precision is ill-defined and being set to 0.0 in labels with no predicted samples. Use `zero_division` parameter to control this behavior.\n",
            "  _warn_prf(average, modifier, msg_start, len(result))\n",
            "/usr/local/lib/python3.6/dist-packages/sklearn/metrics/_classification.py:1272: UndefinedMetricWarning: Recall is ill-defined and being set to 0.0 in labels with no true samples. Use `zero_division` parameter to control this behavior.\n",
            "  _warn_prf(average, modifier, msg_start, len(result))\n"
          ],
          "name": "stderr"
        },
        {
          "output_type": "display_data",
          "data": {
            "image/png": "[encoded data removed]",
            "text/plain": [
              "<Figure size 432x288 with 1 Axes>"
            ]
          },
          "metadata": {
            "tags": [],
            "needs_background": "light"
          }
        },
        {
          "output_type": "display_data",
          "data": {
            "image/png": "[encoded data removed]",
            "text/plain": [
              "<Figure size 432x288 with 1 Axes>"
            ]
          },
          "metadata": {
            "tags": [],
            "needs_background": "light"
          }
        },
        {
          "output_type": "display_data",
          "data": {
            "image/png": "[encoded data removed]",
            "text/plain": [
              "<Figure size 432x288 with 1 Axes>"
            ]
          },
          "metadata": {
            "tags": [],
            "needs_background": "light"
          }
        }
      ]
    },
    {
      "cell_type": "code",
      "metadata": {
        "id": "SLDSX4m_EmG_",
        "colab_type": "code",
        "colab": {}
      },
      "source": [
        "# upload external file before import\n",
        "from google.colab import files\n",
        "\n",
        "torch.save(net.state_dict(), 'checkpoint.pth')\n",
        "\n",
        "# download checkpoint file\n",
        "files.download('checkpoint.pth')\n"
      ],
      "execution_count": 0,
      "outputs": []
    },
    {
      "cell_type": "code",
      "metadata": {
        "id": "ekP-7_mJMfmN",
        "colab_type": "code",
        "colab": {}
      },
      "source": [
        ""
      ],
      "execution_count": 0,
      "outputs": []
    }
  ]
}