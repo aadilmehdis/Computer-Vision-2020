{
  "nbformat": 4,
  "nbformat_minor": 0,
  "metadata": {
    "colab": {
      "name": "CIFAR100-BNVariation.ipynb",
      "provenance": [],
      "collapsed_sections": []
    },
    "kernelspec": {
      "name": "python3",
      "display_name": "Python 3"
    },
    "accelerator": "GPU",
    "widgets": {
      "application/vnd.jupyter.widget-state+json": {
        "cbfdef8b2bf04de3a8ed9074940b809d": {
          "model_module": "@jupyter-widgets/controls",
          "model_name": "HBoxModel",
          "state": {
            "_view_name": "HBoxView",
            "_dom_classes": [],
            "_model_name": "HBoxModel",
            "_view_module": "@jupyter-widgets/controls",
            "_model_module_version": "1.5.0",
            "_view_count": null,
            "_view_module_version": "1.5.0",
            "box_style": "",
            "layout": "IPY_MODEL_3e7015c384374aa7b99a2cbb7ff28537",
            "_model_module": "@jupyter-widgets/controls",
            "children": [
              "IPY_MODEL_45b4109aa7864f5aa9fe7c18e428b22d",
              "IPY_MODEL_007e0ca243354447901ec071485e4fc7"
            ]
          }
        },
        "3e7015c384374aa7b99a2cbb7ff28537": {
          "model_module": "@jupyter-widgets/base",
          "model_name": "LayoutModel",
          "state": {
            "_view_name": "LayoutView",
            "grid_template_rows": null,
            "right": null,
            "justify_content": null,
            "_view_module": "@jupyter-widgets/base",
            "overflow": null,
            "_model_module_version": "1.2.0",
            "_view_count": null,
            "flex_flow": null,
            "width": null,
            "min_width": null,
            "border": null,
            "align_items": null,
            "bottom": null,
            "_model_module": "@jupyter-widgets/base",
            "top": null,
            "grid_column": null,
            "overflow_y": null,
            "overflow_x": null,
            "grid_auto_flow": null,
            "grid_area": null,
            "grid_template_columns": null,
            "flex": null,
            "_model_name": "LayoutModel",
            "justify_items": null,
            "grid_row": null,
            "max_height": null,
            "align_content": null,
            "visibility": null,
            "align_self": null,
            "height": null,
            "min_height": null,
            "padding": null,
            "grid_auto_rows": null,
            "grid_gap": null,
            "max_width": null,
            "order": null,
            "_view_module_version": "1.2.0",
            "grid_template_areas": null,
            "object_position": null,
            "object_fit": null,
            "grid_auto_columns": null,
            "margin": null,
            "display": null,
            "left": null
          }
        },
        "45b4109aa7864f5aa9fe7c18e428b22d": {
          "model_module": "@jupyter-widgets/controls",
          "model_name": "IntProgressModel",
          "state": {
            "_view_name": "ProgressView",
            "style": "IPY_MODEL_24463e03c3a64a94b90e8f924d3b831d",
            "_dom_classes": [],
            "description": "",
            "_model_name": "IntProgressModel",
            "bar_style": "success",
            "max": 1,
            "_view_module": "@jupyter-widgets/controls",
            "_model_module_version": "1.5.0",
            "value": 1,
            "_view_count": null,
            "_view_module_version": "1.5.0",
            "orientation": "horizontal",
            "min": 0,
            "description_tooltip": null,
            "_model_module": "@jupyter-widgets/controls",
            "layout": "IPY_MODEL_ddbee0f39ac345d2bbd0efc334267090"
          }
        },
        "007e0ca243354447901ec071485e4fc7": {
          "model_module": "@jupyter-widgets/controls",
          "model_name": "HTMLModel",
          "state": {
            "_view_name": "HTMLView",
            "style": "IPY_MODEL_d97a9b4e26d1449d9ebd94dc58d37a03",
            "_dom_classes": [],
            "description": "",
            "_model_name": "HTMLModel",
            "placeholder": "​",
            "_view_module": "@jupyter-widgets/controls",
            "_model_module_version": "1.5.0",
            "value": " 169009152/? [00:07&lt;00:00, 22723205.74it/s]",
            "_view_count": null,
            "_view_module_version": "1.5.0",
            "description_tooltip": null,
            "_model_module": "@jupyter-widgets/controls",
            "layout": "IPY_MODEL_43a355265fcf4e459ae428dcebf1d6da"
          }
        },
        "24463e03c3a64a94b90e8f924d3b831d": {
          "model_module": "@jupyter-widgets/controls",
          "model_name": "ProgressStyleModel",
          "state": {
            "_view_name": "StyleView",
            "_model_name": "ProgressStyleModel",
            "description_width": "initial",
            "_view_module": "@jupyter-widgets/base",
            "_model_module_version": "1.5.0",
            "_view_count": null,
            "_view_module_version": "1.2.0",
            "bar_color": null,
            "_model_module": "@jupyter-widgets/controls"
          }
        },
        "ddbee0f39ac345d2bbd0efc334267090": {
          "model_module": "@jupyter-widgets/base",
          "model_name": "LayoutModel",
          "state": {
            "_view_name": "LayoutView",
            "grid_template_rows": null,
            "right": null,
            "justify_content": null,
            "_view_module": "@jupyter-widgets/base",
            "overflow": null,
            "_model_module_version": "1.2.0",
            "_view_count": null,
            "flex_flow": null,
            "width": null,
            "min_width": null,
            "border": null,
            "align_items": null,
            "bottom": null,
            "_model_module": "@jupyter-widgets/base",
            "top": null,
            "grid_column": null,
            "overflow_y": null,
            "overflow_x": null,
            "grid_auto_flow": null,
            "grid_area": null,
            "grid_template_columns": null,
            "flex": null,
            "_model_name": "LayoutModel",
            "justify_items": null,
            "grid_row": null,
            "max_height": null,
            "align_content": null,
            "visibility": null,
            "align_self": null,
            "height": null,
            "min_height": null,
            "padding": null,
            "grid_auto_rows": null,
            "grid_gap": null,
            "max_width": null,
            "order": null,
            "_view_module_version": "1.2.0",
            "grid_template_areas": null,
            "object_position": null,
            "object_fit": null,
            "grid_auto_columns": null,
            "margin": null,
            "display": null,
            "left": null
          }
        },
        "d97a9b4e26d1449d9ebd94dc58d37a03": {
          "model_module": "@jupyter-widgets/controls",
          "model_name": "DescriptionStyleModel",
          "state": {
            "_view_name": "StyleView",
            "_model_name": "DescriptionStyleModel",
            "description_width": "",
            "_view_module": "@jupyter-widgets/base",
            "_model_module_version": "1.5.0",
            "_view_count": null,
            "_view_module_version": "1.2.0",
            "_model_module": "@jupyter-widgets/controls"
          }
        },
        "43a355265fcf4e459ae428dcebf1d6da": {
          "model_module": "@jupyter-widgets/base",
          "model_name": "LayoutModel",
          "state": {
            "_view_name": "LayoutView",
            "grid_template_rows": null,
            "right": null,
            "justify_content": null,
            "_view_module": "@jupyter-widgets/base",
            "overflow": null,
            "_model_module_version": "1.2.0",
            "_view_count": null,
            "flex_flow": null,
            "width": null,
            "min_width": null,
            "border": null,
            "align_items": null,
            "bottom": null,
            "_model_module": "@jupyter-widgets/base",
            "top": null,
            "grid_column": null,
            "overflow_y": null,
            "overflow_x": null,
            "grid_auto_flow": null,
            "grid_area": null,
            "grid_template_columns": null,
            "flex": null,
            "_model_name": "LayoutModel",
            "justify_items": null,
            "grid_row": null,
            "max_height": null,
            "align_content": null,
            "visibility": null,
            "align_self": null,
            "height": null,
            "min_height": null,
            "padding": null,
            "grid_auto_rows": null,
            "grid_gap": null,
            "max_width": null,
            "order": null,
            "_view_module_version": "1.2.0",
            "grid_template_areas": null,
            "object_position": null,
            "object_fit": null,
            "grid_auto_columns": null,
            "margin": null,
            "display": null,
            "left": null
          }
        }
      }
    }
  },
  "cells": [
    {
      "cell_type": "code",
      "metadata": {
        "id": "vRSitxHW8L-y",
        "colab_type": "code",
        "colab": {}
      },
      "source": [
        "import torch\n",
        "import torch.nn as nn\n",
        "import torchvision.datasets as dsets\n",
        "import torchvision.transforms as transforms\n",
        "from torch.autograd import Variable\n",
        "import torchvision\n",
        "import torch.nn as nn\n",
        "import torch.nn.functional as F\n",
        "import torch.optim as optim\n",
        "import numpy as np\n",
        "import matplotlib.pyplot as plt"
      ],
      "execution_count": 0,
      "outputs": []
    },
    {
      "cell_type": "code",
      "metadata": {
        "id": "oIdoeIK68kEF",
        "colab_type": "code",
        "outputId": "a9503804-7acc-4519-8ce9-76d5f3594d87",
        "colab": {
          "base_uri": "https://localhost:8080/",
          "height": 82,
          "referenced_widgets": [
            "cbfdef8b2bf04de3a8ed9074940b809d",
            "3e7015c384374aa7b99a2cbb7ff28537",
            "45b4109aa7864f5aa9fe7c18e428b22d",
            "007e0ca243354447901ec071485e4fc7",
            "24463e03c3a64a94b90e8f924d3b831d",
            "ddbee0f39ac345d2bbd0efc334267090",
            "d97a9b4e26d1449d9ebd94dc58d37a03",
            "43a355265fcf4e459ae428dcebf1d6da"
          ]
        }
      },
      "source": [
        "# Define transformations for the train set\n",
        "train_transformations = transforms.Compose([\n",
        "    transforms.RandomHorizontalFlip(),\n",
        "    transforms.RandomCrop(32,padding=4),\n",
        "    transforms.ToTensor(),\n",
        "    transforms.Normalize((0.5,0.5,0.5), (0.5,0.5,0.5))\n",
        "])\n",
        "trainset = torchvision.datasets.CIFAR100(root='./data', train=True, download=True,transform=train_transformations)\n",
        "trainloader = torch.utils.data.DataLoader(trainset, batch_size=64, shuffle=True, num_workers=2)"
      ],
      "execution_count": 2,
      "outputs": [
        {
          "output_type": "stream",
          "text": [
            "Downloading https://www.cs.toronto.edu/~kriz/cifar-100-python.tar.gz to ./data/cifar-100-python.tar.gz\n"
          ],
          "name": "stdout"
        },
        {
          "output_type": "display_data",
          "data": {
            "application/vnd.jupyter.widget-view+json": {
              "model_id": "cbfdef8b2bf04de3a8ed9074940b809d",
              "version_minor": 0,
              "version_major": 2
            },
            "text/plain": [
              "HBox(children=(IntProgress(value=1, bar_style='info', max=1), HTML(value='')))"
            ]
          },
          "metadata": {
            "tags": []
          }
        },
        {
          "output_type": "stream",
          "text": [
            "Extracting ./data/cifar-100-python.tar.gz to ./data\n"
          ],
          "name": "stdout"
        }
      ]
    },
    {
      "cell_type": "code",
      "metadata": {
        "id": "ggrL2gCcg4x3",
        "colab_type": "code",
        "outputId": "3fc98792-19ea-4267-c50d-58180c9e4a75",
        "colab": {
          "base_uri": "https://localhost:8080/",
          "height": 34
        }
      },
      "source": [
        "# Define transformations for the test set\n",
        "test_transformations = transforms.Compose([\n",
        "    transforms.ToTensor(),\n",
        "    transforms.Normalize((0.5, 0.5, 0.5), (0.5, 0.5, 0.5))\n",
        "\n",
        "])\n",
        "\n",
        "testset = torchvision.datasets.CIFAR100(root='./data', train=False, download=True,transform=test_transformations)\n",
        "testloader = torch.utils.data.DataLoader(testset, batch_size=64, shuffle=False, num_workers=2)"
      ],
      "execution_count": 3,
      "outputs": [
        {
          "output_type": "stream",
          "text": [
            "Files already downloaded and verified\n"
          ],
          "name": "stdout"
        }
      ]
    },
    {
      "cell_type": "code",
      "metadata": {
        "id": "plQzWUvHg0TC",
        "colab_type": "code",
        "outputId": "9b30be8c-b386-4555-d8fb-1db6a4f40c6c",
        "colab": {
          "base_uri": "https://localhost:8080/",
          "height": 34
        }
      },
      "source": [
        "device = torch.device(\"cuda:0\" if torch.cuda.is_available() else \"cpu\")\n",
        "print(device)"
      ],
      "execution_count": 4,
      "outputs": [
        {
          "output_type": "stream",
          "text": [
            "cuda:0\n"
          ],
          "name": "stdout"
        }
      ]
    },
    {
      "cell_type": "code",
      "metadata": {
        "id": "OKlNs99dDSTp",
        "colab_type": "code",
        "colab": {}
      },
      "source": [
        "#converting into an iterable object\n",
        "trainiter = iter(trainloader)\n",
        "testiter = iter(testloader)"
      ],
      "execution_count": 0,
      "outputs": []
    },
    {
      "cell_type": "code",
      "metadata": {
        "id": "zofpwYnVLFzm",
        "colab_type": "code",
        "outputId": "867938b8-b097-46b6-ffa9-566203af83f6",
        "colab": {
          "base_uri": "https://localhost:8080/",
          "height": 384
        }
      },
      "source": [
        "#Analyzing one sample and display one particular image\n",
        "image, label = trainiter.next()\n",
        "print(type(image))\n",
        "print(image.size())\n",
        "print(label.size())\n",
        "\n",
        "img = image[0,:].numpy();\n",
        "img=np.transpose(img,(1,2,0))\n",
        "l=label[0].numpy()\n",
        "print(l)\n",
        "plt.imshow(img)"
      ],
      "execution_count": 6,
      "outputs": [
        {
          "output_type": "stream",
          "text": [
            "<class 'torch.Tensor'>\n",
            "torch.Size([64, 3, 32, 32])\n",
            "torch.Size([64])\n",
            "25\n"
          ],
          "name": "stdout"
        },
        {
          "output_type": "stream",
          "text": [
            "Clipping input data to the valid range for imshow with RGB data ([0..1] for floats or [0..255] for integers).\n"
          ],
          "name": "stderr"
        },
        {
          "output_type": "execute_result",
          "data": {
            "text/plain": [
              "<matplotlib.image.AxesImage at 0x7fccd32cd048>"
            ]
          },
          "metadata": {
            "tags": []
          },
          "execution_count": 6
        },
        {
          "output_type": "display_data",
          "data": {
            "image/png": "[encoded data removed]",
            "text/plain": [
              "<Figure size 432x288 with 1 Axes>"
            ]
          },
          "metadata": {
            "tags": [],
            "needs_background": "light"
          }
        },
        {
          "output_type": "stream",
          "text": [
            "\n"
          ],
          "name": "stdout"
        }
      ]
    },
    {
      "cell_type": "code",
      "metadata": {
        "id": "TAHqE_Dtf8QC",
        "colab_type": "code",
        "colab": {}
      },
      "source": [
        "class Unit(nn.Module):\n",
        "    def __init__(self,in_channels,out_channels,is_bn=True):\n",
        "        super(Unit,self).__init__()\n",
        "        self.is_bn = is_bn\n",
        "        \n",
        "\n",
        "        self.conv = nn.Conv2d(in_channels=in_channels,kernel_size=3,out_channels=out_channels,stride=1,padding=1)\n",
        "        # nn.init.xavier_uniform(self.conv.weight)\n",
        "        if self.is_bn:\n",
        "            self.bn = nn.BatchNorm2d(num_features=out_channels)\n",
        "        self.relu = nn.ReLU(inplace=True)\n",
        "\n",
        "    def forward(self,input):\n",
        "        output = self.conv(input)\n",
        "        if self.is_bn:\n",
        "            output = self.bn(output)\n",
        "        output = self.relu(output)\n",
        "\n",
        "        return output"
      ],
      "execution_count": 0,
      "outputs": []
    },
    {
      "cell_type": "code",
      "metadata": {
        "id": "H-MjbMq58nKq",
        "colab_type": "code",
        "colab": {}
      },
      "source": [
        "class Model1(nn.Module):\n",
        "    def __init__(self,num_classes=100,is_bn=True):\n",
        "        super(Model1,self).__init__()\n",
        "\n",
        "        self.unit1 = Unit(in_channels=3,out_channels=64,is_bn=is_bn)\n",
        "        self.unit2 = Unit(in_channels=64,out_channels=64,is_bn=is_bn)\n",
        "        \n",
        "        self.pool1 = nn.MaxPool2d(kernel_size=2)\n",
        "\n",
        "        self.unit3 = Unit(in_channels=64,out_channels=128,is_bn=is_bn)\n",
        "        self.unit4 = Unit(in_channels=128,out_channels=128,is_bn=is_bn)\n",
        "        \n",
        "        self.pool2 = nn.MaxPool2d(kernel_size=2)\n",
        "\n",
        "        self.unit5 = Unit(in_channels=128,out_channels=256,is_bn=is_bn)\n",
        "        self.unit6 = Unit(in_channels=256,out_channels=256,is_bn=is_bn)\n",
        "        \n",
        "        self.pool3 = nn.MaxPool2d(kernel_size=2)\n",
        "\n",
        "        self.unit7 = Unit(in_channels=256,out_channels=512,is_bn=is_bn)\n",
        "        self.unit8 = Unit(in_channels=512,out_channels=512,is_bn=is_bn)\n",
        "        \n",
        "        self.pool4 = nn.MaxPool2d(kernel_size=2)\n",
        "\n",
        "        self.unit9 = Unit(in_channels=512,out_channels=512,is_bn=is_bn)\n",
        "        self.unit10 = Unit(in_channels=512,out_channels=512,is_bn=is_bn)\n",
        "        \n",
        "        self.pool5 = nn.MaxPool2d(kernel_size=2)\n",
        "\n",
        "\n",
        "        self.net = nn.Sequential(\n",
        "            self.unit1,\n",
        "            self.unit2,\n",
        "            self.pool1,\n",
        "            self.unit3,\n",
        "            self.unit4,\n",
        "            self.pool2,\n",
        "            self.unit5,\n",
        "            self.unit6,\n",
        "            self.pool3,\n",
        "            self.unit7,\n",
        "            self.unit8,\n",
        "            self.pool4,\n",
        "            self.unit9,\n",
        "            self.unit10,\n",
        "            self.pool5,\n",
        "        )\n",
        "\n",
        "        self.classifier = nn.Sequential(\n",
        "            nn.Linear(512, 4096),\n",
        "            nn.ReLU(inplace=True),\n",
        "            nn.Dropout(),\n",
        "            nn.Linear(4096, 4096),\n",
        "            nn.ReLU(inplace=True),\n",
        "            nn.Dropout(),\n",
        "            nn.Linear(4096, num_classes)\n",
        "        )\n",
        "\n",
        "    def forward(self, input):\n",
        "        output = self.net(input)\n",
        "        output = output.view(output.size()[0], -1)\n",
        "        output = self.classifier(output)\n",
        "        return output"
      ],
      "execution_count": 0,
      "outputs": []
    },
    {
      "cell_type": "code",
      "metadata": {
        "id": "5E2F60OsgAPn",
        "colab_type": "code",
        "colab": {}
      },
      "source": [
        "class Model2(nn.Module):\n",
        "    def __init__(self,num_classes=100):\n",
        "        super(Model2,self).__init__()\n",
        "\n",
        "        self.unit1 = Unit(in_channels=3,out_channels=64)\n",
        "        \n",
        "        self.pool1 = nn.MaxPool2d(kernel_size=2)\n",
        "\n",
        "        self.unit2 = Unit(in_channels=64,out_channels=128)\n",
        "        \n",
        "        self.pool2 = nn.MaxPool2d(kernel_size=2)\n",
        "\n",
        "        self.unit3 = Unit(in_channels=128,out_channels=256)\n",
        "        self.unit4 = Unit(in_channels=256,out_channels=256)\n",
        "        \n",
        "        self.pool3 = nn.MaxPool2d(kernel_size=2)\n",
        "\n",
        "        self.unit5 = Unit(in_channels=256,out_channels=512)\n",
        "        self.unit6 = Unit(in_channels=512,out_channels=512)\n",
        "        \n",
        "        self.pool4 = nn.MaxPool2d(kernel_size=2)\n",
        "\n",
        "        self.unit7 = Unit(in_channels=512,out_channels=512)\n",
        "        self.unit8 = Unit(in_channels=512,out_channels=512)\n",
        "        \n",
        "        self.pool5 = nn.MaxPool2d(kernel_size=2)\n",
        "\n",
        "\n",
        "        self.net = nn.Sequential(\n",
        "            self.unit1,\n",
        "            self.pool1,\n",
        "            self.unit2,\n",
        "            self.pool2,\n",
        "            self.unit3,\n",
        "            self.unit4,\n",
        "            self.pool3,\n",
        "            self.unit5,\n",
        "            self.unit6,\n",
        "            self.pool4,\n",
        "            self.unit7,\n",
        "            self.unit8,\n",
        "            self.pool5,\n",
        "        )\n",
        "\n",
        "        self.classifier = nn.Sequential(\n",
        "            nn.Linear(512, 4096),\n",
        "            nn.ReLU(inplace=True),\n",
        "            nn.Dropout(),\n",
        "            nn.Linear(4096, 4096),\n",
        "            nn.ReLU(inplace=True),\n",
        "            nn.Dropout(),\n",
        "            nn.Linear(4096, num_classes)\n",
        "        )\n",
        "\n",
        "    def forward(self, input):\n",
        "        output = self.net(input)\n",
        "        output = output.view(output.size()[0], -1)\n",
        "        output = self.classifier(output)\n",
        "        return output"
      ],
      "execution_count": 0,
      "outputs": []
    },
    {
      "cell_type": "code",
      "metadata": {
        "id": "I4z9zqfjgAnW",
        "colab_type": "code",
        "colab": {}
      },
      "source": [
        "class Model3(nn.Module):\n",
        "    def __init__(self,num_classes=100):\n",
        "        super(Model3,self).__init__()\n",
        "\n",
        "        self.unit1 = Unit(in_channels=3,out_channels=64)\n",
        "        \n",
        "        self.pool1 = nn.MaxPool2d(kernel_size=2)\n",
        "\n",
        "        self.unit2 = Unit(in_channels=64,out_channels=128)\n",
        "        \n",
        "        self.pool2 = nn.MaxPool2d(kernel_size=2)\n",
        "\n",
        "        self.unit3 = Unit(in_channels=128,out_channels=256)\n",
        "        \n",
        "        self.pool3 = nn.MaxPool2d(kernel_size=2)\n",
        "\n",
        "        self.unit4 = Unit(in_channels=256,out_channels=512)\n",
        "        \n",
        "        self.pool4 = nn.MaxPool2d(kernel_size=2)\n",
        "\n",
        "        self.unit5 = Unit(in_channels=512,out_channels=512)\n",
        "        \n",
        "        self.pool5 = nn.MaxPool2d(kernel_size=2)\n",
        "\n",
        "\n",
        "        self.net = nn.Sequential(\n",
        "            self.unit1,\n",
        "            self.pool1,\n",
        "            self.unit2,\n",
        "            self.pool2,\n",
        "            self.unit3,\n",
        "            self.pool3,\n",
        "            self.unit4,\n",
        "            self.pool4,\n",
        "            self.unit5,\n",
        "            self.pool5,\n",
        "        )\n",
        "\n",
        "        self.classifier = nn.Sequential(\n",
        "            nn.Linear(512, 4096),\n",
        "            nn.ReLU(inplace=True),\n",
        "            nn.Dropout(),\n",
        "            nn.Linear(4096, 4096),\n",
        "            nn.ReLU(inplace=True),\n",
        "            nn.Dropout(),\n",
        "            nn.Linear(4096, num_classes)\n",
        "        )\n",
        "\n",
        "    def forward(self, input):\n",
        "        output = self.net(input)\n",
        "        output = output.view(output.size()[0], -1)\n",
        "        output = self.classifier(output)\n",
        "        return output"
      ],
      "execution_count": 0,
      "outputs": []
    },
    {
      "cell_type": "code",
      "metadata": {
        "id": "KQZk-wBy8pIJ",
        "colab_type": "code",
        "colab": {}
      },
      "source": [
        "def adjust_learning_rate(optimizer, epoch):\n",
        "    lr = 0.001\n",
        "\n",
        "    if epoch > 180:\n",
        "        lr = lr / 1000000\n",
        "    elif epoch > 150:\n",
        "        lr = lr / 100000\n",
        "    elif epoch > 120:\n",
        "        lr = lr / 10000\n",
        "    elif epoch > 90:\n",
        "        lr = lr / 1000\n",
        "    elif epoch > 60:\n",
        "        lr = lr / 100\n",
        "    elif epoch > 30:\n",
        "        lr = lr / 10\n",
        "\n",
        "    for param_group in optimizer.param_groups:\n",
        "        param_group[\"lr\"] = lr\n",
        "\n",
        "def correct(groundTruth,output):\n",
        "  assert groundTruth.size(0) == output.size(0)\n",
        "  _, indices = torch.max(output, 1)\n",
        "  ch=torch.eq(groundTruth,indices)\n",
        "  return torch.sum(ch).item()\n",
        "  \n",
        "def train(net, nepochs, criterion, optimizer, batchSize):   \n",
        "  trainAcc=[];testAcc=[];\n",
        "  trainLoss=[];testLoss=[];\n",
        "\n",
        "  totalTrainSamples=len(trainloader.dataset)\n",
        "  print(\"Total training samples :\", totalTrainSamples)\n",
        "  totalTestSamples=len(testloader.dataset);\n",
        "  print(\"Total testing samples :\", totalTestSamples)\n",
        "\n",
        "  for epoch in range(nepochs):\n",
        "\n",
        "      #TRAINING\n",
        "      running_loss_train = 0.0\n",
        "      numCorr_train=0;\n",
        "      net.train()\n",
        "      \n",
        "      for i, data in enumerate(trainloader, 0):  \n",
        "          inputs, labels = data[0].to(device), data[1].to(device)\n",
        "          optimizer.zero_grad()\n",
        "          outputs = net(inputs)\n",
        "          numCorr_train+=correct(labels,outputs)      \n",
        "          loss = criterion(outputs, labels)\n",
        "          loss.backward()\n",
        "          optimizer.step()\n",
        "          running_loss_train += loss.item()\n",
        "                \n",
        "      trainAcc.append((numCorr_train/totalTrainSamples)*100)\n",
        "      trainLoss.append(running_loss_train/totalTrainSamples)\n",
        "\n",
        "      adjust_learning_rate(optimizer=optimizer, epoch=epoch)\n",
        "      \n",
        "      #TESTING\n",
        "      net.eval()\n",
        "      running_loss_test = 0.0\n",
        "      numCorr_test=0;\n",
        "      for i, data in enumerate(testloader, 0):\n",
        "          inputs, labels = data[0].to(device), data[1].to(device)\n",
        "          outputs = net(inputs)\n",
        "          numCorr_test+=correct(labels,outputs)\n",
        "          loss = criterion(outputs, labels)      \n",
        "          running_loss_test += loss.item()\n",
        "      \n",
        "      testAcc.append((numCorr_test/totalTestSamples)*100)\n",
        "      testLoss.append(running_loss_test/totalTestSamples)\n",
        "\n",
        "      print(\"Epoch: {} | Train Loss: {} | Train Accuracy: {}% | Test Loss: {} | Test Accuracy: {}%\".format(epoch, running_loss_train/totalTrainSamples, round((numCorr_train/totalTrainSamples)*100,2), running_loss_test/totalTestSamples, round((numCorr_test/totalTestSamples)*100,2)))\n",
        "      if epoch % 20 == 0:\n",
        "        torch.save(net.state_dict(), 'checkpoint_{}.pth'.format(epoch))\n",
        "\n",
        "  return net, trainAcc, testAcc, trainLoss, testLoss"
      ],
      "execution_count": 0,
      "outputs": []
    },
    {
      "cell_type": "code",
      "metadata": {
        "id": "lp8NJTXHhqIy",
        "colab_type": "code",
        "outputId": "63b8a405-d089-429f-b5f8-153d2fe96d86",
        "colab": {
          "base_uri": "https://localhost:8080/",
          "height": 907
        }
      },
      "source": [
        "print(\"Model{} with {} initialization {} and {} Loss {} Batch Normalisation\".format(1, 'Uniform Xavier', 'Adaptive Learning Rate', 'Cross Entropy', 'No'))\n",
        "net_nbn = Model1(100,is_bn=False)\n",
        "net_nbn.to(device)\n",
        "criterion = nn.CrossEntropyLoss()\n",
        "momentum=0.09\n",
        "nepochs=50\n",
        "optimizer=optim.Adam(net_nbn.parameters(), lr=0.001, weight_decay=0.0001)\n",
        "batchSize=128\n",
        "\n",
        "net_nbn, trainAcc_nbn, testAcc_nbn, trainLoss_nbn, testLoss_nbn = train(net=net_nbn, nepochs=nepochs, criterion=criterion, optimizer=optimizer, batchSize=batchSize)"
      ],
      "execution_count": 12,
      "outputs": [
        {
          "output_type": "stream",
          "text": [
            "Model1 with Uniform Xavier initialization Adaptive Learning Rate and Cross Entropy Loss No Batch Normalisation\n",
            "Total training samples : 50000\n",
            "Total testing samples : 10000\n",
            "Epoch: 0 | Train Loss: 0.0720459204864502 | Train Accuracy: 0.9% | Test Loss: 0.0723020357131958 | Test Accuracy: 1.0%\n",
            "Epoch: 1 | Train Loss: 0.07203625169754029 | Train Accuracy: 0.91% | Test Loss: 0.07230142841339111 | Test Accuracy: 1.0%\n",
            "Epoch: 2 | Train Loss: 0.07203681594848632 | Train Accuracy: 0.93% | Test Loss: 0.07230636191368103 | Test Accuracy: 1.0%\n",
            "Epoch: 3 | Train Loss: 0.07203734240531921 | Train Accuracy: 0.9% | Test Loss: 0.07230163855552674 | Test Accuracy: 1.0%\n",
            "Epoch: 4 | Train Loss: 0.0720377111530304 | Train Accuracy: 0.98% | Test Loss: 0.07230240831375122 | Test Accuracy: 1.0%\n",
            "Epoch: 5 | Train Loss: 0.07204079407691956 | Train Accuracy: 0.89% | Test Loss: 0.07230418424606323 | Test Accuracy: 1.0%\n",
            "Epoch: 6 | Train Loss: 0.07204271147727967 | Train Accuracy: 0.94% | Test Loss: 0.07230243282318115 | Test Accuracy: 1.0%\n",
            "Epoch: 7 | Train Loss: 0.0720416418838501 | Train Accuracy: 0.85% | Test Loss: 0.07230161004066467 | Test Accuracy: 1.0%\n",
            "Epoch: 8 | Train Loss: 0.07204002422332764 | Train Accuracy: 0.95% | Test Loss: 0.07230632939338684 | Test Accuracy: 1.0%\n",
            "Epoch: 9 | Train Loss: 0.07204292209625245 | Train Accuracy: 0.89% | Test Loss: 0.07230284337997436 | Test Accuracy: 1.0%\n",
            "Epoch: 10 | Train Loss: 0.07204449303627014 | Train Accuracy: 0.91% | Test Loss: 0.07230213108062744 | Test Accuracy: 1.0%\n",
            "Epoch: 11 | Train Loss: 0.07204093214035034 | Train Accuracy: 0.94% | Test Loss: 0.07231783485412598 | Test Accuracy: 1.0%\n",
            "Epoch: 12 | Train Loss: 0.0720443403339386 | Train Accuracy: 0.98% | Test Loss: 0.07234139742851257 | Test Accuracy: 1.0%\n",
            "Epoch: 13 | Train Loss: 0.07204423258781432 | Train Accuracy: 0.86% | Test Loss: 0.07230240769386291 | Test Accuracy: 1.0%\n",
            "Epoch: 14 | Train Loss: 0.07204614625930786 | Train Accuracy: 0.86% | Test Loss: 0.07230332736968995 | Test Accuracy: 1.0%\n",
            "Epoch: 15 | Train Loss: 0.07204305980682373 | Train Accuracy: 0.93% | Test Loss: 0.07230381164550781 | Test Accuracy: 1.0%\n",
            "Epoch: 16 | Train Loss: 0.07204330603599549 | Train Accuracy: 0.92% | Test Loss: 0.07230544576644897 | Test Accuracy: 1.0%\n",
            "Epoch: 17 | Train Loss: 0.07204378709793091 | Train Accuracy: 0.94% | Test Loss: 0.07230442481040955 | Test Accuracy: 1.0%\n",
            "Epoch: 18 | Train Loss: 0.07204249378204346 | Train Accuracy: 0.83% | Test Loss: 0.07230652222633362 | Test Accuracy: 1.0%\n",
            "Epoch: 19 | Train Loss: 0.07204138921737671 | Train Accuracy: 0.94% | Test Loss: 0.07230225801467896 | Test Accuracy: 1.0%\n",
            "Epoch: 20 | Train Loss: 0.0720403729915619 | Train Accuracy: 0.92% | Test Loss: 0.0723029504776001 | Test Accuracy: 1.0%\n",
            "Epoch: 21 | Train Loss: 0.07204256660461426 | Train Accuracy: 0.89% | Test Loss: 0.07230529198646546 | Test Accuracy: 1.0%\n",
            "Epoch: 22 | Train Loss: 0.07204244013786316 | Train Accuracy: 0.89% | Test Loss: 0.07230442419052124 | Test Accuracy: 1.0%\n",
            "Epoch: 23 | Train Loss: 0.07204453566551208 | Train Accuracy: 0.87% | Test Loss: 0.07230910911560058 | Test Accuracy: 1.0%\n",
            "Epoch: 24 | Train Loss: 0.07204221899032592 | Train Accuracy: 0.98% | Test Loss: 0.07230959477424621 | Test Accuracy: 1.0%\n",
            "Epoch: 25 | Train Loss: 0.07204296243667603 | Train Accuracy: 0.89% | Test Loss: 0.07230369601249695 | Test Accuracy: 1.0%\n",
            "Epoch: 26 | Train Loss: 0.07204155882835388 | Train Accuracy: 0.89% | Test Loss: 0.07230618686676026 | Test Accuracy: 1.0%\n",
            "Epoch: 27 | Train Loss: 0.07204609699249268 | Train Accuracy: 0.86% | Test Loss: 0.07230198221206666 | Test Accuracy: 1.0%\n",
            "Epoch: 28 | Train Loss: 0.07204186443328857 | Train Accuracy: 1.02% | Test Loss: 0.0723031310081482 | Test Accuracy: 1.0%\n",
            "Epoch: 29 | Train Loss: 0.07204424482345581 | Train Accuracy: 0.98% | Test Loss: 0.07230467052459717 | Test Accuracy: 1.0%\n",
            "Epoch: 30 | Train Loss: 0.0720404697418213 | Train Accuracy: 0.91% | Test Loss: 0.07230283513069152 | Test Accuracy: 1.0%\n",
            "Epoch: 31 | Train Loss: 0.07204152806282044 | Train Accuracy: 0.96% | Test Loss: 0.07231949887275696 | Test Accuracy: 1.0%\n",
            "Epoch: 32 | Train Loss: 0.07203523874282837 | Train Accuracy: 0.97% | Test Loss: 0.07230337266921998 | Test Accuracy: 1.0%\n",
            "Epoch: 33 | Train Loss: 0.07202876842498779 | Train Accuracy: 0.92% | Test Loss: 0.0723018427848816 | Test Accuracy: 1.0%\n",
            "Epoch: 34 | Train Loss: 0.07202730843544006 | Train Accuracy: 0.93% | Test Loss: 0.07230139813423157 | Test Accuracy: 1.0%\n",
            "Epoch: 35 | Train Loss: 0.0720269944858551 | Train Accuracy: 0.94% | Test Loss: 0.07230121808052063 | Test Accuracy: 1.0%\n",
            "Epoch: 36 | Train Loss: 0.07202555399894714 | Train Accuracy: 1.01% | Test Loss: 0.07230124802589416 | Test Accuracy: 1.0%\n",
            "Epoch: 37 | Train Loss: 0.07202680115699768 | Train Accuracy: 1.0% | Test Loss: 0.07230119318962097 | Test Accuracy: 1.0%\n",
            "Epoch: 38 | Train Loss: 0.07202580690383911 | Train Accuracy: 0.95% | Test Loss: 0.07230122537612915 | Test Accuracy: 1.0%\n",
            "Epoch: 39 | Train Loss: 0.07202673016548157 | Train Accuracy: 0.92% | Test Loss: 0.07230114912986756 | Test Accuracy: 1.0%\n",
            "Epoch: 40 | Train Loss: 0.07202651099205017 | Train Accuracy: 0.86% | Test Loss: 0.07230113468170166 | Test Accuracy: 1.0%\n",
            "Epoch: 41 | Train Loss: 0.07202638840675354 | Train Accuracy: 0.96% | Test Loss: 0.07230115313529968 | Test Accuracy: 1.0%\n",
            "Epoch: 42 | Train Loss: 0.07202665916442871 | Train Accuracy: 0.89% | Test Loss: 0.07230111227035523 | Test Accuracy: 1.0%\n",
            "Epoch: 43 | Train Loss: 0.07202672684669495 | Train Accuracy: 0.91% | Test Loss: 0.07230113220214844 | Test Accuracy: 1.0%\n",
            "Epoch: 44 | Train Loss: 0.0720267578792572 | Train Accuracy: 1.0% | Test Loss: 0.07230112137794495 | Test Accuracy: 1.0%\n",
            "Epoch: 45 | Train Loss: 0.07202653373718261 | Train Accuracy: 0.91% | Test Loss: 0.07230116386413574 | Test Accuracy: 1.0%\n",
            "Epoch: 46 | Train Loss: 0.07202660146713256 | Train Accuracy: 0.87% | Test Loss: 0.07230116539001465 | Test Accuracy: 1.0%\n",
            "Epoch: 47 | Train Loss: 0.0720262852191925 | Train Accuracy: 0.94% | Test Loss: 0.07230115146636963 | Test Accuracy: 1.0%\n",
            "Epoch: 48 | Train Loss: 0.07202612546920777 | Train Accuracy: 0.93% | Test Loss: 0.07230116963386536 | Test Accuracy: 1.0%\n",
            "Epoch: 49 | Train Loss: 0.0720265174293518 | Train Accuracy: 0.9% | Test Loss: 0.0723011242389679 | Test Accuracy: 1.0%\n"
          ],
          "name": "stdout"
        }
      ]
    },
    {
      "cell_type": "code",
      "metadata": {
        "id": "-qWMbymw6rlZ",
        "colab_type": "code",
        "colab": {
          "base_uri": "https://localhost:8080/",
          "height": 1000
        },
        "outputId": "a9185a3e-c604-42d9-97da-6562e6c9c4ec"
      },
      "source": [
        "import matplotlib.pyplot as plt\n",
        "\n",
        "fig1, ax1=  plt.subplots()\n",
        "plt.grid()\n",
        "ax1.plot(trainAcc_nbn,marker='o', markerfacecolor='red', markersize=5, color='orange', linewidth=4)\n",
        "ax1.plot(testAcc_nbn,marker='o', markerfacecolor='red', markersize=5, color='blue', linewidth=4)\n",
        "plt.gca().legend(('Train','Test'))\n",
        "ax1.set_title(\"Train V/S Test Accuracy\")\n",
        "ax1.set_xlabel(\"#Epochs\")\n",
        "\n",
        "fig2, ax2=  plt.subplots()\n",
        "plt.grid()\n",
        "ax2.plot(trainLoss_nbn,marker='o', markerfacecolor='red', markersize=5, color='orange', linewidth=4,label=\"Train Loss\")\n",
        "ax2.plot(testLoss_nbn,marker='o', markerfacecolor='red', markersize=5, color='blue', linewidth=4,label=\"Test Loss\")\n",
        "plt.gca().legend(('Train','Test'))\n",
        "ax2.set_title(\"Train V/S Test Loss\")\n",
        "ax2.set_xlabel(\"#Epochs\")\n",
        "\n",
        "fig3, ax3=  plt.subplots()\n",
        "plt.grid()\n",
        "ax3.plot(trainLoss_nbn,marker='o', markerfacecolor='green', markersize=5, color='yellow', linewidth=4,label=\"Train Loss\")\n",
        "ax3.set_title(\"Train Loss\")\n",
        "ax3.set_xlabel(\"#Epochs\")\n",
        "\n",
        "from sklearn.metrics import precision_recall_fscore_support, f1_score, precision_score, recall_score\n",
        "\n",
        "correct = 0\n",
        "total = 0\n",
        "with torch.no_grad():\n",
        "    for data in testloader:\n",
        "        images, labels = data[0].to(device), data[1].to(device)\n",
        "        outputs = net_nbn(images)\n",
        "        _, predicted = torch.max(outputs.data, 1)\n",
        "        total += labels.size(0)\n",
        "        correct += (predicted == labels).sum().item()\n",
        "        images = images.cpu()\n",
        "        labels = labels.cpu()\n",
        "        predicted = predicted.cpu()\n",
        "        print('F1: {}'.format(f1_score(labels, predicted, average=None)))\n",
        "        print('Precision: {}'.format(precision_score(labels, predicted,average=None)))\n",
        "        print('Recall: {}'.format(recall_score(labels, predicted,average=None)))\n",
        "        break\n",
        "\n",
        "print('Accuracy of the network on the 10000 test images: %d %%' % (\n",
        "    100 * correct / total))"
      ],
      "execution_count": 14,
      "outputs": [
        {
          "output_type": "stream",
          "text": [
            "F1: [0. 0. 0. 0. 0. 0. 0. 0. 0. 0. 0. 0. 0. 0. 0. 0. 0. 0. 0. 0. 0. 0. 0. 0.\n",
            " 0. 0. 0. 0. 0. 0. 0. 0. 0. 0. 0. 0. 0. 0. 0. 0. 0. 0. 0. 0. 0. 0. 0. 0.\n",
            " 0.]\n",
            "Precision: [0. 0. 0. 0. 0. 0. 0. 0. 0. 0. 0. 0. 0. 0. 0. 0. 0. 0. 0. 0. 0. 0. 0. 0.\n",
            " 0. 0. 0. 0. 0. 0. 0. 0. 0. 0. 0. 0. 0. 0. 0. 0. 0. 0. 0. 0. 0. 0. 0. 0.\n",
            " 0.]\n",
            "Recall: [0. 0. 0. 0. 0. 0. 0. 0. 0. 0. 0. 0. 0. 0. 0. 0. 0. 0. 0. 0. 0. 0. 0. 0.\n",
            " 0. 0. 0. 0. 0. 0. 0. 0. 0. 0. 0. 0. 0. 0. 0. 0. 0. 0. 0. 0. 0. 0. 0. 0.\n",
            " 0.]\n",
            "Accuracy of the network on the 10000 test images: 0 %\n"
          ],
          "name": "stdout"
        },
        {
          "output_type": "stream",
          "text": [
            "/usr/local/lib/python3.6/dist-packages/sklearn/metrics/_classification.py:1272: UndefinedMetricWarning: Precision is ill-defined and being set to 0.0 in labels with no predicted samples. Use `zero_division` parameter to control this behavior.\n",
            "  _warn_prf(average, modifier, msg_start, len(result))\n",
            "/usr/local/lib/python3.6/dist-packages/sklearn/metrics/_classification.py:1272: UndefinedMetricWarning: Recall is ill-defined and being set to 0.0 in labels with no true samples. Use `zero_division` parameter to control this behavior.\n",
            "  _warn_prf(average, modifier, msg_start, len(result))\n"
          ],
          "name": "stderr"
        },
        {
          "output_type": "display_data",
          "data": {
            "image/png": "[encoded data removed]",
            "text/plain": [
              "<Figure size 432x288 with 1 Axes>"
            ]
          },
          "metadata": {
            "tags": [],
            "needs_background": "light"
          }
        },
        {
          "output_type": "display_data",
          "data": {
            "image/png": "[encoded data removed]",
            "text/plain": [
              "<Figure size 432x288 with 1 Axes>"
            ]
          },
          "metadata": {
            "tags": [],
            "needs_background": "light"
          }
        },
        {
          "output_type": "display_data",
          "data": {
            "image/png": "[encoded data removed]",
            "text/plain": [
              "<Figure size 432x288 with 1 Axes>"
            ]
          },
          "metadata": {
            "tags": [],
            "needs_background": "light"
          }
        }
      ]
    },
    {
      "cell_type": "code",
      "metadata": {
        "id": "s8a57JP7mFmd",
        "colab_type": "code",
        "colab": {}
      },
      "source": [
        ""
      ],
      "execution_count": 0,
      "outputs": []
    }
  ]
}